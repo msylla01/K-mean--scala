{
  "metadata" : {
    "id" : "92ae3a5b-06ca-46ae-ba6a-50200f0c5f21",
    "name" : "3-K-means-Aims-student",
    "user_save_timestamp" : "2018-02-01T20:36:42.068Z",
    "auto_save_timestamp" : "1970-01-01T01:00:00.000Z",
    "language_info" : {
      "name" : "scala",
      "file_extension" : "scala",
      "codemirror_mode" : "text/x-scala"
    },
    "trusted" : true,
    "sparkNotebook" : null,
    "customLocalRepo" : "/tmp/repo",
    "customRepos" : [ "spartakus % default % http://dl.bintray.com/spark-clustering-notebook/maven % maven" ],
    "customDeps" : [ "com.github.haifengl % smile-scala_2.11 % 1.4.0" ],
    "customImports" : null,
    "customArgs" : null,
    "customSparkConf" : null,
    "customVars" : null
  },
  "cells" : [ {
    "metadata" : {
      "id" : "3B4D07E2D14C4EAE8E1F2118E70E7015"
    },
    "cell_type" : "markdown",
    "source" : "###First name :                                \n###Second name :"
  }, {
    "metadata" : {
      "trusted" : true,
      "input_collapsed" : false,
      "collapsed" : true,
      "id" : "57D57879261748EC8B2F7490951E158F"
    },
    "cell_type" : "code",
    "source" : [ "" ],
    "outputs" : [ ]
  }, {
    "metadata" : {
      "trusted" : true,
      "input_collapsed" : false,
      "collapsed" : false,
      "id" : "E051C0B9464D44AFBAA021689ABE1384"
    },
    "cell_type" : "code",
    "source" : [ "//import java.util.Random\n", "import smile._\n", "//import smile.io._\n", "import smile.util._\n", "import smile.math._, Math._\n", "import smile.math.distance._\n", "import smile.math.kernel._\n", "import smile.math.matrix._\n", "import smile.stat.distribution._\n", "import smile.data._\n", "import smile.interpolation._\n", "import smile.validation._\n", "import smile.association._\n", "import smile.regression._\n", "import smile.classification._\n", "import smile.feature._\n", "import smile.clustering._\n", "import smile.vq._\n", "import smile.manifold._\n", "import smile.mds._\n", "import smile.sequence._\n", "import smile.projection._\n", "import smile.nlp._\n", "import smile.plot._\n", "import java.awt.Color\n", "import smile.wavelet._\n", "// import smile.shell._" ],
    "outputs" : [ {
      "name" : "stdout",
      "output_type" : "stream",
      "text" : "import smile._\nimport smile.util._\nimport smile.math._\nimport Math._\nimport smile.math.distance._\nimport smile.math.kernel._\nimport smile.math.matrix._\nimport smile.stat.distribution._\nimport smile.data._\nimport smile.interpolation._\nimport smile.validation._\nimport smile.association._\nimport smile.regression._\nimport smile.classification._\nimport smile.feature._\nimport smile.clustering._\nimport smile.vq._\nimport smile.manifold._\nimport smile.mds._\nimport smile.sequence._\nimport smile.projection._\nimport smile.nlp._\nimport smile.plot._\nimport java.awt.Color\nimport smile.wavelet._\n"
    }, {
      "metadata" : { },
      "data" : {
        "text/html" : ""
      },
      "output_type" : "execute_result",
      "execution_count" : 1,
      "time" : "Took: 8.633s, at 2019-02-02 16:40"
    } ]
  }, {
    "metadata" : {
      "trusted" : true,
      "input_collapsed" : false,
      "collapsed" : false,
      "id" : "0281049FCF8642D8A6A321CD0FAC4A72"
    },
    "cell_type" : "code",
    "source" : [ "import org.apache.spark._\n", "import org.apache.spark.mllib.clustering.{KMeans, KMeansModel}\n", "import org.apache.spark.mllib.linalg.Vectors\n", "import org.apache.spark.mllib.stat.{MultivariateStatisticalSummary, Statistics}\n", "import org.apache.spark.mllib.clustering.GaussianMixture\n", "import org.apache.spark.mllib.feature.Normalizer\n", "import org.apache.spark.mllib.util.MLUtils\n", "import org.apache.spark.mllib.util.random\n", "import Array._" ],
    "outputs" : [ {
      "name" : "stdout",
      "output_type" : "stream",
      "text" : "import org.apache.spark._\nimport org.apache.spark.mllib.clustering.{KMeans, KMeansModel}\nimport org.apache.spark.mllib.linalg.Vectors\nimport org.apache.spark.mllib.stat.{MultivariateStatisticalSummary, Statistics}\nimport org.apache.spark.mllib.clustering.GaussianMixture\nimport org.apache.spark.mllib.feature.Normalizer\nimport org.apache.spark.mllib.util.MLUtils\nimport Array._\n"
    }, {
      "metadata" : { },
      "data" : {
        "text/html" : ""
      },
      "output_type" : "execute_result",
      "execution_count" : 2,
      "time" : "Took: 8.793s, at 2019-02-02 16:40"
    } ]
  }, {
    "metadata" : {
      "trusted" : true,
      "input_collapsed" : false,
      "collapsed" : false,
      "id" : "242D4AFC6F7046A38CA24E5DDFE28088"
    },
    "cell_type" : "code",
    "source" : [ "val spark = sparkSession\n", "import spark.implicits._" ],
    "outputs" : [ {
      "name" : "stdout",
      "output_type" : "stream",
      "text" : "spark: org.apache.spark.sql.SparkSession = org.apache.spark.sql.SparkSession@6c2e4fe1\nimport spark.implicits._\n"
    }, {
      "metadata" : { },
      "data" : {
        "text/html" : ""
      },
      "output_type" : "execute_result",
      "execution_count" : 1,
      "time" : "Took: 7.849s, at 2019-02-02 16:43"
    } ]
  }, {
    "metadata" : {
      "trusted" : true,
      "input_collapsed" : false,
      "collapsed" : true,
      "id" : "325FD8CB4E114C1B89CF356C01CEDBF1"
    },
    "cell_type" : "code",
    "source" : [ "" ],
    "outputs" : [ ]
  }, {
    "metadata" : {
      "id" : "7C9D1D9867444BD3AF191C4339B3818A"
    },
    "cell_type" : "markdown",
    "source" : "#K-means"
  }, {
    "metadata" : {
      "id" : "04B3F5BA3EF648898524D7C50DF6BD88"
    },
    "cell_type" : "markdown",
    "source" : "Either a set of unlabeled learning data in dimension 2 contained in the file Data1.txt One has for a set of examples to classify two characteristics. This learning set includes 132 examples that have been simulated according to 3 Gaussians.\n\n* Explain the principle, the nature and the different stages of a Kmoyennes algorithm.\n\nRun the Kmeans program to perform clustering using a k-means algorithm. By varying the number of clusters  (k = 2, 3, 5, 10, 15, 20), study the\nvariations of \"intra-inertia\". What do you notice ? What do you think ? We will make a figure for each case and a table to justify the results, we will indicate the cardinality of each group and the table of confusion.\n\n* Decision border:\nYou are asked to represent the decision boundaries in the case that has the least strong form. For this, you will need to  set 2D mesh; we propose points from -1.8 to 1.8 in steps of 0.05 for example.\n\n* A strong form is the element of the learning set that has always been classified together in several classifications (different initializations). Write a script that can find the number of strong forms and the cardinality of these forms. Determine the strong shapes for some values ​​of k (k = 2, 3, 4, 5 for example), and make 25 tests each time."
  }, {
    "metadata" : {
      "id" : "69D578A165F84DC289851E1E2B2185AA"
    },
    "cell_type" : "markdown",
    "source" : "##French"
  }, {
    "metadata" : {
      "id" : "288155DAB7D8428B8240224832EA7685"
    },
    "cell_type" : "markdown",
    "source" : "Soit un ensemble de données d’apprentissage non labellisées en dimension 2 contenues dans le fichier\nData1.mat On dispose pour un ensemble d’exemples à classer de deux caractéristiques. Cet ensemble\nd'apprentissage comprend 132 exemples qui ont été simulées selon 3 gaussiennes.\n\n* Expliquer le principe de fonctionnement, la nature et les différentes étapes d’un algorithme de kmoyennes.\n\n\n* Exécuter le programme Kmeans pour effectuer une classification non supervisée des données par un algorithme des k-moyennes.  En faisant varier le nombre de groupements réalisés par l’algorithme (k=2, 3, 5, 10, 15, 20), étudier les\nvariations de « l’inertie intra ». Que remarquez-vous ? Qu’en pensez-vous ? On fera une figure pour chaque cas et un tableau pour justifier les résultats, on indiquera la cardinalité de chaque groupe et la table de confusion.\n\n\n* Frontière de décision :\nOn vous demande de représenter les frontières de décision dans le cas qui présente le moins de formes fortes de la question 3° précédente. Pour cela, vous aurez besoin de définir un ensemble constitué des points d’un maillage 2D; on vous propose les points de -1.8 à 1.8 par pas de 0.05 par exemple. \n\n\n* On appelle forme forte les éléments de l’ensemble d’apprentissage qui ont toujours été classés ensemble au cours de plusieurs classifications (initialisations différentes). Ecrire un script qui permet de trouver le nombre de formes fortes et la cardinalité de ces formes. Déterminer les formes fortes pour quelques valeurs de k (k=2, 3, 4, 5 par exemple), et faire 25 essais à chaque fois.\n\n"
  }, {
    "metadata" : {
      "id" : "FBA9008C051141079ED63E71E401A9D1"
    },
    "cell_type" : "markdown",
    "source" : "#Expliquons le principe de fonctionnement, la nature et les différentes étapes d’un algorithme de kmoyennes."
  }, {
    "metadata" : {
      "id" : "360E46214440469A89E6FBF1BE264105"
    },
    "cell_type" : "markdown",
    "source" : "#K-MEANS"
  }, {
    "metadata" : {
      "id" : "87D81B942AA749A2A242AD7C79232A2F"
    },
    "cell_type" : "markdown",
    "source" : "Le terme « k-means » a été utilisé pour la première fois par James MacQueen en 1967, bien que l'idée origialale ait été proposée par Hugo Steinhaus en 1957. L'algorithme classique a été proposé par Stuart Lloyd en 1957 à des fins de modulation d'impulsion codée, mais il n'a pas été publié en dehors des Bell Labs avant 1982. En 1965, E. W. Forgy publia une méthode essentiellement similaire, raison pour laquelle elle est parfois appelée « méthode de Lloyd-Forgy » .\n\nK-means est un algorithme non supervisé de clustering non hiérarchique. Il permet de regrouper en K clusters distincts les observations du data set. Ainsi les données similaires se retrouveront dans un même cluster. Par ailleurs, une observation ne peut se retrouver que dans un cluster à la fois (exclusivité d’appartenance). Une même observation, ne pourra donc, appartenir à deux clusters différents.\n"
  }, {
    "metadata" : {
      "id" : "A466718DEE744ED7926213D78D543038"
    },
    "cell_type" : "markdown",
    "source" : "#Nature et Principe de Fonctionnement d’un algorithme de kmoyennes"
  }, {
    "metadata" : {
      "id" : "1C53C3D2B0524C7B920F84E651ACA14A"
    },
    "cell_type" : "markdown",
    "source" : "k-means est un algorithme itératif qui minimise la somme des distances entre chaque individu et le centroïd. Le choix initial des centroïdes conditionne le résultat final. Admettant un nuage d’un ensemble de points, K-Means change les points de chaque cluster jusqu’à ce que la somme ne puisse plus diminuer. Le résultat est un ensemble de clusters compacts et clairement séparés, sous réserve de choisir la bonne valeur K du nombre de clusters .\n\nL'algorithme du k-means travaille avec les centres de gravité des groupes. Seulement voilà, au départ, on ne connaît pas les groupes ! On ne peut donc pas connaître leur centre de gravité (que l'on appelle souvent des centroïdes). Mais ce n'est pas grave : on va supposer qu'on les connaît quand même, et les placer aléatoirement dans l'espace. Enfin... pas trop aléatoirement quand même : on va plutôt \"piocher\" au hasard des points qui font partie du nuage, pour y placer les centroïdes.\n\nUne fois les centroïdes placés, on prend chaque point du nuage et on lui associe le cluster du centroïde dont il est le plus proche. On obtient donc un nuage de points dont chaque point appartient à l'un des K groupes.\n\nUne fois cette opération faite, on calcule le centre de gravité de chaque groupe. Pour un groupe donné, le centre de gravité n'est généralement pas exactement au même endroit que là où l'on avait placé le centroïde initialement. On déplace donc ce centroïde sur le nouveau centre de gravité calculé.\n\nMais comme le centroïde a bougé, il faut recalculer, pour chacun des points du nuage, quel est le centroïde le plus proche, pour l'associer au bon cluster. Puis on recalcule le nouveau centre de gravité, et ainsi de suite... jusqu'à la convergence de l'algorithme.\n"
  }, {
    "metadata" : {
      "id" : "DB2FCB2AF82449919596B3A675F32D3F"
    },
    "cell_type" : "markdown",
    "source" : "#Les différentes étapes d’un algorithme de kmoyennes"
  }, {
    "metadata" : {
      "id" : "690119D352194C9B830114F55662529B"
    },
    "cell_type" : "markdown",
    "source" : "\n\n 1.Entrée : X (n obs., p variables), K #classes.\n\n   -K le nombre de cluster à former\n   -Le Training Set (matrice de données)\n\n\n   (Peut être K individus choisis au hasard. Ou encore, K moyennes calculées à partir d’une partition au hasard\n   Algorithme particulièrement simple des individus en K groupes).\n\n 2. DEBUT :\n\n   Choisir aléatoirement K points (une ligne de la matrice de données). Ces points sont les centres des clusters\n   (nommé centroïd).\n\n 3. Répéter :\n\n   -Allocation. Affecter chaque individu à la classe dont le centre est le plus proche.\n\n   (Variante MacQueen : remettre à jour les centres de classes à chaque individu traité. Accélère la convergence,\n   mais le résultat dépend de l’ordre des individus).\n\n   -Représentation. Recalculer les centres de classes à partir des individus rattachés.\n\n   (Propriété fondamentale : l’inertie intra-classe diminue à chaque étape (nouvelles valeurs des barycentres\n   conditionnels Gk)\n\n 4. JUSQU’À Convergence\n\n   (Nombre d’itérations fixé Ou aucun individu ne change de classe Ou encore lorsque W ne diminue plus Ou lorsque\n   les Gk sont stables)\n\n 5. Sortie :\n\n   Une partition des individus caractérisée par les K centres de classes Gk\n\n\nNote: La convergence de l’algorithme K-Means peut être l’une des conditions suivantes :\n\n   -Un nombre d’itérations fixé à l’avance, dans ce cas, K-means effectuera les itérations et s’arrêtera peu\n   importe la forme de clusters composés. -Stabilisation des centres de clusters (les centroids ne bougent plus\n   lors des itérations).\n"
  }, {
    "metadata" : {
      "presentation" : {
        "tabs_state" : "{\n  \"tab_id\": \"#tab1214866995-0\"\n}",
        "pivot_chart_state" : "{\n  \"hiddenAttributes\": [],\n  \"menuLimit\": 200,\n  \"cols\": [],\n  \"rows\": [],\n  \"vals\": [],\n  \"exclusions\": {},\n  \"inclusions\": {},\n  \"unusedAttrsVertical\": 85,\n  \"autoSortUnusedAttrs\": false,\n  \"inclusionsInfo\": {},\n  \"aggregatorName\": \"Count\",\n  \"rendererName\": \"Table\"\n}"
      },
      "id" : "C0E241F99D1C428984A53DD872C44AB9"
    },
    "cell_type" : "markdown",
    "source" : "\n#Load Data in RDD"
  }, {
    "metadata" : {
      "trusted" : true,
      "input_collapsed" : false,
      "collapsed" : false,
      "id" : "2696C4C1DDB6497586368DED1054461E"
    },
    "cell_type" : "code",
    "source" : [ ":sh wget https://sites.google.com/site/lebbah/datatp/Data1.txt -O /tmp/Data1.txt\n" ],
    "outputs" : [ {
      "name" : "stdout",
      "output_type" : "stream",
      "text" : "--2019-02-02 16:43:11--  https://sites.google.com/site/lebbah/datatp/Data1.txt\nRésolution de sites.google.com (sites.google.com)… 216.58.204.110, 2a00:1450:4007:80f::200e\nConnexion à sites.google.com (sites.google.com)|216.58.204.110|:443… connecté.\nrequête HTTP transmise, en attente de la réponse… 302 Moved Temporarily\nEmplacement : https://sites.google.com/site/lebbah/datatp/Data1.txt?attredirects=0 [suivant]\n--2019-02-02 16:43:12--  https://sites.google.com/site/lebbah/datatp/Data1.txt?attredirects=0\nRéutilisation de la connexion existante à sites.google.com:443.\nrequête HTTP transmise, en attente de la réponse… 302 Moved Temporarily\nEmplacement : https://82568e45-a-62cb3a1a-s-sites.googlegroups.com/site/lebbah/datatp/Data1.txt?attachauth=ANoY7crh3Z0GlOsnQ0So5SksRAbmZlF1fh6H9KbEX5IfRBwcvuZhJGa_Nl2ZlMZYZA9IOZfj-SNy2PiG_fHlW-extQnw7F9PfSTzu5I1ztUrV3JiV8mG2U8SRUKAaHi8cLQL98mtuKwqnylx4AB1Fr8ajlfRflhrChl8vTsNkmICVHJmGEwjdPvOytL2L735jELO1UDljYeL6Hp-_2Zfg0Y9qMcs63Ge9w%3D%3D&attredirects=0 [suivant]\n--2019-02-02 16:43:12--  https://82568e45-a-62cb3a1a-s-sites.googlegroups.com/site/lebbah/datatp/Data1.txt?attachauth=ANoY7crh3Z0GlOsnQ0So5SksRAbmZlF1fh6H9KbEX5IfRBwcvuZhJGa_Nl2ZlMZYZA9IOZfj-SNy2PiG_fHlW-extQnw7F9PfSTzu5I1ztUrV3JiV8mG2U8SRUKAaHi8cLQL98mtuKwqnylx4AB1Fr8ajlfRflhrChl8vTsNkmICVHJmGEwjdPvOytL2L735jELO1UDljYeL6Hp-_2Zfg0Y9qMcs63Ge9w%3D%3D&attredirects=0\nRésolution de 82568e45-a-62cb3a1a-s-sites.googlegroups.com (82568e45-a-62cb3a1a-s-sites.googlegroups.com)… 64.233.184.137, 2a00:1450:400c:c0b::89\nConnexion à 82568e45-a-62cb3a1a-s-sites.googlegroups.com (82568e45-a-62cb3a1a-s-sites.googlegroups.com)|64.233.184.137|:443… connecté.\nrequête HTTP transmise, en attente de la réponse… 200 OK\nTaille : non indiqué [text/plain]\nEnregistre : «/tmp/Data1.txt»\n\n     0K .                                                       697K=0,003s\n\n2019-02-02 16:43:13 (697 KB/s) - «/tmp/Data1.txt» enregistré [1968]\n\n\nimport sys.process._\n"
    }, {
      "metadata" : { },
      "data" : {
        "text/plain" : ""
      },
      "output_type" : "execute_result",
      "execution_count" : 2,
      "time" : "Took: 9.131s, at 2019-02-02 16:43"
    } ]
  }, {
    "metadata" : {
      "trusted" : true,
      "input_collapsed" : false,
      "collapsed" : false,
      "id" : "0B8AB7CF02164BD783BCD51FF821ADE1"
    },
    "cell_type" : "code",
    "source" : [ "//val chemin =\"/Users/lebbah/Drive/MesDoc/dataset/txtFiles/\"\n", "val chemin =\"/tmp/\"\n", "val data = read.table(chemin+\"Data1.txt\")\n", "val X =data.unzip\n" ],
    "outputs" : [ {
      "name" : "stdout",
      "output_type" : "stream",
      "text" : "chemin: String = /tmp/\ndata: smile.data.AttributeDataset = smile.data.AttributeDataset@4b582bba\nX: Array[Array[Double]] = Array(Array(0.5541, 0.2389), Array(-0.4038, 0.1031), Array(0.664, -0.4733), Array(-0.178, 0.578), Array(-1.1749, 0.1001), Array(0.1761, -0.9608), Array(0.2424, -0.6561), Array(0.8849, 0.5437), Array(0.9372, 0.5496), Array(0.2074, -0.8556), Array(0.4397, 1.0261), Array(0.7996, 0.31), Array(-1.0168, 0.1242), Array(-0.5295, -0.6514), Array(0.6749, -0.0462), Array(-0.6814, 0.3002), Array(-0.2367, -0.7864), Array(-0.918, 0.8609), Array(-0.3973, -1.011), Array(0.6959, -0.0057), Array(-0.3024, 0.8827), Array(1.0796, 0.6179), Array(-0.0255, -0.7663), Array(0.0692, -0.8456), Array(0.2568, 1.2286), Array(0.639, 0.7518), Array(-0.3161, -0.44), Array(0.9937, 0.18), Array(-0.2516..."
    }, {
      "metadata" : { },
      "data" : {
        "text/html" : ""
      },
      "output_type" : "execute_result",
      "execution_count" : 1,
      "time" : "Took: 4.174s, at 2019-02-02 16:47"
    } ]
  }, {
    "metadata" : {
      "id" : "7C537EF0CC09432A80587F30599599E9"
    },
    "cell_type" : "markdown",
    "source" : ""
  }, {
    "metadata" : {
      "trusted" : true,
      "input_collapsed" : false,
      "collapsed" : true,
      "id" : "1FE006F9F2144F468A42717AD91C7623"
    },
    "cell_type" : "markdown",
    "source" : "Exécuter le programme Kmeans pour effectuer une classification non supervisée des données par un algorithme des\nk-moyennes. En faisant varier le nombre de groupements réalisés par l’algorithme (k=2, 3, 5, 10, 15, 20),\nétudier les variations de « l’inertie intra ». Que remarquez-vous ? Qu’en pensez-vous ? On fera une figure \npour chaque cas et un tableau pour justifier les résultats, on indiquera la cardinalité de chaque groupe et la \ntable de confusion."
  }, {
    "metadata" : {
      "trusted" : true,
      "input_collapsed" : false,
      "collapsed" : false,
      "id" : "A114D865481D49D8856A13601B6EBE49"
    },
    "cell_type" : "code",
    "source" : [ "val dataset = spark.sparkContext.parallelize(X)" ],
    "outputs" : [ {
      "name" : "stdout",
      "output_type" : "stream",
      "text" : "dataset: org.apache.spark.rdd.RDD[Array[Double]] = ParallelCollectionRDD[0] at parallelize at <console>:155\n"
    }, {
      "metadata" : { },
      "data" : {
        "text/html" : ""
      },
      "output_type" : "execute_result",
      "execution_count" : 2,
      "time" : "Took: 4.341s, at 2019-02-02 16:47"
    } ]
  }, {
    "metadata" : {
      "trusted" : true,
      "input_collapsed" : false,
      "collapsed" : false,
      "id" : "13D85E46ECD5412B84F83EFC05AB44E9"
    },
    "cell_type" : "code",
    "source" : [ "dataset.count()" ],
    "outputs" : [ {
      "name" : "stdout",
      "output_type" : "stream",
      "text" : "res8: Long = 132\n"
    }, {
      "metadata" : { },
      "data" : {
        "text/html" : "132"
      },
      "output_type" : "execute_result",
      "execution_count" : 3,
      "time" : "Took: 7.024s, at 2019-02-02 16:47"
    } ]
  }, {
    "metadata" : {
      "trusted" : true,
      "input_collapsed" : false,
      "collapsed" : false,
      "id" : "5512101657B1477EBA7B7AD1105CC17B"
    },
    "cell_type" : "code",
    "source" : [ "import org.apache.spark.mllib.clustering.KMeans\n", "import org.apache.spark.mllib.linalg.Vectors\n", "import org.apache.spark.mllib.util.KMeansDataGenerator\n", "import org.apache.spark.ml.feature.PCA\n", "import org.apache.spark.ml.linalg.Vectors\n", "import org.apache.spark.sql.SQLContext\n", "import smile.plot._" ],
    "outputs" : [ {
      "name" : "stdout",
      "output_type" : "stream",
      "text" : "import org.apache.spark.mllib.clustering.KMeans\nimport org.apache.spark.mllib.linalg.Vectors\nimport org.apache.spark.mllib.util.KMeansDataGenerator\nimport org.apache.spark.ml.feature.PCA\nimport org.apache.spark.ml.linalg.Vectors\nimport org.apache.spark.sql.SQLContext\nimport smile.plot._\n"
    }, {
      "metadata" : { },
      "data" : {
        "text/html" : ""
      },
      "output_type" : "execute_result",
      "execution_count" : 4,
      "time" : "Took: 3.331s, at 2019-02-02 16:48"
    } ]
  }, {
    "metadata" : {
      "trusted" : true,
      "input_collapsed" : false,
      "collapsed" : false,
      "id" : "C29E240A9743476B964362FA19CDA777"
    },
    "cell_type" : "code",
    "source" : [ "\n", "\n", "val dataPCA = dataset.map(x=>Tuple1.apply(Vectors.dense(x.map(_.toDouble)))).toDF(\"features\")\n", "                           \n", "\n", "dataPCA.show(5)" ],
    "outputs" : [ {
      "name" : "stdout",
      "output_type" : "stream",
      "text" : "+----------------+\n|        features|\n+----------------+\n| [0.5541,0.2389]|\n|[-0.4038,0.1031]|\n| [0.664,-0.4733]|\n|  [-0.178,0.578]|\n|[-1.1749,0.1001]|\n+----------------+\nonly showing top 5 rows\n\ndataPCA: org.apache.spark.sql.DataFrame = [features: vector]\n"
    }, {
      "metadata" : { },
      "data" : {
        "text/html" : ""
      },
      "output_type" : "execute_result",
      "execution_count" : 5,
      "time" : "Took: 10.886s, at 2019-02-02 16:48"
    } ]
  }, {
    "metadata" : {
      "trusted" : true,
      "input_collapsed" : false,
      "collapsed" : false,
      "id" : "889DBB8FD5B24F86810C370E741651A7"
    },
    "cell_type" : "code",
    "source" : [ "val nbDimprojectedOn = 2\n", "\n", "val pca = new PCA()\n", ".setInputCol(\"features\")\n", ".setOutputCol(\"pcaFeatures\")\n", "  .setK(nbDimprojectedOn)\n", "  .fit(dataPCA)\n", "\n", "val result = pca.transform(dataPCA).select(\"pcaFeatures\")\n", "result.show(false)" ],
    "outputs" : [ {
      "name" : "stdout",
      "output_type" : "stream",
      "text" : "+-------------------------------------------+\n|pcaFeatures                                |\n+-------------------------------------------+\n|[-0.5880825509525374,0.13512562031367814]  |\n|[0.3786067974419422,0.17418651764920304]   |\n|[-0.5678269616885345,-0.5852191312487722]  |\n|[0.07091545915811465,0.600615515660721]    |\n|[1.1376210690652515,0.31020690388647754]   |\n|[-5.655736437501502E-5,-0.9768049174739369]|\n|[-0.12018539051508138,-0.6890431350116897] |\n|[-0.9683983425714238,0.3753163333841458]   |\n|[-1.0209052801939786,0.3716939720684933]   |\n|[-0.04980367243690631,-0.8789685513212618] |\n|[-0.6174286777718954,0.9300532930240338]   |\n|[-0.8423765789241477,0.1608162282857331]   |\n|[0.9777664675866052,0.30541875329326357]   |\n|[0.638228051327028,-0.545304652922845]     |\n|[-0.6555224466915823,-0.16707714351006123] |\n|[0.6161389395899547,0.4180894726263341]    |\n|[0.3745528484963753,-0.7308638817750208]   |\n|[0.7478127383399625,1.0122494348610362]    |\n|[0.573001565073925,-0.9228420755594279]    |\n|[-0.6834776816612589,-0.13102503070387234] |\n+-------------------------------------------+\nonly showing top 20 rows\n\nnbDimprojectedOn: Int = 2\npca: org.apache.spark.ml.feature.PCAModel = pca_b4c9d1412bc9\nresult: org.apache.spark.sql.DataFrame = [pcaFeatures: vector]\n"
    }, {
      "metadata" : { },
      "data" : {
        "text/html" : ""
      },
      "output_type" : "execute_result",
      "execution_count" : 6,
      "time" : "Took: 8.885s, at 2019-02-02 16:48"
    } ]
  }, {
    "metadata" : {
      "trusted" : true,
      "input_collapsed" : false,
      "collapsed" : false,
      "id" : "7B033F192F4F4EB28C545350CE7CE798"
    },
    "cell_type" : "code",
    "source" : [ "val dataToPlot = result.collect.map(_.mkString(\",\").split('[')(1).split(']')(0).split(\",\")\n", "                                    .map(_.toDouble))" ],
    "outputs" : [ {
      "name" : "stdout",
      "output_type" : "stream",
      "text" : "dataToPlot: Array[Array[Double]] = Array(Array(-0.5880825509525374, 0.13512562031367814), Array(0.3786067974419422, 0.17418651764920304), Array(-0.5678269616885345, -0.5852191312487722), Array(0.07091545915811465, 0.600615515660721), Array(1.1376210690652515, 0.31020690388647754), Array(-5.655736437501502E-5, -0.9768049174739369), Array(-0.12018539051508138, -0.6890431350116897), Array(-0.9683983425714238, 0.3753163333841458), Array(-1.0209052801939786, 0.3716939720684933), Array(-0.04980367243690631, -0.8789685513212618), Array(-0.6174286777718954, 0.9300532930240338), Array(-0.8423765789241477, 0.1608162282857331), Array(0.9777664675866052, 0.30541875329326357), Array(0.638228051327028, -0.545304652922845), Array(-0.6555224466915823, -0.16707714351006123), Array(0.6161389395899547, 0...."
    }, {
      "metadata" : { },
      "data" : {
        "text/html" : ""
      },
      "output_type" : "execute_result",
      "execution_count" : 7,
      "time" : "Took: 3.747s, at 2019-02-02 16:48"
    } ]
  }, {
    "metadata" : {
      "trusted" : true,
      "input_collapsed" : false,
      "collapsed" : false,
      "presentation" : {
        "tabs_state" : "{\n  \"tab_id\": \"#tab305704059-0\"\n}",
        "pivot_chart_state" : "{\n  \"hiddenAttributes\": [],\n  \"menuLimit\": 200,\n  \"cols\": [],\n  \"rows\": [],\n  \"vals\": [],\n  \"exclusions\": {},\n  \"inclusions\": {},\n  \"unusedAttrsVertical\": 85,\n  \"autoSortUnusedAttrs\": false,\n  \"inclusionsInfo\": {},\n  \"aggregatorName\": \"Count\",\n  \"rendererName\": \"Table\"\n}"
      },
      "id" : "9BDF1E16E2354A0A8BF71FFE21B8336F"
    },
    "cell_type" : "code",
    "source" : [ "\n", "plot(dataToPlot(100))" ],
    "outputs" : [ {
      "name" : "stdout",
      "output_type" : "stream",
      "text" : "<console>:168: error: type mismatch;\n found   : Array[Double]\n required: Array[Array[Double]]\n       plot(dataToPlot(100))\n                      ^\n"
    } ]
  }, {
    "metadata" : {
      "id" : "CAF83ECFC00743C485CCABA291496E87"
    },
    "cell_type" : "markdown",
    "source" : "#Pour chaque cas "
  }, {
    "metadata" : {
      "trusted" : true,
      "input_collapsed" : false,
      "collapsed" : false,
      "id" : "102C62283C9C4DE08B9F6417D466DB71"
    },
    "cell_type" : "code",
    "source" : [ "// Trains a k-means model.\n", "import scala.collection.mutable.ArrayBuffer\n", "import org.apache.spark.ml.clustering.KMeans\n", "val WSSSEI = ArrayBuffer[Double]()\n", "val kmeans = new KMeans()\n", "val number = List(2,3,5,10,15,20)\n", "for (n<-number){\n", " \n", "  kmeans.setK(n)\n", "  kmeans.setSeed(1L)\n", "  kmeans.setMaxIter(200)\n", "\n", "    val model_k = kmeans.fit(dataPCA)\n", "    \n", "    val WSSSE = model_k.computeCost(dataPCA)\n", "    WSSSEI += WSSSE\n", "    \n", "    println(\"For each value k =\",n,\"the Error is : \" ,WSSSE)\n", "}\n", "  /**val kmeans = new KMeans()\n", ".setK(2)\n", ".setSeed(1L)\n", ".setMaxIter(200)\n", "\n", "val model_k_2 = kmeans.fit(dataPCA)\n", "\n", "val WSSSE = model_k_2.computeCost(dataPCA)\n", "println(\"Within Set Sum of Squared Errors = $WSSSE\")**/" ],
    "outputs" : [ {
      "name" : "stdout",
      "output_type" : "stream",
      "text" : "(For each value k =,2,the Error is : ,80.93927436847744)\n(For each value k =,3,the Error is : ,40.393117467781416)\n(For each value k =,5,the Error is : ,22.867827782250263)\n(For each value k =,10,the Error is : ,11.022200362217506)\n(For each value k =,15,the Error is : ,7.9861533301153855)\n(For each value k =,20,the Error is : ,5.39355161840909)\nimport scala.collection.mutable.ArrayBuffer\nimport org.apache.spark.ml.clustering.KMeans\nWSSSEI: scala.collection.mutable.ArrayBuffer[Double] = ArrayBuffer(80.93927436847744, 40.393117467781416, 22.867827782250263, 11.022200362217506, 7.9861533301153855, 5.39355161840909)\nkmeans: org.apache.spark.ml.clustering.KMeans = kmeans_097471c431a1\nnumber: List[Int] = List(2, 3, 5, 10, 15, 20)\n"
    }, {
      "metadata" : { },
      "data" : {
        "text/html" : ""
      },
      "output_type" : "execute_result",
      "execution_count" : 1,
      "time" : "Took: 14.575s, at 2019-02-02 19:31"
    } ]
  }, {
    "metadata" : {
      "trusted" : true,
      "input_collapsed" : false,
      "collapsed" : false,
      "id" : "909708E980A74BBFABC192A9F66F3D43"
    },
    "cell_type" : "code",
    "source" : [ "" ],
    "outputs" : [ {
      "name" : "stdout",
      "output_type" : "stream",
      "text" : "<console>:177: error: type mismatch;\n found   : scala.collection.mutable.ArrayBuffer[Double]\n required: Array[Array[Double]]\n       plot(WSSSEI)\n            ^\n"
    } ]
  }, {
    "metadata" : {
      "trusted" : true,
      "input_collapsed" : false,
      "collapsed" : false,
      "presentation" : {
        "tabs_state" : "{\n  \"tab_id\": \"#tab1649033958-0\"\n}",
        "pivot_chart_state" : "{\n  \"hiddenAttributes\": [],\n  \"menuLimit\": 200,\n  \"cols\": [],\n  \"rows\": [],\n  \"vals\": [],\n  \"exclusions\": {},\n  \"inclusions\": {},\n  \"unusedAttrsVertical\": 85,\n  \"autoSortUnusedAttrs\": false,\n  \"inclusionsInfo\": {},\n  \"aggregatorName\": \"Count\",\n  \"rendererName\": \"Table\"\n}"
      },
      "id" : "42F4DC75023544F4A3029C261B040A07"
    },
    "cell_type" : "code",
    "source" : [ "\n", "\n", "val singersDF = Seq(\n", "  (\"2\", \"80.93927436847744\"),\n", "  (\"3\", \"40.393117467781416\"),\n", "  (\"5\", \"22.867827782250263\"),\n", "  (\"10\", \"11.022200362217506\"),\n", "  (\"15\", \"7.9861533301153855\"),\n", "  (\"20\", \"5.39355161840909\")\n", ").toDF(\"K\", \"WSSSE\")\n", "\n", "val actualDF = singersDF.withColumn(\n", "  \"hit_songs\",\n", "  split(col(\"hit_songs\"), \"\\\\|\")\n", ")\n", "actualDF.show()" ],
    "outputs" : [ {
      "metadata" : { },
      "data" : {
        "text/html" : ""
      },
      "output_type" : "execute_result",
      "execution_count" : 2,
      "time" : "Took: 3.112s, at 2019-02-02 19:36"
    } ]
  }, {
    "metadata" : {
      "id" : "4CDCC85370D44A099B18C6D0F2C1CDB2"
    },
    "cell_type" : "markdown",
    "source" : "#Visualisation des valeurs de WSSSE en fonction des différents K\n\npour les valeur de k chaque point correspond à une valeur de tel que K=(2,3,5,10,15,20)"
  }, {
    "metadata" : {
      "trusted" : true,
      "input_collapsed" : false,
      "collapsed" : false,
      "presentation" : {
        "tabs_state" : "{\n  \"tab_id\": \"#tab291218449-2\"\n}",
        "pivot_chart_state" : "{\n  \"hiddenAttributes\": [],\n  \"menuLimit\": 200,\n  \"cols\": [],\n  \"rows\": [],\n  \"vals\": [],\n  \"exclusions\": {},\n  \"inclusions\": {},\n  \"unusedAttrsVertical\": 85,\n  \"autoSortUnusedAttrs\": false,\n  \"inclusionsInfo\": {},\n  \"aggregatorName\": \"Count\",\n  \"rendererName\": \"Table\"\n}"
      },
      "id" : "021117199A58402684A0660DE0A5AE6D"
    },
    "cell_type" : "code",
    "source" : [ "WSSSEI" ],
    "outputs" : [ {
      "name" : "stdout",
      "output_type" : "stream",
      "text" : "res31: scala.collection.mutable.ArrayBuffer[Double] = ArrayBuffer(80.93927436847744, 40.393117467781416, 22.867827782250263, 11.022200362217506, 7.9861533301153855, 5.39355161840909)\n"
    }, {
      "metadata" : { },
      "data" : {
        "text/html" : "<div>\n      <script data-this=\"{&quot;dataId&quot;:&quot;anon1b5bf0e313f0858a03f9e31dcb04b1f5&quot;,&quot;dataInit&quot;:[],&quot;genId&quot;:&quot;291218449&quot;}\" type=\"text/x-scoped-javascript\">/*<![CDATA[*/req(['../javascripts/notebook/playground','../javascripts/notebook/magic/tabs'], \n      function(playground, _magictabs) {\n        // data ==> data-this (in observable.js's scopedEval) ==> this in JS => { dataId, dataInit, ... }\n        // this ==> scope (in observable.js's scopedEval) ==> this.parentElement ==> div.container below (toHtml)\n\n        playground.call(data,\n                        this\n                        ,\n                        {\n    \"f\": _magictabs,\n    \"o\": {}\n  }\n  \n                        \n                        \n                      );\n      }\n    );/*]]>*/</script>\n    <div>\n      <div>\n        <ul class=\"nav nav-tabs\" id=\"ul291218449\"><li>\n              <a href=\"#tab291218449-0\"><i class=\"fa fa-table\"/></a>\n            </li><li>\n              <a href=\"#tab291218449-1\"><i class=\"fa fa-dot-circle-o\"/></a>\n            </li><li>\n              <a href=\"#tab291218449-2\"><i class=\"fa fa-line-chart\"/></a>\n            </li><li>\n              <a href=\"#tab291218449-3\"><i class=\"fa fa-bar-chart\"/></a>\n            </li><li>\n              <a href=\"#tab291218449-4\"><i class=\"fa fa-cubes\"/></a>\n            </li></ul>\n\n        <div class=\"tab-content\" id=\"tab291218449\"><div class=\"tab-pane\" id=\"tab291218449-0\">\n            <div>\n      <script data-this=\"{&quot;dataId&quot;:&quot;anon8883e7de1f5d5168eed223c32f7d2f0b&quot;,&quot;dataInit&quot;:[{&quot;_1&quot;:0,&quot;_2&quot;:80.93927436847744},{&quot;_1&quot;:1,&quot;_2&quot;:40.393117467781416},{&quot;_1&quot;:2,&quot;_2&quot;:22.867827782250263},{&quot;_1&quot;:3,&quot;_2&quot;:11.022200362217506},{&quot;_1&quot;:4,&quot;_2&quot;:7.9861533301153855},{&quot;_1&quot;:5,&quot;_2&quot;:5.39355161840909}],&quot;genId&quot;:&quot;2003590222&quot;}\" type=\"text/x-scoped-javascript\">/*<![CDATA[*/req(['../javascripts/notebook/playground','../javascripts/notebook/magic/tableChart'], \n      function(playground, _magictableChart) {\n        // data ==> data-this (in observable.js's scopedEval) ==> this in JS => { dataId, dataInit, ... }\n        // this ==> scope (in observable.js's scopedEval) ==> this.parentElement ==> div.container below (toHtml)\n\n        playground.call(data,\n                        this\n                        ,\n                        {\n    \"f\": _magictableChart,\n    \"o\": {\"headers\":[\"_1\",\"_2\"],\"width\":600,\"height\":400}\n  }\n  \n                        \n                        \n                      );\n      }\n    );/*]]>*/</script>\n    <div>\n      <span class=\"chart-total-item-count\"><p data-bind=\"text: value\"><script data-this=\"{&quot;valueId&quot;:&quot;anon62ed7514b9f9aafec708f421804c5fe4&quot;,&quot;initialValue&quot;:&quot;6&quot;}\" type=\"text/x-scoped-javascript\">/*<![CDATA[*/\nreq(\n['observable', 'knockout'],\nfunction (O, ko) {\n  ko.applyBindings({\n      value: O.makeObservable(valueId, initialValue)\n    },\n    this\n  );\n});\n        /*]]>*/</script></p> entries total</span>\n      <span class=\"chart-sampling-warning\"><p data-bind=\"text: value\"><script data-this=\"{&quot;valueId&quot;:&quot;anon558a816305572ddb8f113b996b503b06&quot;,&quot;initialValue&quot;:&quot;&quot;}\" type=\"text/x-scoped-javascript\">/*<![CDATA[*/\nreq(\n['observable', 'knockout'],\nfunction (O, ko) {\n  ko.applyBindings({\n      value: O.makeObservable(valueId, initialValue)\n    },\n    this\n  );\n});\n        /*]]>*/</script></p></span>\n      <div>\n      </div>\n    </div></div>\n            </div><div class=\"tab-pane\" id=\"tab291218449-1\">\n            <div>\n      <script data-this=\"{&quot;dataId&quot;:&quot;anon642ceea3c1e82620e83197bb90200f47&quot;,&quot;dataInit&quot;:[{&quot;_1&quot;:0,&quot;_2&quot;:80.93927436847744},{&quot;_1&quot;:1,&quot;_2&quot;:40.393117467781416},{&quot;_1&quot;:2,&quot;_2&quot;:22.867827782250263},{&quot;_1&quot;:3,&quot;_2&quot;:11.022200362217506},{&quot;_1&quot;:4,&quot;_2&quot;:7.9861533301153855},{&quot;_1&quot;:5,&quot;_2&quot;:5.39355161840909}],&quot;genId&quot;:&quot;1947898197&quot;}\" type=\"text/x-scoped-javascript\">/*<![CDATA[*/req(['../javascripts/notebook/playground','../javascripts/notebook/magic/scatterChart'], \n      function(playground, _magicscatterChart) {\n        // data ==> data-this (in observable.js's scopedEval) ==> this in JS => { dataId, dataInit, ... }\n        // this ==> scope (in observable.js's scopedEval) ==> this.parentElement ==> div.container below (toHtml)\n\n        playground.call(data,\n                        this\n                        ,\n                        {\n    \"f\": _magicscatterChart,\n    \"o\": {\"x\":\"_1\",\"y\":\"_2\",\"width\":600,\"height\":400}\n  }\n  \n                        \n                        \n                      );\n      }\n    );/*]]>*/</script>\n    <div>\n      <span class=\"chart-total-item-count\"><p data-bind=\"text: value\"><script data-this=\"{&quot;valueId&quot;:&quot;anon51e2af35b71ff7a82b23a06ea41acdda&quot;,&quot;initialValue&quot;:&quot;6&quot;}\" type=\"text/x-scoped-javascript\">/*<![CDATA[*/\nreq(\n['observable', 'knockout'],\nfunction (O, ko) {\n  ko.applyBindings({\n      value: O.makeObservable(valueId, initialValue)\n    },\n    this\n  );\n});\n        /*]]>*/</script></p> entries total</span>\n      <span class=\"chart-sampling-warning\"><p data-bind=\"text: value\"><script data-this=\"{&quot;valueId&quot;:&quot;anon439ede72044e7c6a47a41e3fe74dbcba&quot;,&quot;initialValue&quot;:&quot;&quot;}\" type=\"text/x-scoped-javascript\">/*<![CDATA[*/\nreq(\n['observable', 'knockout'],\nfunction (O, ko) {\n  ko.applyBindings({\n      value: O.makeObservable(valueId, initialValue)\n    },\n    this\n  );\n});\n        /*]]>*/</script></p></span>\n      <div>\n      </div>\n    </div></div>\n            </div><div class=\"tab-pane\" id=\"tab291218449-2\">\n            <div>\n      <script data-this=\"{&quot;dataId&quot;:&quot;anon0b3914419494d53a113082b046d3b7d5&quot;,&quot;dataInit&quot;:[{&quot;_1&quot;:0,&quot;_2&quot;:80.93927436847744},{&quot;_1&quot;:1,&quot;_2&quot;:40.393117467781416},{&quot;_1&quot;:2,&quot;_2&quot;:22.867827782250263},{&quot;_1&quot;:3,&quot;_2&quot;:11.022200362217506},{&quot;_1&quot;:4,&quot;_2&quot;:7.9861533301153855},{&quot;_1&quot;:5,&quot;_2&quot;:5.39355161840909}],&quot;genId&quot;:&quot;277862727&quot;}\" type=\"text/x-scoped-javascript\">/*<![CDATA[*/req(['../javascripts/notebook/playground','../javascripts/notebook/magic/lineChart'], \n      function(playground, _magiclineChart) {\n        // data ==> data-this (in observable.js's scopedEval) ==> this in JS => { dataId, dataInit, ... }\n        // this ==> scope (in observable.js's scopedEval) ==> this.parentElement ==> div.container below (toHtml)\n\n        playground.call(data,\n                        this\n                        ,\n                        {\n    \"f\": _magiclineChart,\n    \"o\": {\"x\":\"_1\",\"y\":\"_2\",\"width\":600,\"height\":400}\n  }\n  \n                        \n                        \n                      );\n      }\n    );/*]]>*/</script>\n    <div>\n      <span class=\"chart-total-item-count\"><p data-bind=\"text: value\"><script data-this=\"{&quot;valueId&quot;:&quot;anone236b7506cb9286bb163b28cf842ede8&quot;,&quot;initialValue&quot;:&quot;6&quot;}\" type=\"text/x-scoped-javascript\">/*<![CDATA[*/\nreq(\n['observable', 'knockout'],\nfunction (O, ko) {\n  ko.applyBindings({\n      value: O.makeObservable(valueId, initialValue)\n    },\n    this\n  );\n});\n        /*]]>*/</script></p> entries total</span>\n      <span class=\"chart-sampling-warning\"><p data-bind=\"text: value\"><script data-this=\"{&quot;valueId&quot;:&quot;anon638891f8c1b6cda6629266c8d6f392de&quot;,&quot;initialValue&quot;:&quot;&quot;}\" type=\"text/x-scoped-javascript\">/*<![CDATA[*/\nreq(\n['observable', 'knockout'],\nfunction (O, ko) {\n  ko.applyBindings({\n      value: O.makeObservable(valueId, initialValue)\n    },\n    this\n  );\n});\n        /*]]>*/</script></p></span>\n      <div>\n      </div>\n    </div></div>\n            </div><div class=\"tab-pane\" id=\"tab291218449-3\">\n            <div>\n      <script data-this=\"{&quot;dataId&quot;:&quot;anon6d09a89aaf71f730f93200b059649ae8&quot;,&quot;dataInit&quot;:[{&quot;_1&quot;:0,&quot;_2&quot;:80.93927436847744},{&quot;_1&quot;:1,&quot;_2&quot;:40.393117467781416},{&quot;_1&quot;:2,&quot;_2&quot;:22.867827782250263},{&quot;_1&quot;:3,&quot;_2&quot;:11.022200362217506},{&quot;_1&quot;:4,&quot;_2&quot;:7.9861533301153855},{&quot;_1&quot;:5,&quot;_2&quot;:5.39355161840909}],&quot;genId&quot;:&quot;280678071&quot;}\" type=\"text/x-scoped-javascript\">/*<![CDATA[*/req(['../javascripts/notebook/playground','../javascripts/notebook/magic/barChart'], \n      function(playground, _magicbarChart) {\n        // data ==> data-this (in observable.js's scopedEval) ==> this in JS => { dataId, dataInit, ... }\n        // this ==> scope (in observable.js's scopedEval) ==> this.parentElement ==> div.container below (toHtml)\n\n        playground.call(data,\n                        this\n                        ,\n                        {\n    \"f\": _magicbarChart,\n    \"o\": {\"x\":\"_1\",\"y\":\"_2\",\"width\":600,\"height\":400}\n  }\n  \n                        \n                        \n                      );\n      }\n    );/*]]>*/</script>\n    <div>\n      <span class=\"chart-total-item-count\"><p data-bind=\"text: value\"><script data-this=\"{&quot;valueId&quot;:&quot;anon40305e8b124a061f4369ef266ec4dc17&quot;,&quot;initialValue&quot;:&quot;6&quot;}\" type=\"text/x-scoped-javascript\">/*<![CDATA[*/\nreq(\n['observable', 'knockout'],\nfunction (O, ko) {\n  ko.applyBindings({\n      value: O.makeObservable(valueId, initialValue)\n    },\n    this\n  );\n});\n        /*]]>*/</script></p> entries total</span>\n      <span class=\"chart-sampling-warning\"><p data-bind=\"text: value\"><script data-this=\"{&quot;valueId&quot;:&quot;anone96aa3675d81466f0fd1cb32313a0d61&quot;,&quot;initialValue&quot;:&quot;&quot;}\" type=\"text/x-scoped-javascript\">/*<![CDATA[*/\nreq(\n['observable', 'knockout'],\nfunction (O, ko) {\n  ko.applyBindings({\n      value: O.makeObservable(valueId, initialValue)\n    },\n    this\n  );\n});\n        /*]]>*/</script></p></span>\n      <div>\n      </div>\n    </div></div>\n            </div><div class=\"tab-pane\" id=\"tab291218449-4\">\n            <div>\n      <script data-this=\"{&quot;dataId&quot;:&quot;anon4c33d911d4ee1d0871f9ecc31a5f33f5&quot;,&quot;dataInit&quot;:[{&quot;_1&quot;:0,&quot;_2&quot;:80.93927436847744},{&quot;_1&quot;:1,&quot;_2&quot;:40.393117467781416},{&quot;_1&quot;:2,&quot;_2&quot;:22.867827782250263},{&quot;_1&quot;:3,&quot;_2&quot;:11.022200362217506},{&quot;_1&quot;:4,&quot;_2&quot;:7.9861533301153855},{&quot;_1&quot;:5,&quot;_2&quot;:5.39355161840909}],&quot;genId&quot;:&quot;1357284560&quot;}\" type=\"text/x-scoped-javascript\">/*<![CDATA[*/req(['../javascripts/notebook/playground','../javascripts/notebook/magic/pivotChart'], \n      function(playground, _magicpivotChart) {\n        // data ==> data-this (in observable.js's scopedEval) ==> this in JS => { dataId, dataInit, ... }\n        // this ==> scope (in observable.js's scopedEval) ==> this.parentElement ==> div.container below (toHtml)\n\n        playground.call(data,\n                        this\n                        ,\n                        {\n    \"f\": _magicpivotChart,\n    \"o\": {\"width\":600,\"height\":400,\"derivedAttributes\":{},\"extraOptions\":{}}\n  }\n  \n                        \n                        \n                      );\n      }\n    );/*]]>*/</script>\n    <div>\n      <span class=\"chart-total-item-count\"><p data-bind=\"text: value\"><script data-this=\"{&quot;valueId&quot;:&quot;anonbae0a28640a580eb093ee9bb06b6e703&quot;,&quot;initialValue&quot;:&quot;6&quot;}\" type=\"text/x-scoped-javascript\">/*<![CDATA[*/\nreq(\n['observable', 'knockout'],\nfunction (O, ko) {\n  ko.applyBindings({\n      value: O.makeObservable(valueId, initialValue)\n    },\n    this\n  );\n});\n        /*]]>*/</script></p> entries total</span>\n      <span class=\"chart-sampling-warning\"><p data-bind=\"text: value\"><script data-this=\"{&quot;valueId&quot;:&quot;anon4a610aee891888da774ab0c99f907f79&quot;,&quot;initialValue&quot;:&quot;&quot;}\" type=\"text/x-scoped-javascript\">/*<![CDATA[*/\nreq(\n['observable', 'knockout'],\nfunction (O, ko) {\n  ko.applyBindings({\n      value: O.makeObservable(valueId, initialValue)\n    },\n    this\n  );\n});\n        /*]]>*/</script></p></span>\n      <div>\n      </div>\n    </div></div>\n            </div></div>\n      </div>\n    </div></div>"
      },
      "output_type" : "execute_result",
      "execution_count" : 1,
      "time" : "Took: 4.082s, at 2019-02-02 19:39"
    } ]
  }, {
    "metadata" : {
      "trusted" : true,
      "input_collapsed" : false,
      "collapsed" : false,
      "id" : "582BEC9F792543AD8F807E213CA3BD8F"
    },
    "cell_type" : "code",
    "source" : [ "elbow <-data.frame(2:max_k, WSSSEI)" ],
    "outputs" : [ {
      "name" : "stdout",
      "output_type" : "stream",
      "text" : "<console>:3: error: ';' expected but '<-' found.\nelbow <-data.frame(2:max_k, WSSSEI)\n      ^\n"
    } ]
  }, {
    "metadata" : {
      "id" : "34EA988C7C4C429D8A439253EE775083"
    },
    "cell_type" : "markdown",
    "source" : "On remarque sur ce graphique, la forme d’un bras où le point le plus haut représente l’épaule et \nle point où K vaut 5 (5 qui correspond en realité a k=20) représente l’autre extrémité :\nla main. Le nombre optimal de clusters est le point représentant le coude. \nIci le coude peut être représenté par K v  2 cela correspond à K=5 vus léchelle. \nC’est le nombre optimal de clusters. \nGénéralement, le point du coude est celui du nombre de clusters à partir du quel la variance\nne se réduit plus significativement. En effet, la “chute” de la courbe de variance  (distortion) \nentre 0 et 2  (k=2 et k=5)clusters est significativement plus grande que celle entre  clusters et 20 clusters."
  }, {
    "metadata" : {
      "trusted" : true,
      "input_collapsed" : false,
      "collapsed" : true,
      "id" : "F456346E7B3B4EBB805E1F8FF7D06CA6"
    },
    "cell_type" : "code",
    "source" : [ "" ],
    "outputs" : [ ]
  }, {
    "metadata" : {
      "trusted" : true,
      "input_collapsed" : false,
      "collapsed" : false,
      "id" : "085D7A2C93C54E7F89A91FB6D6FC571F"
    },
    "cell_type" : "markdown",
    "source" : "#Etude de chaque cas \n"
  }, {
    "metadata" : {
      "id" : "25E8CF59DB374BA28F95EE8B6B50BE74"
    },
    "cell_type" : "markdown",
    "source" : "#Pour K=2"
  }, {
    "metadata" : {
      "trusted" : true,
      "input_collapsed" : false,
      "collapsed" : false,
      "id" : "0EED5D971F4447FDBCEB276A54FE9FD5"
    },
    "cell_type" : "code",
    "source" : [ "val kmeans = new KMeans()\n", ".setK(2)\n", ".setSeed(1L)\n", ".setMaxIter(200)\n", "\n", "val model_k_2 = kmeans.fit(dataPCA)\n", "\n", "val WSSSE = model_k_2.computeCost(dataPCA)\n", "//println(\"Within Set Sum of Squared Errors = $WSSSE\")" ],
    "outputs" : [ {
      "name" : "stdout",
      "output_type" : "stream",
      "text" : "kmeans: org.apache.spark.ml.clustering.KMeans = kmeans_0b98d2806bfa\nmodel_k_2: org.apache.spark.ml.clustering.KMeansModel = kmeans_0b98d2806bfa\nWSSSE: Double = 80.93927436847744\n"
    }, {
      "metadata" : { },
      "data" : {
        "text/html" : ""
      },
      "output_type" : "execute_result",
      "execution_count" : 2,
      "time" : "Took: 4.238s, at 2019-02-02 19:40"
    } ]
  }, {
    "metadata" : {
      "trusted" : true,
      "input_collapsed" : false,
      "collapsed" : true,
      "id" : "F39BBDF256A3412886B10B501DA02047"
    },
    "cell_type" : "markdown",
    "source" : "#Le Centre"
  }, {
    "metadata" : {
      "trusted" : true,
      "input_collapsed" : false,
      "collapsed" : false,
      "id" : "D2AC9904964A419A86ECB9DF1F8554E1"
    },
    "cell_type" : "code",
    "source" : [ "\n", "val  centers = model_k_2.clusterCenters\n" ],
    "outputs" : [ {
      "name" : "stdout",
      "output_type" : "stream",
      "text" : "centers: Array[org.apache.spark.ml.linalg.Vector] = Array([-0.5281565789473683,-0.1399657894736842], [0.7167821428571428,0.33923571428571425])\n"
    }, {
      "metadata" : { },
      "data" : {
        "text/html" : ""
      },
      "output_type" : "execute_result",
      "execution_count" : 3,
      "time" : "Took: 2.382s, at 2019-02-02 19:40"
    } ]
  }, {
    "metadata" : {
      "trusted" : true,
      "input_collapsed" : false,
      "collapsed" : false,
      "presentation" : {
        "tabs_state" : "{\n  \"tab_id\": \"#tab1616484219-0\"\n}",
        "pivot_chart_state" : "{\n  \"hiddenAttributes\": [],\n  \"menuLimit\": 200,\n  \"cols\": [],\n  \"rows\": [],\n  \"vals\": [],\n  \"exclusions\": {},\n  \"inclusions\": {},\n  \"unusedAttrsVertical\": 85,\n  \"autoSortUnusedAttrs\": false,\n  \"inclusionsInfo\": {},\n  \"aggregatorName\": \"Count\",\n  \"rendererName\": \"Table\"\n}"
      },
      "id" : "58B0B774E9D445BD84A878679C10199F"
    },
    "cell_type" : "code",
    "source" : [ "" ],
    "outputs" : [ {
      "metadata" : { },
      "data" : {
        "text/html" : ""
      },
      "output_type" : "execute_result",
      "execution_count" : 6,
      "time" : "Took: 3.149s, at 2019-02-02 11:39"
    } ]
  }, {
    "metadata" : {
      "trusted" : true,
      "input_collapsed" : false,
      "collapsed" : false,
      "id" : "3555D8743BD7417091F75F42465E72D9"
    },
    "cell_type" : "code",
    "source" : [ "val labels = model_k_2.transform(dataPCA).select(\"prediction\").collect.map(_.getInt(0))" ],
    "outputs" : [ {
      "name" : "stdout",
      "output_type" : "stream",
      "text" : "labels: Array[Int] = Array(1, 0, 1, 0, 0, 0, 0, 1, 1, 0, 1, 1, 0, 0, 1, 0, 0, 0, 0, 1, 0, 1, 0, 0, 1, 1, 0, 1, 1, 1, 0, 0, 0, 0, 0, 0, 1, 0, 0, 1, 1, 0, 0, 1, 0, 0, 1, 1, 1, 0, 0, 0, 1, 1, 0, 0, 0, 1, 0, 1, 0, 0, 0, 1, 0, 0, 0, 0, 1, 0, 1, 1, 1, 1, 1, 0, 1, 0, 1, 0, 1, 1, 0, 1, 0, 0, 1, 0, 0, 0, 0, 0, 1, 0, 1, 1, 0, 1, 0, 1, 0, 0, 1, 1, 0, 1, 1, 0, 1, 1, 0, 0, 1, 0, 0, 0, 0, 0, 0, 0, 1, 1, 0, 1, 0, 0, 0, 0, 1, 1, 1, 0)\n"
    }, {
      "metadata" : { },
      "data" : {
        "text/html" : ""
      },
      "output_type" : "execute_result",
      "execution_count" : 4,
      "time" : "Took: 3.759s, at 2019-02-02 03:52"
    } ]
  }, {
    "metadata" : {
      "trusted" : true,
      "input_collapsed" : false,
      "collapsed" : false,
      "id" : "E1D4EB57B6B94A3FBA82636E91B38BE5"
    },
    "cell_type" : "code",
    "source" : [ "val k_true=plot(dataToPlot(centers),labels,'.', Palette.COLORS)" ],
    "outputs" : [ {
      "name" : "stdout",
      "output_type" : "stream",
      "text" : "<console>:169: error: type mismatch;\n found   : Array[org.apache.spark.ml.linalg.Vector]\n required: Int\n       val k_true=plot(dataToPlot(centers),labels,'.', Palette.COLORS)\n                                  ^\n<console>:169: error: not found: value labels\n       val k_true=plot(dataToPlot(centers),labels,'.', Palette.COLORS)\n                                           ^\n"
    } ]
  }, {
    "metadata" : {
      "id" : "82556CC89ABC404D93EA72642FD63EEB"
    },
    "cell_type" : "markdown",
    "source" : "#Cardinalité"
  }, {
    "metadata" : {
      "trusted" : true,
      "input_collapsed" : false,
      "collapsed" : false,
      "presentation" : {
        "tabs_state" : "{\n  \"tab_id\": \"#tab719771790-0\"\n}",
        "pivot_chart_state" : "{\n  \"hiddenAttributes\": [],\n  \"menuLimit\": 200,\n  \"cols\": [],\n  \"rows\": [],\n  \"vals\": [],\n  \"exclusions\": {},\n  \"inclusions\": {},\n  \"unusedAttrsVertical\": 85,\n  \"autoSortUnusedAttrs\": false,\n  \"inclusionsInfo\": {},\n  \"aggregatorName\": \"Count\",\n  \"rendererName\": \"Table\"\n}"
      },
      "id" : "8EEE58130D1243DFB6767BC1A81203F8"
    },
    "cell_type" : "code",
    "source" : [ "labels.groupBy(identity).mapValues(_.size)" ],
    "outputs" : [ {
      "name" : "stdout",
      "output_type" : "stream",
      "text" : "res154: scala.collection.immutable.Map[Int,Int] = Map(1 -> 56, 0 -> 76)\n"
    }, {
      "metadata" : { },
      "data" : {
        "text/html" : "<div>\n      <script data-this=\"{&quot;dataId&quot;:&quot;anon873c058f402736b10bd1a5c4a42c9e2b&quot;,&quot;dataInit&quot;:[],&quot;genId&quot;:&quot;719771790&quot;}\" type=\"text/x-scoped-javascript\">/*<![CDATA[*/req(['../javascripts/notebook/playground','../javascripts/notebook/magic/tabs'], \n      function(playground, _magictabs) {\n        // data ==> data-this (in observable.js's scopedEval) ==> this in JS => { dataId, dataInit, ... }\n        // this ==> scope (in observable.js's scopedEval) ==> this.parentElement ==> div.container below (toHtml)\n\n        playground.call(data,\n                        this\n                        ,\n                        {\n    \"f\": _magictabs,\n    \"o\": {}\n  }\n  \n                        \n                        \n                      );\n      }\n    );/*]]>*/</script>\n    <div>\n      <div>\n        <ul class=\"nav nav-tabs\" id=\"ul719771790\"><li>\n              <a href=\"#tab719771790-0\"><i class=\"fa fa-table\"/></a>\n            </li><li>\n              <a href=\"#tab719771790-1\"><i class=\"fa fa-dot-circle-o\"/></a>\n            </li><li>\n              <a href=\"#tab719771790-2\"><i class=\"fa fa-line-chart\"/></a>\n            </li><li>\n              <a href=\"#tab719771790-3\"><i class=\"fa fa-bar-chart\"/></a>\n            </li><li>\n              <a href=\"#tab719771790-4\"><i class=\"fa fa-cubes\"/></a>\n            </li></ul>\n\n        <div class=\"tab-content\" id=\"tab719771790\"><div class=\"tab-pane\" id=\"tab719771790-0\">\n            <div>\n      <script data-this=\"{&quot;dataId&quot;:&quot;anon1ce65d11d3f64ff21fc7e52c132cbe53&quot;,&quot;dataInit&quot;:[{&quot;_1&quot;:1,&quot;_2&quot;:56},{&quot;_1&quot;:0,&quot;_2&quot;:76}],&quot;genId&quot;:&quot;2116603763&quot;}\" type=\"text/x-scoped-javascript\">/*<![CDATA[*/req(['../javascripts/notebook/playground','../javascripts/notebook/magic/tableChart'], \n      function(playground, _magictableChart) {\n        // data ==> data-this (in observable.js's scopedEval) ==> this in JS => { dataId, dataInit, ... }\n        // this ==> scope (in observable.js's scopedEval) ==> this.parentElement ==> div.container below (toHtml)\n\n        playground.call(data,\n                        this\n                        ,\n                        {\n    \"f\": _magictableChart,\n    \"o\": {\"headers\":[\"_1\",\"_2\"],\"width\":600,\"height\":400}\n  }\n  \n                        \n                        \n                      );\n      }\n    );/*]]>*/</script>\n    <div>\n      <span class=\"chart-total-item-count\"><p data-bind=\"text: value\"><script data-this=\"{&quot;valueId&quot;:&quot;anonfb87f09f30d776aea4d3ac4e79fbc7e3&quot;,&quot;initialValue&quot;:&quot;2&quot;}\" type=\"text/x-scoped-javascript\">/*<![CDATA[*/\nreq(\n['observable', 'knockout'],\nfunction (O, ko) {\n  ko.applyBindings({\n      value: O.makeObservable(valueId, initialValue)\n    },\n    this\n  );\n});\n        /*]]>*/</script></p> entries total</span>\n      <span class=\"chart-sampling-warning\"><p data-bind=\"text: value\"><script data-this=\"{&quot;valueId&quot;:&quot;anon07535ad6463c8b45453398f313596650&quot;,&quot;initialValue&quot;:&quot;&quot;}\" type=\"text/x-scoped-javascript\">/*<![CDATA[*/\nreq(\n['observable', 'knockout'],\nfunction (O, ko) {\n  ko.applyBindings({\n      value: O.makeObservable(valueId, initialValue)\n    },\n    this\n  );\n});\n        /*]]>*/</script></p></span>\n      <div>\n      </div>\n    </div></div>\n            </div><div class=\"tab-pane\" id=\"tab719771790-1\">\n            <div>\n      <script data-this=\"{&quot;dataId&quot;:&quot;anone99f58c8244a2707c53bab28fafe6708&quot;,&quot;dataInit&quot;:[{&quot;_1&quot;:1,&quot;_2&quot;:56},{&quot;_1&quot;:0,&quot;_2&quot;:76}],&quot;genId&quot;:&quot;1658177740&quot;}\" type=\"text/x-scoped-javascript\">/*<![CDATA[*/req(['../javascripts/notebook/playground','../javascripts/notebook/magic/scatterChart'], \n      function(playground, _magicscatterChart) {\n        // data ==> data-this (in observable.js's scopedEval) ==> this in JS => { dataId, dataInit, ... }\n        // this ==> scope (in observable.js's scopedEval) ==> this.parentElement ==> div.container below (toHtml)\n\n        playground.call(data,\n                        this\n                        ,\n                        {\n    \"f\": _magicscatterChart,\n    \"o\": {\"x\":\"_1\",\"y\":\"_2\",\"width\":600,\"height\":400}\n  }\n  \n                        \n                        \n                      );\n      }\n    );/*]]>*/</script>\n    <div>\n      <span class=\"chart-total-item-count\"><p data-bind=\"text: value\"><script data-this=\"{&quot;valueId&quot;:&quot;anon9653bff3f74294420c4864f8347863f2&quot;,&quot;initialValue&quot;:&quot;2&quot;}\" type=\"text/x-scoped-javascript\">/*<![CDATA[*/\nreq(\n['observable', 'knockout'],\nfunction (O, ko) {\n  ko.applyBindings({\n      value: O.makeObservable(valueId, initialValue)\n    },\n    this\n  );\n});\n        /*]]>*/</script></p> entries total</span>\n      <span class=\"chart-sampling-warning\"><p data-bind=\"text: value\"><script data-this=\"{&quot;valueId&quot;:&quot;anonb2ece489864ef453db267df84f3ecd9b&quot;,&quot;initialValue&quot;:&quot;&quot;}\" type=\"text/x-scoped-javascript\">/*<![CDATA[*/\nreq(\n['observable', 'knockout'],\nfunction (O, ko) {\n  ko.applyBindings({\n      value: O.makeObservable(valueId, initialValue)\n    },\n    this\n  );\n});\n        /*]]>*/</script></p></span>\n      <div>\n      </div>\n    </div></div>\n            </div><div class=\"tab-pane\" id=\"tab719771790-2\">\n            <div>\n      <script data-this=\"{&quot;dataId&quot;:&quot;anonb3823b14fa1989fd9ecb7fa4dd092b05&quot;,&quot;dataInit&quot;:[{&quot;_1&quot;:1,&quot;_2&quot;:56},{&quot;_1&quot;:0,&quot;_2&quot;:76}],&quot;genId&quot;:&quot;1045522256&quot;}\" type=\"text/x-scoped-javascript\">/*<![CDATA[*/req(['../javascripts/notebook/playground','../javascripts/notebook/magic/lineChart'], \n      function(playground, _magiclineChart) {\n        // data ==> data-this (in observable.js's scopedEval) ==> this in JS => { dataId, dataInit, ... }\n        // this ==> scope (in observable.js's scopedEval) ==> this.parentElement ==> div.container below (toHtml)\n\n        playground.call(data,\n                        this\n                        ,\n                        {\n    \"f\": _magiclineChart,\n    \"o\": {\"x\":\"_1\",\"y\":\"_2\",\"width\":600,\"height\":400}\n  }\n  \n                        \n                        \n                      );\n      }\n    );/*]]>*/</script>\n    <div>\n      <span class=\"chart-total-item-count\"><p data-bind=\"text: value\"><script data-this=\"{&quot;valueId&quot;:&quot;anonacd2f595964a28e98d1651f3343a0403&quot;,&quot;initialValue&quot;:&quot;2&quot;}\" type=\"text/x-scoped-javascript\">/*<![CDATA[*/\nreq(\n['observable', 'knockout'],\nfunction (O, ko) {\n  ko.applyBindings({\n      value: O.makeObservable(valueId, initialValue)\n    },\n    this\n  );\n});\n        /*]]>*/</script></p> entries total</span>\n      <span class=\"chart-sampling-warning\"><p data-bind=\"text: value\"><script data-this=\"{&quot;valueId&quot;:&quot;anonc01bcce1a568099f014e0939b621c09b&quot;,&quot;initialValue&quot;:&quot;&quot;}\" type=\"text/x-scoped-javascript\">/*<![CDATA[*/\nreq(\n['observable', 'knockout'],\nfunction (O, ko) {\n  ko.applyBindings({\n      value: O.makeObservable(valueId, initialValue)\n    },\n    this\n  );\n});\n        /*]]>*/</script></p></span>\n      <div>\n      </div>\n    </div></div>\n            </div><div class=\"tab-pane\" id=\"tab719771790-3\">\n            <div>\n      <script data-this=\"{&quot;dataId&quot;:&quot;anon8857051cddb1d884fcb9033f09ec75b4&quot;,&quot;dataInit&quot;:[{&quot;_1&quot;:1,&quot;_2&quot;:56},{&quot;_1&quot;:0,&quot;_2&quot;:76}],&quot;genId&quot;:&quot;1895318319&quot;}\" type=\"text/x-scoped-javascript\">/*<![CDATA[*/req(['../javascripts/notebook/playground','../javascripts/notebook/magic/barChart'], \n      function(playground, _magicbarChart) {\n        // data ==> data-this (in observable.js's scopedEval) ==> this in JS => { dataId, dataInit, ... }\n        // this ==> scope (in observable.js's scopedEval) ==> this.parentElement ==> div.container below (toHtml)\n\n        playground.call(data,\n                        this\n                        ,\n                        {\n    \"f\": _magicbarChart,\n    \"o\": {\"x\":\"_1\",\"y\":\"_2\",\"width\":600,\"height\":400}\n  }\n  \n                        \n                        \n                      );\n      }\n    );/*]]>*/</script>\n    <div>\n      <span class=\"chart-total-item-count\"><p data-bind=\"text: value\"><script data-this=\"{&quot;valueId&quot;:&quot;anon07fbffe569f9e1710ba5a69a873b1534&quot;,&quot;initialValue&quot;:&quot;2&quot;}\" type=\"text/x-scoped-javascript\">/*<![CDATA[*/\nreq(\n['observable', 'knockout'],\nfunction (O, ko) {\n  ko.applyBindings({\n      value: O.makeObservable(valueId, initialValue)\n    },\n    this\n  );\n});\n        /*]]>*/</script></p> entries total</span>\n      <span class=\"chart-sampling-warning\"><p data-bind=\"text: value\"><script data-this=\"{&quot;valueId&quot;:&quot;anonb111bf1dd2fe978682e8ff48b3e69984&quot;,&quot;initialValue&quot;:&quot;&quot;}\" type=\"text/x-scoped-javascript\">/*<![CDATA[*/\nreq(\n['observable', 'knockout'],\nfunction (O, ko) {\n  ko.applyBindings({\n      value: O.makeObservable(valueId, initialValue)\n    },\n    this\n  );\n});\n        /*]]>*/</script></p></span>\n      <div>\n      </div>\n    </div></div>\n            </div><div class=\"tab-pane\" id=\"tab719771790-4\">\n            <div>\n      <script data-this=\"{&quot;dataId&quot;:&quot;anona42b05ee7a07657ffebccc1a282ce88e&quot;,&quot;dataInit&quot;:[{&quot;_1&quot;:1,&quot;_2&quot;:56},{&quot;_1&quot;:0,&quot;_2&quot;:76}],&quot;genId&quot;:&quot;513922602&quot;}\" type=\"text/x-scoped-javascript\">/*<![CDATA[*/req(['../javascripts/notebook/playground','../javascripts/notebook/magic/pivotChart'], \n      function(playground, _magicpivotChart) {\n        // data ==> data-this (in observable.js's scopedEval) ==> this in JS => { dataId, dataInit, ... }\n        // this ==> scope (in observable.js's scopedEval) ==> this.parentElement ==> div.container below (toHtml)\n\n        playground.call(data,\n                        this\n                        ,\n                        {\n    \"f\": _magicpivotChart,\n    \"o\": {\"width\":600,\"height\":400,\"derivedAttributes\":{},\"extraOptions\":{}}\n  }\n  \n                        \n                        \n                      );\n      }\n    );/*]]>*/</script>\n    <div>\n      <span class=\"chart-total-item-count\"><p data-bind=\"text: value\"><script data-this=\"{&quot;valueId&quot;:&quot;anon89e0c4de6f11471d2e7000754f5d55c6&quot;,&quot;initialValue&quot;:&quot;2&quot;}\" type=\"text/x-scoped-javascript\">/*<![CDATA[*/\nreq(\n['observable', 'knockout'],\nfunction (O, ko) {\n  ko.applyBindings({\n      value: O.makeObservable(valueId, initialValue)\n    },\n    this\n  );\n});\n        /*]]>*/</script></p> entries total</span>\n      <span class=\"chart-sampling-warning\"><p data-bind=\"text: value\"><script data-this=\"{&quot;valueId&quot;:&quot;anond48346619d59314d5f243cc51da1d2ba&quot;,&quot;initialValue&quot;:&quot;&quot;}\" type=\"text/x-scoped-javascript\">/*<![CDATA[*/\nreq(\n['observable', 'knockout'],\nfunction (O, ko) {\n  ko.applyBindings({\n      value: O.makeObservable(valueId, initialValue)\n    },\n    this\n  );\n});\n        /*]]>*/</script></p></span>\n      <div>\n      </div>\n    </div></div>\n            </div></div>\n      </div>\n    </div></div>"
      },
      "output_type" : "execute_result",
      "execution_count" : 2,
      "time" : "Took: 4.579s, at 2019-02-02 00:28"
    } ]
  }, {
    "metadata" : {
      "trusted" : true,
      "input_collapsed" : false,
      "collapsed" : true,
      "id" : "CD3FD372409D47BFB5C0B656B1CDACED"
    },
    "cell_type" : "code",
    "source" : [ "val confu= new ConfusionMatrix(labels)" ],
    "outputs" : [ ]
  }, {
    "metadata" : {
      "trusted" : true,
      "input_collapsed" : false,
      "collapsed" : false,
      "id" : "4AC1C5B105984F85848208D4B473FE45"
    },
    "cell_type" : "markdown",
    "source" : "#Pour K=3"
  }, {
    "metadata" : {
      "trusted" : true,
      "input_collapsed" : false,
      "collapsed" : false,
      "id" : "3E940224B1674C1D9D3C5F6FB581F69A"
    },
    "cell_type" : "code",
    "source" : [ "val kmeans = new KMeans()\n", ".setK(3)\n", ".setSeed(1L)\n", ".setMaxIter(200)\n", "\n", "val model_k_3 = kmeans.fit(dataPCA)\n", "\n", "val WSSSE = model_k_3.computeCost(dataPCA)\n", "//println(\"Within Set Sum of Squared Errors = $WSSSE\")" ],
    "outputs" : [ {
      "name" : "stdout",
      "output_type" : "stream",
      "text" : "kmeans: org.apache.spark.ml.clustering.KMeans = kmeans_ba2d0d18b897\nmodel_k_3: org.apache.spark.ml.clustering.KMeansModel = kmeans_ba2d0d18b897\nWSSSE: Double = 40.39311746778141\n"
    }, {
      "metadata" : { },
      "data" : {
        "text/html" : ""
      },
      "output_type" : "execute_result",
      "execution_count" : 4,
      "time" : "Took: 5.102s, at 2019-02-02 00:23"
    } ]
  }, {
    "metadata" : {
      "trusted" : true,
      "input_collapsed" : false,
      "collapsed" : false,
      "id" : "68116E2EBCB040E08A13F5ABE9BD9E8D"
    },
    "cell_type" : "code",
    "source" : [ "val  centers_3 = model_k_3.clusterCenters\n" ],
    "outputs" : [ {
      "name" : "stdout",
      "output_type" : "stream",
      "text" : "centers_3: Array[org.apache.spark.ml.linalg.Vector] = Array([-0.2503658536585366,-0.7790048780487805], [0.8245829787234042,0.27467234042553196], [-0.6475113636363636,0.6224863636363637])\n"
    }, {
      "metadata" : { },
      "data" : {
        "text/html" : ""
      },
      "output_type" : "execute_result",
      "execution_count" : 5,
      "time" : "Took: 2.897s, at 2019-02-02 00:24"
    } ]
  }, {
    "metadata" : {
      "trusted" : true,
      "input_collapsed" : false,
      "collapsed" : false,
      "id" : "156C8B8490A94A06BCD453D4FE287B11"
    },
    "cell_type" : "code",
    "source" : [ "val labels_3 = model_k_3.transform(dataPCA).select(\"prediction\").collect.map(_.getInt(0))\n" ],
    "outputs" : [ {
      "name" : "stdout",
      "output_type" : "stream",
      "text" : "labels_3: Array[Int] = Array(1, 2, 1, 2, 2, 0, 0, 1, 1, 0, 1, 1, 2, 0, 1, 2, 0, 2, 0, 1, 2, 1, 0, 0, 2, 1, 0, 1, 2, 1, 2, 0, 0, 2, 0, 2, 1, 2, 2, 1, 1, 0, 2, 1, 2, 0, 1, 0, 1, 0, 0, 2, 1, 1, 0, 2, 0, 1, 2, 1, 2, 2, 0, 0, 0, 0, 2, 0, 1, 0, 1, 1, 1, 2, 1, 2, 1, 2, 1, 0, 1, 2, 2, 1, 2, 0, 1, 2, 0, 2, 0, 0, 1, 0, 1, 1, 0, 1, 2, 1, 0, 0, 2, 1, 0, 1, 1, 2, 1, 1, 2, 0, 2, 2, 0, 2, 0, 2, 2, 0, 1, 2, 0, 1, 2, 2, 0, 2, 1, 1, 1, 2)\n"
    }, {
      "metadata" : { },
      "data" : {
        "text/html" : ""
      },
      "output_type" : "execute_result",
      "execution_count" : 6,
      "time" : "Took: 4.256s, at 2019-02-02 00:24"
    } ]
  }, {
    "metadata" : {
      "trusted" : true,
      "input_collapsed" : false,
      "collapsed" : false,
      "id" : "8AAFF1C2565244D6B79C3AC1B7890860"
    },
    "cell_type" : "code",
    "source" : [ "plot(dataToPlot,labels_3,'.', Palette.COLORS)" ],
    "outputs" : [ {
      "name" : "stdout",
      "output_type" : "stream",
      "text" : "res131: smile.plot.Window = Window(javax.swing.JFrame[frame4,300,0,1000x1000,invalid,layout=java.awt.BorderLayout,title=Smile Plot 5,resizable,normal,defaultCloseOperation=DISPOSE_ON_CLOSE,rootPane=javax.swing.JRootPane[,5,25,990x970,invalid,layout=javax.swing.JRootPane$RootLayout,alignmentX=0.0,alignmentY=0.0,border=,flags=16777673,maximumSize=,minimumSize=,preferredSize=],rootPaneCheckingEnabled=true],smile.plot.PlotCanvas[,0,0,0x0,invalid,layout=java.awt.BorderLayout,alignmentX=0.0,alignmentY=0.0,border=,flags=9,maximumSize=,minimumSize=,preferredSize=])\n"
    }, {
      "metadata" : { },
      "data" : {
        "text/html" : "Window(javax.swing.JFrame[frame4,300,25,1000x1000,layout=java.awt.BorderLayout,title=Smile Plot 5,resizable,normal,defaultCloseOperation=DISPOSE_ON_CLOSE,rootPane=javax.swing.JRootPane[,3,29,994x968,layout=javax.swing.JRootPane$RootLayout,alignmentX=0.0,alignmentY=0.0,border=,flags=16777673,maximumSize=,minimumSize=,preferredSize=],rootPaneCheckingEnabled=true],smile.plot.PlotCanvas[,0,0,994x968,layout=java.awt.BorderLayout,alignmentX=0.0,alignmentY=0.0,border=,flags=9,maximumSize=,minimumSize=,preferredSize=])"
      },
      "output_type" : "execute_result",
      "execution_count" : 7,
      "time" : "Took: 4.067s, at 2019-02-02 00:24"
    } ]
  }, {
    "metadata" : {
      "id" : "443D0DE402B84035992F6FF34A30A99D"
    },
    "cell_type" : "markdown",
    "source" : "#Cardinalité"
  }, {
    "metadata" : {
      "trusted" : true,
      "input_collapsed" : false,
      "collapsed" : false,
      "presentation" : {
        "tabs_state" : "{\n  \"tab_id\": \"#tab619845989-0\"\n}",
        "pivot_chart_state" : "{\n  \"hiddenAttributes\": [],\n  \"menuLimit\": 200,\n  \"cols\": [],\n  \"rows\": [],\n  \"vals\": [],\n  \"exclusions\": {},\n  \"inclusions\": {},\n  \"unusedAttrsVertical\": 85,\n  \"autoSortUnusedAttrs\": false,\n  \"inclusionsInfo\": {},\n  \"aggregatorName\": \"Count\",\n  \"rendererName\": \"Table\"\n}"
      },
      "id" : "5D58B8781E4A4AFA81DD0353064C2D2D"
    },
    "cell_type" : "code",
    "source" : [ "labels_3.groupBy(identity).mapValues(_.size)" ],
    "outputs" : [ {
      "name" : "stdout",
      "output_type" : "stream",
      "text" : "res156: scala.collection.immutable.Map[Int,Int] = Map(2 -> 44, 1 -> 47, 0 -> 41)\n"
    }, {
      "metadata" : { },
      "data" : {
        "text/html" : "<div>\n      <script data-this=\"{&quot;dataId&quot;:&quot;anon6dfb2f07d1eae81c02a6e332464f3601&quot;,&quot;dataInit&quot;:[],&quot;genId&quot;:&quot;619845989&quot;}\" type=\"text/x-scoped-javascript\">/*<![CDATA[*/req(['../javascripts/notebook/playground','../javascripts/notebook/magic/tabs'], \n      function(playground, _magictabs) {\n        // data ==> data-this (in observable.js's scopedEval) ==> this in JS => { dataId, dataInit, ... }\n        // this ==> scope (in observable.js's scopedEval) ==> this.parentElement ==> div.container below (toHtml)\n\n        playground.call(data,\n                        this\n                        ,\n                        {\n    \"f\": _magictabs,\n    \"o\": {}\n  }\n  \n                        \n                        \n                      );\n      }\n    );/*]]>*/</script>\n    <div>\n      <div>\n        <ul class=\"nav nav-tabs\" id=\"ul619845989\"><li>\n              <a href=\"#tab619845989-0\"><i class=\"fa fa-table\"/></a>\n            </li><li>\n              <a href=\"#tab619845989-1\"><i class=\"fa fa-dot-circle-o\"/></a>\n            </li><li>\n              <a href=\"#tab619845989-2\"><i class=\"fa fa-line-chart\"/></a>\n            </li><li>\n              <a href=\"#tab619845989-3\"><i class=\"fa fa-bar-chart\"/></a>\n            </li><li>\n              <a href=\"#tab619845989-4\"><i class=\"fa fa-cubes\"/></a>\n            </li></ul>\n\n        <div class=\"tab-content\" id=\"tab619845989\"><div class=\"tab-pane\" id=\"tab619845989-0\">\n            <div>\n      <script data-this=\"{&quot;dataId&quot;:&quot;anonbabcc211ddda4e63e2d35618dd63216b&quot;,&quot;dataInit&quot;:[{&quot;_1&quot;:2,&quot;_2&quot;:44},{&quot;_1&quot;:1,&quot;_2&quot;:47},{&quot;_1&quot;:0,&quot;_2&quot;:41}],&quot;genId&quot;:&quot;1349882612&quot;}\" type=\"text/x-scoped-javascript\">/*<![CDATA[*/req(['../javascripts/notebook/playground','../javascripts/notebook/magic/tableChart'], \n      function(playground, _magictableChart) {\n        // data ==> data-this (in observable.js's scopedEval) ==> this in JS => { dataId, dataInit, ... }\n        // this ==> scope (in observable.js's scopedEval) ==> this.parentElement ==> div.container below (toHtml)\n\n        playground.call(data,\n                        this\n                        ,\n                        {\n    \"f\": _magictableChart,\n    \"o\": {\"headers\":[\"_1\",\"_2\"],\"width\":600,\"height\":400}\n  }\n  \n                        \n                        \n                      );\n      }\n    );/*]]>*/</script>\n    <div>\n      <span class=\"chart-total-item-count\"><p data-bind=\"text: value\"><script data-this=\"{&quot;valueId&quot;:&quot;anonedbac53bf4260c233bfd32d14c4ec222&quot;,&quot;initialValue&quot;:&quot;3&quot;}\" type=\"text/x-scoped-javascript\">/*<![CDATA[*/\nreq(\n['observable', 'knockout'],\nfunction (O, ko) {\n  ko.applyBindings({\n      value: O.makeObservable(valueId, initialValue)\n    },\n    this\n  );\n});\n        /*]]>*/</script></p> entries total</span>\n      <span class=\"chart-sampling-warning\"><p data-bind=\"text: value\"><script data-this=\"{&quot;valueId&quot;:&quot;anon6d1eec0409f6b40a38828e56a4d84b23&quot;,&quot;initialValue&quot;:&quot;&quot;}\" type=\"text/x-scoped-javascript\">/*<![CDATA[*/\nreq(\n['observable', 'knockout'],\nfunction (O, ko) {\n  ko.applyBindings({\n      value: O.makeObservable(valueId, initialValue)\n    },\n    this\n  );\n});\n        /*]]>*/</script></p></span>\n      <div>\n      </div>\n    </div></div>\n            </div><div class=\"tab-pane\" id=\"tab619845989-1\">\n            <div>\n      <script data-this=\"{&quot;dataId&quot;:&quot;anonca1a7071dd5c7a55e6e7e44d3902f9c8&quot;,&quot;dataInit&quot;:[{&quot;_1&quot;:2,&quot;_2&quot;:44},{&quot;_1&quot;:1,&quot;_2&quot;:47},{&quot;_1&quot;:0,&quot;_2&quot;:41}],&quot;genId&quot;:&quot;2097025780&quot;}\" type=\"text/x-scoped-javascript\">/*<![CDATA[*/req(['../javascripts/notebook/playground','../javascripts/notebook/magic/scatterChart'], \n      function(playground, _magicscatterChart) {\n        // data ==> data-this (in observable.js's scopedEval) ==> this in JS => { dataId, dataInit, ... }\n        // this ==> scope (in observable.js's scopedEval) ==> this.parentElement ==> div.container below (toHtml)\n\n        playground.call(data,\n                        this\n                        ,\n                        {\n    \"f\": _magicscatterChart,\n    \"o\": {\"x\":\"_1\",\"y\":\"_2\",\"width\":600,\"height\":400}\n  }\n  \n                        \n                        \n                      );\n      }\n    );/*]]>*/</script>\n    <div>\n      <span class=\"chart-total-item-count\"><p data-bind=\"text: value\"><script data-this=\"{&quot;valueId&quot;:&quot;anonfad6ec8d38ba211e7db789c8f881d1e4&quot;,&quot;initialValue&quot;:&quot;3&quot;}\" type=\"text/x-scoped-javascript\">/*<![CDATA[*/\nreq(\n['observable', 'knockout'],\nfunction (O, ko) {\n  ko.applyBindings({\n      value: O.makeObservable(valueId, initialValue)\n    },\n    this\n  );\n});\n        /*]]>*/</script></p> entries total</span>\n      <span class=\"chart-sampling-warning\"><p data-bind=\"text: value\"><script data-this=\"{&quot;valueId&quot;:&quot;anonca1190c48e6aecadfa2078468272b0cb&quot;,&quot;initialValue&quot;:&quot;&quot;}\" type=\"text/x-scoped-javascript\">/*<![CDATA[*/\nreq(\n['observable', 'knockout'],\nfunction (O, ko) {\n  ko.applyBindings({\n      value: O.makeObservable(valueId, initialValue)\n    },\n    this\n  );\n});\n        /*]]>*/</script></p></span>\n      <div>\n      </div>\n    </div></div>\n            </div><div class=\"tab-pane\" id=\"tab619845989-2\">\n            <div>\n      <script data-this=\"{&quot;dataId&quot;:&quot;anon47ceba28201add8d9e42beb2a8f48973&quot;,&quot;dataInit&quot;:[{&quot;_1&quot;:2,&quot;_2&quot;:44},{&quot;_1&quot;:1,&quot;_2&quot;:47},{&quot;_1&quot;:0,&quot;_2&quot;:41}],&quot;genId&quot;:&quot;1921716668&quot;}\" type=\"text/x-scoped-javascript\">/*<![CDATA[*/req(['../javascripts/notebook/playground','../javascripts/notebook/magic/lineChart'], \n      function(playground, _magiclineChart) {\n        // data ==> data-this (in observable.js's scopedEval) ==> this in JS => { dataId, dataInit, ... }\n        // this ==> scope (in observable.js's scopedEval) ==> this.parentElement ==> div.container below (toHtml)\n\n        playground.call(data,\n                        this\n                        ,\n                        {\n    \"f\": _magiclineChart,\n    \"o\": {\"x\":\"_1\",\"y\":\"_2\",\"width\":600,\"height\":400}\n  }\n  \n                        \n                        \n                      );\n      }\n    );/*]]>*/</script>\n    <div>\n      <span class=\"chart-total-item-count\"><p data-bind=\"text: value\"><script data-this=\"{&quot;valueId&quot;:&quot;anone058d5b2383c58b88d28ffbb246b4092&quot;,&quot;initialValue&quot;:&quot;3&quot;}\" type=\"text/x-scoped-javascript\">/*<![CDATA[*/\nreq(\n['observable', 'knockout'],\nfunction (O, ko) {\n  ko.applyBindings({\n      value: O.makeObservable(valueId, initialValue)\n    },\n    this\n  );\n});\n        /*]]>*/</script></p> entries total</span>\n      <span class=\"chart-sampling-warning\"><p data-bind=\"text: value\"><script data-this=\"{&quot;valueId&quot;:&quot;anon354a62cf464ebe8bb53b2bae503913bf&quot;,&quot;initialValue&quot;:&quot;&quot;}\" type=\"text/x-scoped-javascript\">/*<![CDATA[*/\nreq(\n['observable', 'knockout'],\nfunction (O, ko) {\n  ko.applyBindings({\n      value: O.makeObservable(valueId, initialValue)\n    },\n    this\n  );\n});\n        /*]]>*/</script></p></span>\n      <div>\n      </div>\n    </div></div>\n            </div><div class=\"tab-pane\" id=\"tab619845989-3\">\n            <div>\n      <script data-this=\"{&quot;dataId&quot;:&quot;anon0890bf680762bec462ffa289dae261cf&quot;,&quot;dataInit&quot;:[{&quot;_1&quot;:2,&quot;_2&quot;:44},{&quot;_1&quot;:1,&quot;_2&quot;:47},{&quot;_1&quot;:0,&quot;_2&quot;:41}],&quot;genId&quot;:&quot;1174923546&quot;}\" type=\"text/x-scoped-javascript\">/*<![CDATA[*/req(['../javascripts/notebook/playground','../javascripts/notebook/magic/barChart'], \n      function(playground, _magicbarChart) {\n        // data ==> data-this (in observable.js's scopedEval) ==> this in JS => { dataId, dataInit, ... }\n        // this ==> scope (in observable.js's scopedEval) ==> this.parentElement ==> div.container below (toHtml)\n\n        playground.call(data,\n                        this\n                        ,\n                        {\n    \"f\": _magicbarChart,\n    \"o\": {\"x\":\"_1\",\"y\":\"_2\",\"width\":600,\"height\":400}\n  }\n  \n                        \n                        \n                      );\n      }\n    );/*]]>*/</script>\n    <div>\n      <span class=\"chart-total-item-count\"><p data-bind=\"text: value\"><script data-this=\"{&quot;valueId&quot;:&quot;anona16b7810d796c72fcbe25b3ad8e3d63d&quot;,&quot;initialValue&quot;:&quot;3&quot;}\" type=\"text/x-scoped-javascript\">/*<![CDATA[*/\nreq(\n['observable', 'knockout'],\nfunction (O, ko) {\n  ko.applyBindings({\n      value: O.makeObservable(valueId, initialValue)\n    },\n    this\n  );\n});\n        /*]]>*/</script></p> entries total</span>\n      <span class=\"chart-sampling-warning\"><p data-bind=\"text: value\"><script data-this=\"{&quot;valueId&quot;:&quot;anon7ee617c43803abdf29cef59c8ef70214&quot;,&quot;initialValue&quot;:&quot;&quot;}\" type=\"text/x-scoped-javascript\">/*<![CDATA[*/\nreq(\n['observable', 'knockout'],\nfunction (O, ko) {\n  ko.applyBindings({\n      value: O.makeObservable(valueId, initialValue)\n    },\n    this\n  );\n});\n        /*]]>*/</script></p></span>\n      <div>\n      </div>\n    </div></div>\n            </div><div class=\"tab-pane\" id=\"tab619845989-4\">\n            <div>\n      <script data-this=\"{&quot;dataId&quot;:&quot;anon0373ef60ccd5478d92e626fbaaa6c000&quot;,&quot;dataInit&quot;:[{&quot;_1&quot;:2,&quot;_2&quot;:44},{&quot;_1&quot;:1,&quot;_2&quot;:47},{&quot;_1&quot;:0,&quot;_2&quot;:41}],&quot;genId&quot;:&quot;1219209246&quot;}\" type=\"text/x-scoped-javascript\">/*<![CDATA[*/req(['../javascripts/notebook/playground','../javascripts/notebook/magic/pivotChart'], \n      function(playground, _magicpivotChart) {\n        // data ==> data-this (in observable.js's scopedEval) ==> this in JS => { dataId, dataInit, ... }\n        // this ==> scope (in observable.js's scopedEval) ==> this.parentElement ==> div.container below (toHtml)\n\n        playground.call(data,\n                        this\n                        ,\n                        {\n    \"f\": _magicpivotChart,\n    \"o\": {\"width\":600,\"height\":400,\"derivedAttributes\":{},\"extraOptions\":{}}\n  }\n  \n                        \n                        \n                      );\n      }\n    );/*]]>*/</script>\n    <div>\n      <span class=\"chart-total-item-count\"><p data-bind=\"text: value\"><script data-this=\"{&quot;valueId&quot;:&quot;anon825a5c80e627703a1a2cfe34bc0810ed&quot;,&quot;initialValue&quot;:&quot;3&quot;}\" type=\"text/x-scoped-javascript\">/*<![CDATA[*/\nreq(\n['observable', 'knockout'],\nfunction (O, ko) {\n  ko.applyBindings({\n      value: O.makeObservable(valueId, initialValue)\n    },\n    this\n  );\n});\n        /*]]>*/</script></p> entries total</span>\n      <span class=\"chart-sampling-warning\"><p data-bind=\"text: value\"><script data-this=\"{&quot;valueId&quot;:&quot;anon327198dd67ee01079f81b8e164957f3d&quot;,&quot;initialValue&quot;:&quot;&quot;}\" type=\"text/x-scoped-javascript\">/*<![CDATA[*/\nreq(\n['observable', 'knockout'],\nfunction (O, ko) {\n  ko.applyBindings({\n      value: O.makeObservable(valueId, initialValue)\n    },\n    this\n  );\n});\n        /*]]>*/</script></p></span>\n      <div>\n      </div>\n    </div></div>\n            </div></div>\n      </div>\n    </div></div>"
      },
      "output_type" : "execute_result",
      "execution_count" : 3,
      "time" : "Took: 4.770s, at 2019-02-02 00:29"
    } ]
  }, {
    "metadata" : {
      "trusted" : true,
      "input_collapsed" : false,
      "collapsed" : true,
      "id" : "243D36B3C1A14A5980EF295BFAE4DA72"
    },
    "cell_type" : "code",
    "source" : [ "val confu= new ConfusionMatrix(labels_3)" ],
    "outputs" : [ ]
  }, {
    "metadata" : {
      "id" : "87CD0D5030A546BE91AD856729D19825"
    },
    "cell_type" : "markdown",
    "source" : "#Pour K=5"
  }, {
    "metadata" : {
      "trusted" : true,
      "input_collapsed" : false,
      "collapsed" : false,
      "id" : "6BD7246F7CF041158C26E704509049C6"
    },
    "cell_type" : "code",
    "source" : [ "val kmeans = new KMeans()\n", ".setK(5)\n", ".setSeed(1L)\n", ".setMaxIter(200)\n", "\n", "val model_k_5 = kmeans.fit(dataPCA)\n", "\n", "val WSSSE = model_k_5.computeCost(dataPCA)\n", "//println(\"Within Set Sum of Squared Errors = $WSSSE\")" ],
    "outputs" : [ {
      "name" : "stdout",
      "output_type" : "stream",
      "text" : "kmeans: org.apache.spark.ml.clustering.KMeans = kmeans_c3a24f454a1b\nmodel_k_5: org.apache.spark.ml.clustering.KMeansModel = kmeans_c3a24f454a1b\nWSSSE: Double = 22.86782778225026\n"
    }, {
      "metadata" : { },
      "data" : {
        "text/html" : ""
      },
      "output_type" : "execute_result",
      "execution_count" : 8,
      "time" : "Took: 4.786s, at 2019-02-02 00:24"
    } ]
  }, {
    "metadata" : {
      "trusted" : true,
      "input_collapsed" : false,
      "collapsed" : false,
      "id" : "060BABD3492B40B78B2A7FE95EC5639E"
    },
    "cell_type" : "code",
    "source" : [ "val  centers_5 = model_k_5.clusterCenters\n" ],
    "outputs" : [ {
      "name" : "stdout",
      "output_type" : "stream",
      "text" : "centers_5: Array[org.apache.spark.ml.linalg.Vector] = Array([0.8903631578947367,-0.25513157894736843], [0.7088575757575757,0.6484060606060607], [-1.0225944444444444,-0.3771388888888889], [-0.029272413793103448,-0.8166172413793102], [-0.637990909090909,0.6751606060606061])\n"
    }, {
      "metadata" : { },
      "data" : {
        "text/html" : ""
      },
      "output_type" : "execute_result",
      "execution_count" : 9,
      "time" : "Took: 2.913s, at 2019-02-02 00:24"
    } ]
  }, {
    "metadata" : {
      "trusted" : true,
      "input_collapsed" : false,
      "collapsed" : false,
      "id" : "F11461E55C0B4A6E8A7FC7CF5882C54B"
    },
    "cell_type" : "code",
    "source" : [ "val labels_5 = model_k_5.transform(dataPCA).select(\"prediction\").collect.map(_.getInt(0))\n" ],
    "outputs" : [ {
      "name" : "stdout",
      "output_type" : "stream",
      "text" : "labels_5: Array[Int] = Array(1, 4, 0, 4, 2, 3, 3, 1, 1, 3, 1, 1, 2, 3, 0, 4, 3, 4, 3, 0, 4, 1, 3, 3, 1, 1, 3, 0, 4, 1, 4, 3, 3, 4, 3, 2, 0, 4, 4, 1, 1, 2, 4, 0, 4, 2, 1, 0, 1, 3, 2, 4, 0, 0, 2, 4, 3, 0, 4, 1, 4, 4, 2, 3, 3, 3, 4, 3, 1, 2, 0, 1, 1, 1, 0, 2, 1, 4, 1, 3, 0, 1, 4, 1, 4, 3, 1, 4, 3, 4, 3, 2, 1, 2, 0, 1, 3, 1, 4, 0, 3, 2, 4, 1, 3, 0, 1, 2, 1, 0, 4, 3, 4, 4, 3, 2, 3, 4, 2, 3, 1, 1, 2, 0, 4, 4, 2, 4, 0, 1, 1, 4)\n"
    }, {
      "metadata" : { },
      "data" : {
        "text/html" : ""
      },
      "output_type" : "execute_result",
      "execution_count" : 10,
      "time" : "Took: 3.703s, at 2019-02-02 00:24"
    } ]
  }, {
    "metadata" : {
      "trusted" : true,
      "input_collapsed" : false,
      "collapsed" : false,
      "id" : "EC3A6C90AD6043758D76C64BD8D50284"
    },
    "cell_type" : "code",
    "source" : [ "plot(dataToPlot,labels_5,'.', Palette.COLORS)" ],
    "outputs" : [ {
      "name" : "stdout",
      "output_type" : "stream",
      "text" : "res136: smile.plot.Window = Window(javax.swing.JFrame[frame5,300,0,1000x1000,invalid,layout=java.awt.BorderLayout,title=Smile Plot 6,resizable,normal,defaultCloseOperation=DISPOSE_ON_CLOSE,rootPane=javax.swing.JRootPane[,5,25,990x970,invalid,layout=javax.swing.JRootPane$RootLayout,alignmentX=0.0,alignmentY=0.0,border=,flags=16777673,maximumSize=,minimumSize=,preferredSize=],rootPaneCheckingEnabled=true],smile.plot.PlotCanvas[,0,0,0x0,invalid,layout=java.awt.BorderLayout,alignmentX=0.0,alignmentY=0.0,border=,flags=9,maximumSize=,minimumSize=,preferredSize=])\n"
    }, {
      "metadata" : { },
      "data" : {
        "text/html" : "Window(javax.swing.JFrame[frame5,300,25,1000x1000,layout=java.awt.BorderLayout,title=Smile Plot 6,resizable,normal,defaultCloseOperation=DISPOSE_ON_CLOSE,rootPane=javax.swing.JRootPane[,3,29,994x968,layout=javax.swing.JRootPane$RootLayout,alignmentX=0.0,alignmentY=0.0,border=,flags=16777673,maximumSize=,minimumSize=,preferredSize=],rootPaneCheckingEnabled=true],smile.plot.PlotCanvas[,0,0,994x968,layout=java.awt.BorderLayout,alignmentX=0.0,alignmentY=0.0,border=,flags=9,maximumSize=,minimumSize=,preferredSize=])"
      },
      "output_type" : "execute_result",
      "execution_count" : 11,
      "time" : "Took: 3.761s, at 2019-02-02 00:24"
    } ]
  }, {
    "metadata" : {
      "id" : "2F1AF74F0A3040788AA1286A39181110"
    },
    "cell_type" : "markdown",
    "source" : "#Cardinalité"
  }, {
    "metadata" : {
      "trusted" : true,
      "input_collapsed" : false,
      "collapsed" : false,
      "presentation" : {
        "tabs_state" : "{\n  \"tab_id\": \"#tab1522258160-0\"\n}",
        "pivot_chart_state" : "{\n  \"hiddenAttributes\": [],\n  \"menuLimit\": 200,\n  \"cols\": [],\n  \"rows\": [],\n  \"vals\": [],\n  \"exclusions\": {},\n  \"inclusions\": {},\n  \"unusedAttrsVertical\": 85,\n  \"autoSortUnusedAttrs\": false,\n  \"inclusionsInfo\": {},\n  \"aggregatorName\": \"Count\",\n  \"rendererName\": \"Table\"\n}"
      },
      "id" : "FDC998F1207B41549447DBF29FA081F1"
    },
    "cell_type" : "code",
    "source" : [ "labels_5.groupBy(identity).mapValues(_.size)" ],
    "outputs" : [ {
      "name" : "stdout",
      "output_type" : "stream",
      "text" : "res158: scala.collection.immutable.Map[Int,Int] = Map(0 -> 19, 1 -> 33, 2 -> 18, 3 -> 29, 4 -> 33)\n"
    }, {
      "metadata" : { },
      "data" : {
        "text/html" : "<div>\n      <script data-this=\"{&quot;dataId&quot;:&quot;anone5347a6151c802db3e12da6062b4a7ae&quot;,&quot;dataInit&quot;:[],&quot;genId&quot;:&quot;1522258160&quot;}\" type=\"text/x-scoped-javascript\">/*<![CDATA[*/req(['../javascripts/notebook/playground','../javascripts/notebook/magic/tabs'], \n      function(playground, _magictabs) {\n        // data ==> data-this (in observable.js's scopedEval) ==> this in JS => { dataId, dataInit, ... }\n        // this ==> scope (in observable.js's scopedEval) ==> this.parentElement ==> div.container below (toHtml)\n\n        playground.call(data,\n                        this\n                        ,\n                        {\n    \"f\": _magictabs,\n    \"o\": {}\n  }\n  \n                        \n                        \n                      );\n      }\n    );/*]]>*/</script>\n    <div>\n      <div>\n        <ul class=\"nav nav-tabs\" id=\"ul1522258160\"><li>\n              <a href=\"#tab1522258160-0\"><i class=\"fa fa-table\"/></a>\n            </li><li>\n              <a href=\"#tab1522258160-1\"><i class=\"fa fa-dot-circle-o\"/></a>\n            </li><li>\n              <a href=\"#tab1522258160-2\"><i class=\"fa fa-line-chart\"/></a>\n            </li><li>\n              <a href=\"#tab1522258160-3\"><i class=\"fa fa-bar-chart\"/></a>\n            </li><li>\n              <a href=\"#tab1522258160-4\"><i class=\"fa fa-cubes\"/></a>\n            </li></ul>\n\n        <div class=\"tab-content\" id=\"tab1522258160\"><div class=\"tab-pane\" id=\"tab1522258160-0\">\n            <div>\n      <script data-this=\"{&quot;dataId&quot;:&quot;anonc553e4266610cdd0301a31c5c27d97d4&quot;,&quot;dataInit&quot;:[{&quot;_1&quot;:0,&quot;_2&quot;:19},{&quot;_1&quot;:1,&quot;_2&quot;:33},{&quot;_1&quot;:2,&quot;_2&quot;:18},{&quot;_1&quot;:3,&quot;_2&quot;:29},{&quot;_1&quot;:4,&quot;_2&quot;:33}],&quot;genId&quot;:&quot;879071245&quot;}\" type=\"text/x-scoped-javascript\">/*<![CDATA[*/req(['../javascripts/notebook/playground','../javascripts/notebook/magic/tableChart'], \n      function(playground, _magictableChart) {\n        // data ==> data-this (in observable.js's scopedEval) ==> this in JS => { dataId, dataInit, ... }\n        // this ==> scope (in observable.js's scopedEval) ==> this.parentElement ==> div.container below (toHtml)\n\n        playground.call(data,\n                        this\n                        ,\n                        {\n    \"f\": _magictableChart,\n    \"o\": {\"headers\":[\"_1\",\"_2\"],\"width\":600,\"height\":400}\n  }\n  \n                        \n                        \n                      );\n      }\n    );/*]]>*/</script>\n    <div>\n      <span class=\"chart-total-item-count\"><p data-bind=\"text: value\"><script data-this=\"{&quot;valueId&quot;:&quot;anon373398130ceb950f28b61d755b7cb5d1&quot;,&quot;initialValue&quot;:&quot;5&quot;}\" type=\"text/x-scoped-javascript\">/*<![CDATA[*/\nreq(\n['observable', 'knockout'],\nfunction (O, ko) {\n  ko.applyBindings({\n      value: O.makeObservable(valueId, initialValue)\n    },\n    this\n  );\n});\n        /*]]>*/</script></p> entries total</span>\n      <span class=\"chart-sampling-warning\"><p data-bind=\"text: value\"><script data-this=\"{&quot;valueId&quot;:&quot;anonce065f3269859279a07849208517a223&quot;,&quot;initialValue&quot;:&quot;&quot;}\" type=\"text/x-scoped-javascript\">/*<![CDATA[*/\nreq(\n['observable', 'knockout'],\nfunction (O, ko) {\n  ko.applyBindings({\n      value: O.makeObservable(valueId, initialValue)\n    },\n    this\n  );\n});\n        /*]]>*/</script></p></span>\n      <div>\n      </div>\n    </div></div>\n            </div><div class=\"tab-pane\" id=\"tab1522258160-1\">\n            <div>\n      <script data-this=\"{&quot;dataId&quot;:&quot;anon6eeda577f9e63705ebf2a54678e1ecb0&quot;,&quot;dataInit&quot;:[{&quot;_1&quot;:0,&quot;_2&quot;:19},{&quot;_1&quot;:1,&quot;_2&quot;:33},{&quot;_1&quot;:2,&quot;_2&quot;:18},{&quot;_1&quot;:3,&quot;_2&quot;:29},{&quot;_1&quot;:4,&quot;_2&quot;:33}],&quot;genId&quot;:&quot;2094164713&quot;}\" type=\"text/x-scoped-javascript\">/*<![CDATA[*/req(['../javascripts/notebook/playground','../javascripts/notebook/magic/scatterChart'], \n      function(playground, _magicscatterChart) {\n        // data ==> data-this (in observable.js's scopedEval) ==> this in JS => { dataId, dataInit, ... }\n        // this ==> scope (in observable.js's scopedEval) ==> this.parentElement ==> div.container below (toHtml)\n\n        playground.call(data,\n                        this\n                        ,\n                        {\n    \"f\": _magicscatterChart,\n    \"o\": {\"x\":\"_1\",\"y\":\"_2\",\"width\":600,\"height\":400}\n  }\n  \n                        \n                        \n                      );\n      }\n    );/*]]>*/</script>\n    <div>\n      <span class=\"chart-total-item-count\"><p data-bind=\"text: value\"><script data-this=\"{&quot;valueId&quot;:&quot;anonad4046de7a9f5a39561022584bd330bd&quot;,&quot;initialValue&quot;:&quot;5&quot;}\" type=\"text/x-scoped-javascript\">/*<![CDATA[*/\nreq(\n['observable', 'knockout'],\nfunction (O, ko) {\n  ko.applyBindings({\n      value: O.makeObservable(valueId, initialValue)\n    },\n    this\n  );\n});\n        /*]]>*/</script></p> entries total</span>\n      <span class=\"chart-sampling-warning\"><p data-bind=\"text: value\"><script data-this=\"{&quot;valueId&quot;:&quot;anon0a9f8b26c1c1f017a3ddc9f4140a9441&quot;,&quot;initialValue&quot;:&quot;&quot;}\" type=\"text/x-scoped-javascript\">/*<![CDATA[*/\nreq(\n['observable', 'knockout'],\nfunction (O, ko) {\n  ko.applyBindings({\n      value: O.makeObservable(valueId, initialValue)\n    },\n    this\n  );\n});\n        /*]]>*/</script></p></span>\n      <div>\n      </div>\n    </div></div>\n            </div><div class=\"tab-pane\" id=\"tab1522258160-2\">\n            <div>\n      <script data-this=\"{&quot;dataId&quot;:&quot;anon2796d731e1d5a3201db1850b1e5457bd&quot;,&quot;dataInit&quot;:[{&quot;_1&quot;:0,&quot;_2&quot;:19},{&quot;_1&quot;:1,&quot;_2&quot;:33},{&quot;_1&quot;:2,&quot;_2&quot;:18},{&quot;_1&quot;:3,&quot;_2&quot;:29},{&quot;_1&quot;:4,&quot;_2&quot;:33}],&quot;genId&quot;:&quot;1686853401&quot;}\" type=\"text/x-scoped-javascript\">/*<![CDATA[*/req(['../javascripts/notebook/playground','../javascripts/notebook/magic/lineChart'], \n      function(playground, _magiclineChart) {\n        // data ==> data-this (in observable.js's scopedEval) ==> this in JS => { dataId, dataInit, ... }\n        // this ==> scope (in observable.js's scopedEval) ==> this.parentElement ==> div.container below (toHtml)\n\n        playground.call(data,\n                        this\n                        ,\n                        {\n    \"f\": _magiclineChart,\n    \"o\": {\"x\":\"_1\",\"y\":\"_2\",\"width\":600,\"height\":400}\n  }\n  \n                        \n                        \n                      );\n      }\n    );/*]]>*/</script>\n    <div>\n      <span class=\"chart-total-item-count\"><p data-bind=\"text: value\"><script data-this=\"{&quot;valueId&quot;:&quot;anona63be839aa1c73f6b3fe5cc8df04446f&quot;,&quot;initialValue&quot;:&quot;5&quot;}\" type=\"text/x-scoped-javascript\">/*<![CDATA[*/\nreq(\n['observable', 'knockout'],\nfunction (O, ko) {\n  ko.applyBindings({\n      value: O.makeObservable(valueId, initialValue)\n    },\n    this\n  );\n});\n        /*]]>*/</script></p> entries total</span>\n      <span class=\"chart-sampling-warning\"><p data-bind=\"text: value\"><script data-this=\"{&quot;valueId&quot;:&quot;anon6f104bf487e04f650f69f87ce55464ce&quot;,&quot;initialValue&quot;:&quot;&quot;}\" type=\"text/x-scoped-javascript\">/*<![CDATA[*/\nreq(\n['observable', 'knockout'],\nfunction (O, ko) {\n  ko.applyBindings({\n      value: O.makeObservable(valueId, initialValue)\n    },\n    this\n  );\n});\n        /*]]>*/</script></p></span>\n      <div>\n      </div>\n    </div></div>\n            </div><div class=\"tab-pane\" id=\"tab1522258160-3\">\n            <div>\n      <script data-this=\"{&quot;dataId&quot;:&quot;anon269f05647f8273c9d05e18a0abeb8b02&quot;,&quot;dataInit&quot;:[{&quot;_1&quot;:0,&quot;_2&quot;:19},{&quot;_1&quot;:1,&quot;_2&quot;:33},{&quot;_1&quot;:2,&quot;_2&quot;:18},{&quot;_1&quot;:3,&quot;_2&quot;:29},{&quot;_1&quot;:4,&quot;_2&quot;:33}],&quot;genId&quot;:&quot;666192168&quot;}\" type=\"text/x-scoped-javascript\">/*<![CDATA[*/req(['../javascripts/notebook/playground','../javascripts/notebook/magic/barChart'], \n      function(playground, _magicbarChart) {\n        // data ==> data-this (in observable.js's scopedEval) ==> this in JS => { dataId, dataInit, ... }\n        // this ==> scope (in observable.js's scopedEval) ==> this.parentElement ==> div.container below (toHtml)\n\n        playground.call(data,\n                        this\n                        ,\n                        {\n    \"f\": _magicbarChart,\n    \"o\": {\"x\":\"_1\",\"y\":\"_2\",\"width\":600,\"height\":400}\n  }\n  \n                        \n                        \n                      );\n      }\n    );/*]]>*/</script>\n    <div>\n      <span class=\"chart-total-item-count\"><p data-bind=\"text: value\"><script data-this=\"{&quot;valueId&quot;:&quot;anonf0cf9c5698132432947f59602b985e7d&quot;,&quot;initialValue&quot;:&quot;5&quot;}\" type=\"text/x-scoped-javascript\">/*<![CDATA[*/\nreq(\n['observable', 'knockout'],\nfunction (O, ko) {\n  ko.applyBindings({\n      value: O.makeObservable(valueId, initialValue)\n    },\n    this\n  );\n});\n        /*]]>*/</script></p> entries total</span>\n      <span class=\"chart-sampling-warning\"><p data-bind=\"text: value\"><script data-this=\"{&quot;valueId&quot;:&quot;anon29353ca16f1019bbca2bc02a46151ec1&quot;,&quot;initialValue&quot;:&quot;&quot;}\" type=\"text/x-scoped-javascript\">/*<![CDATA[*/\nreq(\n['observable', 'knockout'],\nfunction (O, ko) {\n  ko.applyBindings({\n      value: O.makeObservable(valueId, initialValue)\n    },\n    this\n  );\n});\n        /*]]>*/</script></p></span>\n      <div>\n      </div>\n    </div></div>\n            </div><div class=\"tab-pane\" id=\"tab1522258160-4\">\n            <div>\n      <script data-this=\"{&quot;dataId&quot;:&quot;anon92cd0afed70c3ac1c018bd6f9585ed4e&quot;,&quot;dataInit&quot;:[{&quot;_1&quot;:0,&quot;_2&quot;:19},{&quot;_1&quot;:1,&quot;_2&quot;:33},{&quot;_1&quot;:2,&quot;_2&quot;:18},{&quot;_1&quot;:3,&quot;_2&quot;:29},{&quot;_1&quot;:4,&quot;_2&quot;:33}],&quot;genId&quot;:&quot;1099671066&quot;}\" type=\"text/x-scoped-javascript\">/*<![CDATA[*/req(['../javascripts/notebook/playground','../javascripts/notebook/magic/pivotChart'], \n      function(playground, _magicpivotChart) {\n        // data ==> data-this (in observable.js's scopedEval) ==> this in JS => { dataId, dataInit, ... }\n        // this ==> scope (in observable.js's scopedEval) ==> this.parentElement ==> div.container below (toHtml)\n\n        playground.call(data,\n                        this\n                        ,\n                        {\n    \"f\": _magicpivotChart,\n    \"o\": {\"width\":600,\"height\":400,\"derivedAttributes\":{},\"extraOptions\":{}}\n  }\n  \n                        \n                        \n                      );\n      }\n    );/*]]>*/</script>\n    <div>\n      <span class=\"chart-total-item-count\"><p data-bind=\"text: value\"><script data-this=\"{&quot;valueId&quot;:&quot;anonea9c34ef56f0f4fb4f0337e12a5e0e25&quot;,&quot;initialValue&quot;:&quot;5&quot;}\" type=\"text/x-scoped-javascript\">/*<![CDATA[*/\nreq(\n['observable', 'knockout'],\nfunction (O, ko) {\n  ko.applyBindings({\n      value: O.makeObservable(valueId, initialValue)\n    },\n    this\n  );\n});\n        /*]]>*/</script></p> entries total</span>\n      <span class=\"chart-sampling-warning\"><p data-bind=\"text: value\"><script data-this=\"{&quot;valueId&quot;:&quot;anon78de81ad1c558697dab4ac69d62e3e65&quot;,&quot;initialValue&quot;:&quot;&quot;}\" type=\"text/x-scoped-javascript\">/*<![CDATA[*/\nreq(\n['observable', 'knockout'],\nfunction (O, ko) {\n  ko.applyBindings({\n      value: O.makeObservable(valueId, initialValue)\n    },\n    this\n  );\n});\n        /*]]>*/</script></p></span>\n      <div>\n      </div>\n    </div></div>\n            </div></div>\n      </div>\n    </div></div>"
      },
      "output_type" : "execute_result",
      "execution_count" : 4,
      "time" : "Took: 4.654s, at 2019-02-02 00:29"
    } ]
  }, {
    "metadata" : {
      "trusted" : true,
      "input_collapsed" : false,
      "collapsed" : true,
      "id" : "93C57D9171494FB68E10E4CD72056576"
    },
    "cell_type" : "code",
    "source" : [ "val confu= new ConfusionMatrix(labels_5)" ],
    "outputs" : [ ]
  }, {
    "metadata" : {
      "trusted" : true,
      "input_collapsed" : false,
      "collapsed" : true,
      "id" : "EE137862DAF144E79DB77131066ADB74"
    },
    "cell_type" : "code",
    "source" : [ "" ],
    "outputs" : [ ]
  }, {
    "metadata" : {
      "id" : "DB93BBB5E389457DB2AF2FC58CB7310C"
    },
    "cell_type" : "markdown",
    "source" : "#Pour K=10"
  }, {
    "metadata" : {
      "trusted" : true,
      "input_collapsed" : false,
      "collapsed" : false,
      "id" : "1ACF16169EBA4D0B8676AFE230D2E95E"
    },
    "cell_type" : "code",
    "source" : [ "val kmeans = new KMeans()\n", ".setK(10)\n", ".setSeed(1L)\n", ".setMaxIter(200)\n", "\n", "val model_k_10 = kmeans.fit(dataPCA)\n", "\n", "val WSSSE = model_k_10.computeCost(dataPCA)\n", "//println(\"Within Set Sum of Squared Errors = $WSSSE\")" ],
    "outputs" : [ {
      "name" : "stdout",
      "output_type" : "stream",
      "text" : "kmeans: org.apache.spark.ml.clustering.KMeans = kmeans_d9f4a249e392\nmodel_k_10: org.apache.spark.ml.clustering.KMeansModel = kmeans_d9f4a249e392\nWSSSE: Double = 11.022200362217506\n"
    }, {
      "metadata" : { },
      "data" : {
        "text/html" : ""
      },
      "output_type" : "execute_result",
      "execution_count" : 12,
      "time" : "Took: 4.669s, at 2019-02-02 00:25"
    } ]
  }, {
    "metadata" : {
      "trusted" : true,
      "input_collapsed" : false,
      "collapsed" : false,
      "id" : "880FD7E9C0F244ED98298018C5DCEED1"
    },
    "cell_type" : "code",
    "source" : [ "val  centers_10 = model_k_10.clusterCenters\n" ],
    "outputs" : [ {
      "name" : "stdout",
      "output_type" : "stream",
      "text" : "centers_10: Array[org.apache.spark.ml.linalg.Vector] = Array([1.0337846153846153,0.3706923076923077], [-0.6865555555555555,0.6133962962962962], [0.13445263157894738,-0.8903473684210526], [-1.0808857142857142,-0.8002428571428571], [-0.09306666666666664,1.128411111111111], [-1.0919,0.057588888888888884], [-0.41724615384615393,-0.6321307692307693], [0.6412076923076924,0.19324615384615385], [0.9245909090909091,-0.4646272727272727], [0.6992727272727273,0.8763454545454546])\n"
    }, {
      "metadata" : { },
      "data" : {
        "text/html" : ""
      },
      "output_type" : "execute_result",
      "execution_count" : 13,
      "time" : "Took: 3.419s, at 2019-02-02 00:25"
    } ]
  }, {
    "metadata" : {
      "trusted" : true,
      "input_collapsed" : false,
      "collapsed" : false,
      "id" : "4EB191D54A1E43A98750C4C9551D257F"
    },
    "cell_type" : "code",
    "source" : [ "val labels_10 = model_k_10.transform(dataPCA).select(\"prediction\").collect.map(_.getInt(0))" ],
    "outputs" : [ {
      "name" : "stdout",
      "output_type" : "stream",
      "text" : "labels_10: Array[Int] = Array(7, 1, 8, 1, 5, 2, 2, 0, 0, 2, 9, 7, 5, 6, 7, 1, 6, 1, 6, 7, 4, 0, 2, 2, 4, 9, 6, 0, 4, 0, 1, 2, 2, 1, 2, 5, 8, 1, 1, 9, 0, 6, 1, 7, 1, 3, 9, 8, 7, 2, 3, 1, 8, 8, 3, 1, 6, 8, 1, 9, 1, 1, 6, 2, 2, 2, 1, 2, 9, 3, 0, 7, 0, 4, 8, 5, 0, 1, 7, 2, 8, 4, 5, 0, 1, 6, 9, 1, 6, 1, 2, 3, 9, 5, 7, 0, 2, 9, 1, 8, 6, 6, 4, 7, 2, 0, 7, 5, 0, 8, 1, 2, 4, 1, 2, 5, 6, 1, 5, 6, 9, 4, 3, 8, 1, 1, 3, 1, 7, 9, 7, 4)\n"
    }, {
      "metadata" : { },
      "data" : {
        "text/html" : ""
      },
      "output_type" : "execute_result",
      "execution_count" : 14,
      "time" : "Took: 3.786s, at 2019-02-02 00:25"
    } ]
  }, {
    "metadata" : {
      "trusted" : true,
      "input_collapsed" : false,
      "collapsed" : false,
      "id" : "C96A46007BAF4152B223E868ABEA1583"
    },
    "cell_type" : "code",
    "source" : [ "plot(dataToPlot,labels_10,'.', Palette.COLORS)" ],
    "outputs" : [ {
      "name" : "stdout",
      "output_type" : "stream",
      "text" : "res141: smile.plot.Window = Window(javax.swing.JFrame[frame6,300,0,1000x1000,invalid,layout=java.awt.BorderLayout,title=Smile Plot 7,resizable,normal,defaultCloseOperation=DISPOSE_ON_CLOSE,rootPane=javax.swing.JRootPane[,5,25,990x970,invalid,layout=javax.swing.JRootPane$RootLayout,alignmentX=0.0,alignmentY=0.0,border=,flags=16777673,maximumSize=,minimumSize=,preferredSize=],rootPaneCheckingEnabled=true],smile.plot.PlotCanvas[,0,0,0x0,invalid,layout=java.awt.BorderLayout,alignmentX=0.0,alignmentY=0.0,border=,flags=9,maximumSize=,minimumSize=,preferredSize=])\n"
    }, {
      "metadata" : { },
      "data" : {
        "text/html" : "Window(javax.swing.JFrame[frame6,300,25,1000x1000,layout=java.awt.BorderLayout,title=Smile Plot 7,resizable,normal,defaultCloseOperation=DISPOSE_ON_CLOSE,rootPane=javax.swing.JRootPane[,3,29,994x968,layout=javax.swing.JRootPane$RootLayout,alignmentX=0.0,alignmentY=0.0,border=,flags=16777673,maximumSize=,minimumSize=,preferredSize=],rootPaneCheckingEnabled=true],smile.plot.PlotCanvas[,0,0,994x968,layout=java.awt.BorderLayout,alignmentX=0.0,alignmentY=0.0,border=,flags=9,maximumSize=,minimumSize=,preferredSize=])"
      },
      "output_type" : "execute_result",
      "execution_count" : 15,
      "time" : "Took: 4.011s, at 2019-02-02 00:25"
    } ]
  }, {
    "metadata" : {
      "id" : "6873FD247A3848888C94D844472BCBE4"
    },
    "cell_type" : "markdown",
    "source" : "#Cardinalité"
  }, {
    "metadata" : {
      "trusted" : true,
      "input_collapsed" : false,
      "collapsed" : false,
      "presentation" : {
        "tabs_state" : "{\n  \"tab_id\": \"#tab442015483-0\"\n}",
        "pivot_chart_state" : "{\n  \"hiddenAttributes\": [],\n  \"menuLimit\": 200,\n  \"cols\": [],\n  \"rows\": [],\n  \"vals\": [],\n  \"exclusions\": {},\n  \"inclusions\": {},\n  \"unusedAttrsVertical\": 85,\n  \"autoSortUnusedAttrs\": false,\n  \"inclusionsInfo\": {},\n  \"aggregatorName\": \"Count\",\n  \"rendererName\": \"Table\"\n}"
      },
      "id" : "06E6151CBC30488C89ABE9B37F9EC759"
    },
    "cell_type" : "code",
    "source" : [ "labels_10.groupBy(identity).mapValues(_.size)" ],
    "outputs" : [ {
      "name" : "stdout",
      "output_type" : "stream",
      "text" : "res160: scala.collection.immutable.Map[Int,Int] = Map(0 -> 13, 5 -> 9, 1 -> 27, 6 -> 13, 9 -> 11, 2 -> 19, 7 -> 13, 3 -> 7, 8 -> 11, 4 -> 9)\n"
    }, {
      "metadata" : { },
      "data" : {
        "text/html" : "<div>\n      <script data-this=\"{&quot;dataId&quot;:&quot;anon85a0d6e83aaa61321281a9148feb215e&quot;,&quot;dataInit&quot;:[],&quot;genId&quot;:&quot;442015483&quot;}\" type=\"text/x-scoped-javascript\">/*<![CDATA[*/req(['../javascripts/notebook/playground','../javascripts/notebook/magic/tabs'], \n      function(playground, _magictabs) {\n        // data ==> data-this (in observable.js's scopedEval) ==> this in JS => { dataId, dataInit, ... }\n        // this ==> scope (in observable.js's scopedEval) ==> this.parentElement ==> div.container below (toHtml)\n\n        playground.call(data,\n                        this\n                        ,\n                        {\n    \"f\": _magictabs,\n    \"o\": {}\n  }\n  \n                        \n                        \n                      );\n      }\n    );/*]]>*/</script>\n    <div>\n      <div>\n        <ul class=\"nav nav-tabs\" id=\"ul442015483\"><li>\n              <a href=\"#tab442015483-0\"><i class=\"fa fa-table\"/></a>\n            </li><li>\n              <a href=\"#tab442015483-1\"><i class=\"fa fa-dot-circle-o\"/></a>\n            </li><li>\n              <a href=\"#tab442015483-2\"><i class=\"fa fa-line-chart\"/></a>\n            </li><li>\n              <a href=\"#tab442015483-3\"><i class=\"fa fa-bar-chart\"/></a>\n            </li><li>\n              <a href=\"#tab442015483-4\"><i class=\"fa fa-cubes\"/></a>\n            </li></ul>\n\n        <div class=\"tab-content\" id=\"tab442015483\"><div class=\"tab-pane\" id=\"tab442015483-0\">\n            <div>\n      <script data-this=\"{&quot;dataId&quot;:&quot;anon062092119113162f50b423b510939f6f&quot;,&quot;dataInit&quot;:[{&quot;_1&quot;:0,&quot;_2&quot;:13},{&quot;_1&quot;:5,&quot;_2&quot;:9},{&quot;_1&quot;:1,&quot;_2&quot;:27},{&quot;_1&quot;:6,&quot;_2&quot;:13},{&quot;_1&quot;:9,&quot;_2&quot;:11},{&quot;_1&quot;:2,&quot;_2&quot;:19},{&quot;_1&quot;:7,&quot;_2&quot;:13},{&quot;_1&quot;:3,&quot;_2&quot;:7},{&quot;_1&quot;:8,&quot;_2&quot;:11},{&quot;_1&quot;:4,&quot;_2&quot;:9}],&quot;genId&quot;:&quot;1472215425&quot;}\" type=\"text/x-scoped-javascript\">/*<![CDATA[*/req(['../javascripts/notebook/playground','../javascripts/notebook/magic/tableChart'], \n      function(playground, _magictableChart) {\n        // data ==> data-this (in observable.js's scopedEval) ==> this in JS => { dataId, dataInit, ... }\n        // this ==> scope (in observable.js's scopedEval) ==> this.parentElement ==> div.container below (toHtml)\n\n        playground.call(data,\n                        this\n                        ,\n                        {\n    \"f\": _magictableChart,\n    \"o\": {\"headers\":[\"_1\",\"_2\"],\"width\":600,\"height\":400}\n  }\n  \n                        \n                        \n                      );\n      }\n    );/*]]>*/</script>\n    <div>\n      <span class=\"chart-total-item-count\"><p data-bind=\"text: value\"><script data-this=\"{&quot;valueId&quot;:&quot;anonb433e1accb129dd3264653f672f71f61&quot;,&quot;initialValue&quot;:&quot;10&quot;}\" type=\"text/x-scoped-javascript\">/*<![CDATA[*/\nreq(\n['observable', 'knockout'],\nfunction (O, ko) {\n  ko.applyBindings({\n      value: O.makeObservable(valueId, initialValue)\n    },\n    this\n  );\n});\n        /*]]>*/</script></p> entries total</span>\n      <span class=\"chart-sampling-warning\"><p data-bind=\"text: value\"><script data-this=\"{&quot;valueId&quot;:&quot;anon79003a1b0b521e2872ddc4799b21d818&quot;,&quot;initialValue&quot;:&quot;&quot;}\" type=\"text/x-scoped-javascript\">/*<![CDATA[*/\nreq(\n['observable', 'knockout'],\nfunction (O, ko) {\n  ko.applyBindings({\n      value: O.makeObservable(valueId, initialValue)\n    },\n    this\n  );\n});\n        /*]]>*/</script></p></span>\n      <div>\n      </div>\n    </div></div>\n            </div><div class=\"tab-pane\" id=\"tab442015483-1\">\n            <div>\n      <script data-this=\"{&quot;dataId&quot;:&quot;anon79cf6401601b731ee745d47ae19f7336&quot;,&quot;dataInit&quot;:[{&quot;_1&quot;:0,&quot;_2&quot;:13},{&quot;_1&quot;:5,&quot;_2&quot;:9},{&quot;_1&quot;:1,&quot;_2&quot;:27},{&quot;_1&quot;:6,&quot;_2&quot;:13},{&quot;_1&quot;:9,&quot;_2&quot;:11},{&quot;_1&quot;:2,&quot;_2&quot;:19},{&quot;_1&quot;:7,&quot;_2&quot;:13},{&quot;_1&quot;:3,&quot;_2&quot;:7},{&quot;_1&quot;:8,&quot;_2&quot;:11},{&quot;_1&quot;:4,&quot;_2&quot;:9}],&quot;genId&quot;:&quot;1961912652&quot;}\" type=\"text/x-scoped-javascript\">/*<![CDATA[*/req(['../javascripts/notebook/playground','../javascripts/notebook/magic/scatterChart'], \n      function(playground, _magicscatterChart) {\n        // data ==> data-this (in observable.js's scopedEval) ==> this in JS => { dataId, dataInit, ... }\n        // this ==> scope (in observable.js's scopedEval) ==> this.parentElement ==> div.container below (toHtml)\n\n        playground.call(data,\n                        this\n                        ,\n                        {\n    \"f\": _magicscatterChart,\n    \"o\": {\"x\":\"_1\",\"y\":\"_2\",\"width\":600,\"height\":400}\n  }\n  \n                        \n                        \n                      );\n      }\n    );/*]]>*/</script>\n    <div>\n      <span class=\"chart-total-item-count\"><p data-bind=\"text: value\"><script data-this=\"{&quot;valueId&quot;:&quot;anon887fdf6f7342bc314ef97543a495df60&quot;,&quot;initialValue&quot;:&quot;10&quot;}\" type=\"text/x-scoped-javascript\">/*<![CDATA[*/\nreq(\n['observable', 'knockout'],\nfunction (O, ko) {\n  ko.applyBindings({\n      value: O.makeObservable(valueId, initialValue)\n    },\n    this\n  );\n});\n        /*]]>*/</script></p> entries total</span>\n      <span class=\"chart-sampling-warning\"><p data-bind=\"text: value\"><script data-this=\"{&quot;valueId&quot;:&quot;anonc4173d3ae80dc023ac0fbedc71b7788d&quot;,&quot;initialValue&quot;:&quot;&quot;}\" type=\"text/x-scoped-javascript\">/*<![CDATA[*/\nreq(\n['observable', 'knockout'],\nfunction (O, ko) {\n  ko.applyBindings({\n      value: O.makeObservable(valueId, initialValue)\n    },\n    this\n  );\n});\n        /*]]>*/</script></p></span>\n      <div>\n      </div>\n    </div></div>\n            </div><div class=\"tab-pane\" id=\"tab442015483-2\">\n            <div>\n      <script data-this=\"{&quot;dataId&quot;:&quot;anon158c66f8c943b6f7dda534e2e4c8cd01&quot;,&quot;dataInit&quot;:[{&quot;_1&quot;:0,&quot;_2&quot;:13},{&quot;_1&quot;:5,&quot;_2&quot;:9},{&quot;_1&quot;:1,&quot;_2&quot;:27},{&quot;_1&quot;:6,&quot;_2&quot;:13},{&quot;_1&quot;:9,&quot;_2&quot;:11},{&quot;_1&quot;:2,&quot;_2&quot;:19},{&quot;_1&quot;:7,&quot;_2&quot;:13},{&quot;_1&quot;:3,&quot;_2&quot;:7},{&quot;_1&quot;:8,&quot;_2&quot;:11},{&quot;_1&quot;:4,&quot;_2&quot;:9}],&quot;genId&quot;:&quot;599396666&quot;}\" type=\"text/x-scoped-javascript\">/*<![CDATA[*/req(['../javascripts/notebook/playground','../javascripts/notebook/magic/lineChart'], \n      function(playground, _magiclineChart) {\n        // data ==> data-this (in observable.js's scopedEval) ==> this in JS => { dataId, dataInit, ... }\n        // this ==> scope (in observable.js's scopedEval) ==> this.parentElement ==> div.container below (toHtml)\n\n        playground.call(data,\n                        this\n                        ,\n                        {\n    \"f\": _magiclineChart,\n    \"o\": {\"x\":\"_1\",\"y\":\"_2\",\"width\":600,\"height\":400}\n  }\n  \n                        \n                        \n                      );\n      }\n    );/*]]>*/</script>\n    <div>\n      <span class=\"chart-total-item-count\"><p data-bind=\"text: value\"><script data-this=\"{&quot;valueId&quot;:&quot;anon47bbd491e63a7c0836d0466536b639f8&quot;,&quot;initialValue&quot;:&quot;10&quot;}\" type=\"text/x-scoped-javascript\">/*<![CDATA[*/\nreq(\n['observable', 'knockout'],\nfunction (O, ko) {\n  ko.applyBindings({\n      value: O.makeObservable(valueId, initialValue)\n    },\n    this\n  );\n});\n        /*]]>*/</script></p> entries total</span>\n      <span class=\"chart-sampling-warning\"><p data-bind=\"text: value\"><script data-this=\"{&quot;valueId&quot;:&quot;anon895ccecd4d16f457362d7b9d1fa89852&quot;,&quot;initialValue&quot;:&quot;&quot;}\" type=\"text/x-scoped-javascript\">/*<![CDATA[*/\nreq(\n['observable', 'knockout'],\nfunction (O, ko) {\n  ko.applyBindings({\n      value: O.makeObservable(valueId, initialValue)\n    },\n    this\n  );\n});\n        /*]]>*/</script></p></span>\n      <div>\n      </div>\n    </div></div>\n            </div><div class=\"tab-pane\" id=\"tab442015483-3\">\n            <div>\n      <script data-this=\"{&quot;dataId&quot;:&quot;anon5b09e6d558bb2029ed8b4796ddd81665&quot;,&quot;dataInit&quot;:[{&quot;_1&quot;:0,&quot;_2&quot;:13},{&quot;_1&quot;:5,&quot;_2&quot;:9},{&quot;_1&quot;:1,&quot;_2&quot;:27},{&quot;_1&quot;:6,&quot;_2&quot;:13},{&quot;_1&quot;:9,&quot;_2&quot;:11},{&quot;_1&quot;:2,&quot;_2&quot;:19},{&quot;_1&quot;:7,&quot;_2&quot;:13},{&quot;_1&quot;:3,&quot;_2&quot;:7},{&quot;_1&quot;:8,&quot;_2&quot;:11},{&quot;_1&quot;:4,&quot;_2&quot;:9}],&quot;genId&quot;:&quot;1065737470&quot;}\" type=\"text/x-scoped-javascript\">/*<![CDATA[*/req(['../javascripts/notebook/playground','../javascripts/notebook/magic/barChart'], \n      function(playground, _magicbarChart) {\n        // data ==> data-this (in observable.js's scopedEval) ==> this in JS => { dataId, dataInit, ... }\n        // this ==> scope (in observable.js's scopedEval) ==> this.parentElement ==> div.container below (toHtml)\n\n        playground.call(data,\n                        this\n                        ,\n                        {\n    \"f\": _magicbarChart,\n    \"o\": {\"x\":\"_1\",\"y\":\"_2\",\"width\":600,\"height\":400}\n  }\n  \n                        \n                        \n                      );\n      }\n    );/*]]>*/</script>\n    <div>\n      <span class=\"chart-total-item-count\"><p data-bind=\"text: value\"><script data-this=\"{&quot;valueId&quot;:&quot;anon6f309f744db5a6f4d7b79e127646e973&quot;,&quot;initialValue&quot;:&quot;10&quot;}\" type=\"text/x-scoped-javascript\">/*<![CDATA[*/\nreq(\n['observable', 'knockout'],\nfunction (O, ko) {\n  ko.applyBindings({\n      value: O.makeObservable(valueId, initialValue)\n    },\n    this\n  );\n});\n        /*]]>*/</script></p> entries total</span>\n      <span class=\"chart-sampling-warning\"><p data-bind=\"text: value\"><script data-this=\"{&quot;valueId&quot;:&quot;anon7c6db9e1aeeae942c8ab75197e767b28&quot;,&quot;initialValue&quot;:&quot;&quot;}\" type=\"text/x-scoped-javascript\">/*<![CDATA[*/\nreq(\n['observable', 'knockout'],\nfunction (O, ko) {\n  ko.applyBindings({\n      value: O.makeObservable(valueId, initialValue)\n    },\n    this\n  );\n});\n        /*]]>*/</script></p></span>\n      <div>\n      </div>\n    </div></div>\n            </div><div class=\"tab-pane\" id=\"tab442015483-4\">\n            <div>\n      <script data-this=\"{&quot;dataId&quot;:&quot;anon416c21a2fee17c76f801035bb9367b87&quot;,&quot;dataInit&quot;:[{&quot;_1&quot;:0,&quot;_2&quot;:13},{&quot;_1&quot;:5,&quot;_2&quot;:9},{&quot;_1&quot;:1,&quot;_2&quot;:27},{&quot;_1&quot;:6,&quot;_2&quot;:13},{&quot;_1&quot;:9,&quot;_2&quot;:11},{&quot;_1&quot;:2,&quot;_2&quot;:19},{&quot;_1&quot;:7,&quot;_2&quot;:13},{&quot;_1&quot;:3,&quot;_2&quot;:7},{&quot;_1&quot;:8,&quot;_2&quot;:11},{&quot;_1&quot;:4,&quot;_2&quot;:9}],&quot;genId&quot;:&quot;670363496&quot;}\" type=\"text/x-scoped-javascript\">/*<![CDATA[*/req(['../javascripts/notebook/playground','../javascripts/notebook/magic/pivotChart'], \n      function(playground, _magicpivotChart) {\n        // data ==> data-this (in observable.js's scopedEval) ==> this in JS => { dataId, dataInit, ... }\n        // this ==> scope (in observable.js's scopedEval) ==> this.parentElement ==> div.container below (toHtml)\n\n        playground.call(data,\n                        this\n                        ,\n                        {\n    \"f\": _magicpivotChart,\n    \"o\": {\"width\":600,\"height\":400,\"derivedAttributes\":{},\"extraOptions\":{}}\n  }\n  \n                        \n                        \n                      );\n      }\n    );/*]]>*/</script>\n    <div>\n      <span class=\"chart-total-item-count\"><p data-bind=\"text: value\"><script data-this=\"{&quot;valueId&quot;:&quot;anon7d128fe4071bf453a754ee9062c076c3&quot;,&quot;initialValue&quot;:&quot;10&quot;}\" type=\"text/x-scoped-javascript\">/*<![CDATA[*/\nreq(\n['observable', 'knockout'],\nfunction (O, ko) {\n  ko.applyBindings({\n      value: O.makeObservable(valueId, initialValue)\n    },\n    this\n  );\n});\n        /*]]>*/</script></p> entries total</span>\n      <span class=\"chart-sampling-warning\"><p data-bind=\"text: value\"><script data-this=\"{&quot;valueId&quot;:&quot;anon0f3eed5b4549b7c46394dd3ca45fa743&quot;,&quot;initialValue&quot;:&quot;&quot;}\" type=\"text/x-scoped-javascript\">/*<![CDATA[*/\nreq(\n['observable', 'knockout'],\nfunction (O, ko) {\n  ko.applyBindings({\n      value: O.makeObservable(valueId, initialValue)\n    },\n    this\n  );\n});\n        /*]]>*/</script></p></span>\n      <div>\n      </div>\n    </div></div>\n            </div></div>\n      </div>\n    </div></div>"
      },
      "output_type" : "execute_result",
      "execution_count" : 5,
      "time" : "Took: 5.003s, at 2019-02-02 00:29"
    } ]
  }, {
    "metadata" : {
      "trusted" : true,
      "input_collapsed" : false,
      "collapsed" : true,
      "id" : "491E399F4D514DC08DAE2201D12D6726"
    },
    "cell_type" : "code",
    "source" : [ "val confu= new ConfusionMatrix(labels_10)" ],
    "outputs" : [ ]
  }, {
    "metadata" : {
      "id" : "9AE23465D60243568FD35FDE3F86CA6E"
    },
    "cell_type" : "markdown",
    "source" : "#Pour K=15"
  }, {
    "metadata" : {
      "trusted" : true,
      "input_collapsed" : false,
      "collapsed" : false,
      "id" : "FE7693917C654F7F88D73002F76D7336"
    },
    "cell_type" : "code",
    "source" : [ "val kmeans = new KMeans()\n", ".setK(15)\n", ".setSeed(1L)\n", ".setMaxIter(200)\n", "\n", "val model_k_15 = kmeans.fit(dataPCA)\n", "\n", "val WSSSE = model_k_15.computeCost(dataPCA)\n", "//println(\"Within Set Sum of Squared Errors = $WSSSE\")" ],
    "outputs" : [ {
      "name" : "stdout",
      "output_type" : "stream",
      "text" : "kmeans: org.apache.spark.ml.clustering.KMeans = kmeans_4004b76ce59a\nmodel_k_15: org.apache.spark.ml.clustering.KMeansModel = kmeans_4004b76ce59a\nWSSSE: Double = 7.9861533301153855\n"
    }, {
      "metadata" : { },
      "data" : {
        "text/html" : ""
      },
      "output_type" : "execute_result",
      "execution_count" : 16,
      "time" : "Took: 4.920s, at 2019-02-02 00:25"
    } ]
  }, {
    "metadata" : {
      "trusted" : true,
      "input_collapsed" : false,
      "collapsed" : false,
      "id" : "574BFDA734754B378D4D4B6E23127FCB"
    },
    "cell_type" : "code",
    "source" : [ "val  centers = model_k_15.clusterCenters\n" ],
    "outputs" : [ {
      "name" : "stdout",
      "output_type" : "stream",
      "text" : "centers: Array[org.apache.spark.ml.linalg.Vector] = Array([1.0877000000000001,-0.7011400000000001], [-0.981157142857143,0.14872857142857143], [-1.4302000000000001,-0.28115], [0.5575866666666667,0.9553066666666667], [0.17713076923076926,-0.8084153846153848], [-0.5905,-0.08583333333333333], [-0.34484545454545457,0.891690909090909], [-0.25695,-0.5843333333333334], [0.8871190476190476,0.34947142857142854], [0.04198333333333333,-1.0678666666666667], [-1.00555,1.040175], [-0.5376666666666666,-0.7507999999999999], [-0.7329666666666667,0.5105066666666667], [0.7161272727272727,-0.14662727272727274], [-0.98516,-0.9097200000000001])\n"
    }, {
      "metadata" : { },
      "data" : {
        "text/html" : ""
      },
      "output_type" : "execute_result",
      "execution_count" : 17,
      "time" : "Took: 3.565s, at 2019-02-02 00:25"
    } ]
  }, {
    "metadata" : {
      "trusted" : true,
      "input_collapsed" : false,
      "collapsed" : false,
      "id" : "2835DF7DE3A1429F888D16EB5B18EE96"
    },
    "cell_type" : "code",
    "source" : [ "val labels_15 = model_k_15.transform(dataPCA).select(\"prediction\").collect.map(_.getInt(0))" ],
    "outputs" : [ {
      "name" : "stdout",
      "output_type" : "stream",
      "text" : "labels_15: Array[Int] = Array(8, 5, 13, 6, 1, 4, 4, 8, 8, 4, 3, 8, 1, 11, 13, 12, 7, 10, 11, 13, 6, 8, 4, 4, 3, 3, 7, 8, 6, 8, 1, 9, 4, 12, 4, 1, 13, 12, 10, 3, 8, 11, 12, 13, 6, 14, 3, 0, 8, 9, 14, 6, 13, 0, 2, 12, 11, 0, 12, 3, 12, 12, 5, 4, 9, 4, 12, 4, 3, 14, 8, 8, 8, 3, 0, 1, 8, 10, 8, 4, 13, 3, 1, 8, 6, 7, 3, 12, 7, 6, 4, 14, 3, 5, 13, 8, 9, 3, 6, 0, 7, 11, 6, 8, 9, 8, 8, 2, 8, 13, 10, 9, 6, 12, 4, 2, 7, 12, 1, 11, 3, 3, 14, 13, 12, 12, 2, 12, 13, 3, 8, 6)\n"
    }, {
      "metadata" : { },
      "data" : {
        "text/html" : ""
      },
      "output_type" : "execute_result",
      "execution_count" : 18,
      "time" : "Took: 3.567s, at 2019-02-02 00:26"
    } ]
  }, {
    "metadata" : {
      "trusted" : true,
      "input_collapsed" : false,
      "collapsed" : true,
      "id" : "CF3758F071CB41349ABAF8750C9792E9"
    },
    "cell_type" : "code",
    "source" : [ "plot(dataToPlot,labels_15,'.', Palette.COLORS)" ],
    "outputs" : [ ]
  }, {
    "metadata" : {
      "id" : "AF474AE90A3D42C196830CC16B51AA36"
    },
    "cell_type" : "markdown",
    "source" : "#Cardinalité"
  }, {
    "metadata" : {
      "trusted" : true,
      "input_collapsed" : false,
      "collapsed" : false,
      "presentation" : {
        "tabs_state" : "{\n  \"tab_id\": \"#tab1152513664-0\"\n}",
        "pivot_chart_state" : "{\n  \"hiddenAttributes\": [],\n  \"menuLimit\": 200,\n  \"cols\": [],\n  \"rows\": [],\n  \"vals\": [],\n  \"exclusions\": {},\n  \"inclusions\": {},\n  \"unusedAttrsVertical\": 85,\n  \"autoSortUnusedAttrs\": false,\n  \"inclusionsInfo\": {},\n  \"aggregatorName\": \"Count\",\n  \"rendererName\": \"Table\"\n}"
      },
      "id" : "D656E9217FEE4A38BE8AAD27F9CB2312"
    },
    "cell_type" : "code",
    "source" : [ "labels_15.groupBy(identity).mapValues(_.size)" ],
    "outputs" : [ {
      "name" : "stdout",
      "output_type" : "stream",
      "text" : "res162: scala.collection.immutable.Map[Int,Int] = Map(0 -> 5, 5 -> 3, 10 -> 4, 14 -> 5, 1 -> 7, 6 -> 11, 9 -> 6, 13 -> 11, 2 -> 4, 12 -> 15, 7 -> 6, 3 -> 15, 11 -> 6, 8 -> 21, 4 -> 13)\n"
    }, {
      "metadata" : { },
      "data" : {
        "text/html" : "<div>\n      <script data-this=\"{&quot;dataId&quot;:&quot;anon6e76a0995c84c1bc69577c7570ff2d21&quot;,&quot;dataInit&quot;:[],&quot;genId&quot;:&quot;1152513664&quot;}\" type=\"text/x-scoped-javascript\">/*<![CDATA[*/req(['../javascripts/notebook/playground','../javascripts/notebook/magic/tabs'], \n      function(playground, _magictabs) {\n        // data ==> data-this (in observable.js's scopedEval) ==> this in JS => { dataId, dataInit, ... }\n        // this ==> scope (in observable.js's scopedEval) ==> this.parentElement ==> div.container below (toHtml)\n\n        playground.call(data,\n                        this\n                        ,\n                        {\n    \"f\": _magictabs,\n    \"o\": {}\n  }\n  \n                        \n                        \n                      );\n      }\n    );/*]]>*/</script>\n    <div>\n      <div>\n        <ul class=\"nav nav-tabs\" id=\"ul1152513664\"><li>\n              <a href=\"#tab1152513664-0\"><i class=\"fa fa-table\"/></a>\n            </li><li>\n              <a href=\"#tab1152513664-1\"><i class=\"fa fa-dot-circle-o\"/></a>\n            </li><li>\n              <a href=\"#tab1152513664-2\"><i class=\"fa fa-line-chart\"/></a>\n            </li><li>\n              <a href=\"#tab1152513664-3\"><i class=\"fa fa-bar-chart\"/></a>\n            </li><li>\n              <a href=\"#tab1152513664-4\"><i class=\"fa fa-cubes\"/></a>\n            </li></ul>\n\n        <div class=\"tab-content\" id=\"tab1152513664\"><div class=\"tab-pane\" id=\"tab1152513664-0\">\n            <div>\n      <script data-this=\"{&quot;dataId&quot;:&quot;anon977d84111e3df989745f7a4ff1b5a382&quot;,&quot;dataInit&quot;:[{&quot;_1&quot;:0,&quot;_2&quot;:5},{&quot;_1&quot;:5,&quot;_2&quot;:3},{&quot;_1&quot;:10,&quot;_2&quot;:4},{&quot;_1&quot;:14,&quot;_2&quot;:5},{&quot;_1&quot;:1,&quot;_2&quot;:7},{&quot;_1&quot;:6,&quot;_2&quot;:11},{&quot;_1&quot;:9,&quot;_2&quot;:6},{&quot;_1&quot;:13,&quot;_2&quot;:11},{&quot;_1&quot;:2,&quot;_2&quot;:4},{&quot;_1&quot;:12,&quot;_2&quot;:15},{&quot;_1&quot;:7,&quot;_2&quot;:6},{&quot;_1&quot;:3,&quot;_2&quot;:15},{&quot;_1&quot;:11,&quot;_2&quot;:6},{&quot;_1&quot;:8,&quot;_2&quot;:21},{&quot;_1&quot;:4,&quot;_2&quot;:13}],&quot;genId&quot;:&quot;215932433&quot;}\" type=\"text/x-scoped-javascript\">/*<![CDATA[*/req(['../javascripts/notebook/playground','../javascripts/notebook/magic/tableChart'], \n      function(playground, _magictableChart) {\n        // data ==> data-this (in observable.js's scopedEval) ==> this in JS => { dataId, dataInit, ... }\n        // this ==> scope (in observable.js's scopedEval) ==> this.parentElement ==> div.container below (toHtml)\n\n        playground.call(data,\n                        this\n                        ,\n                        {\n    \"f\": _magictableChart,\n    \"o\": {\"headers\":[\"_1\",\"_2\"],\"width\":600,\"height\":400}\n  }\n  \n                        \n                        \n                      );\n      }\n    );/*]]>*/</script>\n    <div>\n      <span class=\"chart-total-item-count\"><p data-bind=\"text: value\"><script data-this=\"{&quot;valueId&quot;:&quot;anondd4ebb8f1d392e855a15af206a1b129b&quot;,&quot;initialValue&quot;:&quot;15&quot;}\" type=\"text/x-scoped-javascript\">/*<![CDATA[*/\nreq(\n['observable', 'knockout'],\nfunction (O, ko) {\n  ko.applyBindings({\n      value: O.makeObservable(valueId, initialValue)\n    },\n    this\n  );\n});\n        /*]]>*/</script></p> entries total</span>\n      <span class=\"chart-sampling-warning\"><p data-bind=\"text: value\"><script data-this=\"{&quot;valueId&quot;:&quot;anon507cd2549caea2b0ff35f210fccf8815&quot;,&quot;initialValue&quot;:&quot;&quot;}\" type=\"text/x-scoped-javascript\">/*<![CDATA[*/\nreq(\n['observable', 'knockout'],\nfunction (O, ko) {\n  ko.applyBindings({\n      value: O.makeObservable(valueId, initialValue)\n    },\n    this\n  );\n});\n        /*]]>*/</script></p></span>\n      <div>\n      </div>\n    </div></div>\n            </div><div class=\"tab-pane\" id=\"tab1152513664-1\">\n            <div>\n      <script data-this=\"{&quot;dataId&quot;:&quot;anon58918abb764bd62f523232e0e5b111fc&quot;,&quot;dataInit&quot;:[{&quot;_1&quot;:0,&quot;_2&quot;:5},{&quot;_1&quot;:5,&quot;_2&quot;:3},{&quot;_1&quot;:10,&quot;_2&quot;:4},{&quot;_1&quot;:14,&quot;_2&quot;:5},{&quot;_1&quot;:1,&quot;_2&quot;:7},{&quot;_1&quot;:6,&quot;_2&quot;:11},{&quot;_1&quot;:9,&quot;_2&quot;:6},{&quot;_1&quot;:13,&quot;_2&quot;:11},{&quot;_1&quot;:2,&quot;_2&quot;:4},{&quot;_1&quot;:12,&quot;_2&quot;:15},{&quot;_1&quot;:7,&quot;_2&quot;:6},{&quot;_1&quot;:3,&quot;_2&quot;:15},{&quot;_1&quot;:11,&quot;_2&quot;:6},{&quot;_1&quot;:8,&quot;_2&quot;:21},{&quot;_1&quot;:4,&quot;_2&quot;:13}],&quot;genId&quot;:&quot;562862937&quot;}\" type=\"text/x-scoped-javascript\">/*<![CDATA[*/req(['../javascripts/notebook/playground','../javascripts/notebook/magic/scatterChart'], \n      function(playground, _magicscatterChart) {\n        // data ==> data-this (in observable.js's scopedEval) ==> this in JS => { dataId, dataInit, ... }\n        // this ==> scope (in observable.js's scopedEval) ==> this.parentElement ==> div.container below (toHtml)\n\n        playground.call(data,\n                        this\n                        ,\n                        {\n    \"f\": _magicscatterChart,\n    \"o\": {\"x\":\"_1\",\"y\":\"_2\",\"width\":600,\"height\":400}\n  }\n  \n                        \n                        \n                      );\n      }\n    );/*]]>*/</script>\n    <div>\n      <span class=\"chart-total-item-count\"><p data-bind=\"text: value\"><script data-this=\"{&quot;valueId&quot;:&quot;anon4585a4fff59c463346af269043f4a104&quot;,&quot;initialValue&quot;:&quot;15&quot;}\" type=\"text/x-scoped-javascript\">/*<![CDATA[*/\nreq(\n['observable', 'knockout'],\nfunction (O, ko) {\n  ko.applyBindings({\n      value: O.makeObservable(valueId, initialValue)\n    },\n    this\n  );\n});\n        /*]]>*/</script></p> entries total</span>\n      <span class=\"chart-sampling-warning\"><p data-bind=\"text: value\"><script data-this=\"{&quot;valueId&quot;:&quot;anon6e239793640d8748979ab034de26041b&quot;,&quot;initialValue&quot;:&quot;&quot;}\" type=\"text/x-scoped-javascript\">/*<![CDATA[*/\nreq(\n['observable', 'knockout'],\nfunction (O, ko) {\n  ko.applyBindings({\n      value: O.makeObservable(valueId, initialValue)\n    },\n    this\n  );\n});\n        /*]]>*/</script></p></span>\n      <div>\n      </div>\n    </div></div>\n            </div><div class=\"tab-pane\" id=\"tab1152513664-2\">\n            <div>\n      <script data-this=\"{&quot;dataId&quot;:&quot;anona75225a72f50b295289f8676a0e43e78&quot;,&quot;dataInit&quot;:[{&quot;_1&quot;:0,&quot;_2&quot;:5},{&quot;_1&quot;:5,&quot;_2&quot;:3},{&quot;_1&quot;:10,&quot;_2&quot;:4},{&quot;_1&quot;:14,&quot;_2&quot;:5},{&quot;_1&quot;:1,&quot;_2&quot;:7},{&quot;_1&quot;:6,&quot;_2&quot;:11},{&quot;_1&quot;:9,&quot;_2&quot;:6},{&quot;_1&quot;:13,&quot;_2&quot;:11},{&quot;_1&quot;:2,&quot;_2&quot;:4},{&quot;_1&quot;:12,&quot;_2&quot;:15},{&quot;_1&quot;:7,&quot;_2&quot;:6},{&quot;_1&quot;:3,&quot;_2&quot;:15},{&quot;_1&quot;:11,&quot;_2&quot;:6},{&quot;_1&quot;:8,&quot;_2&quot;:21},{&quot;_1&quot;:4,&quot;_2&quot;:13}],&quot;genId&quot;:&quot;397068540&quot;}\" type=\"text/x-scoped-javascript\">/*<![CDATA[*/req(['../javascripts/notebook/playground','../javascripts/notebook/magic/lineChart'], \n      function(playground, _magiclineChart) {\n        // data ==> data-this (in observable.js's scopedEval) ==> this in JS => { dataId, dataInit, ... }\n        // this ==> scope (in observable.js's scopedEval) ==> this.parentElement ==> div.container below (toHtml)\n\n        playground.call(data,\n                        this\n                        ,\n                        {\n    \"f\": _magiclineChart,\n    \"o\": {\"x\":\"_1\",\"y\":\"_2\",\"width\":600,\"height\":400}\n  }\n  \n                        \n                        \n                      );\n      }\n    );/*]]>*/</script>\n    <div>\n      <span class=\"chart-total-item-count\"><p data-bind=\"text: value\"><script data-this=\"{&quot;valueId&quot;:&quot;anoncbb6f22cca54bdd699c9f2e01546e4f5&quot;,&quot;initialValue&quot;:&quot;15&quot;}\" type=\"text/x-scoped-javascript\">/*<![CDATA[*/\nreq(\n['observable', 'knockout'],\nfunction (O, ko) {\n  ko.applyBindings({\n      value: O.makeObservable(valueId, initialValue)\n    },\n    this\n  );\n});\n        /*]]>*/</script></p> entries total</span>\n      <span class=\"chart-sampling-warning\"><p data-bind=\"text: value\"><script data-this=\"{&quot;valueId&quot;:&quot;anon804946eea41da4281a9bc289c50cc2eb&quot;,&quot;initialValue&quot;:&quot;&quot;}\" type=\"text/x-scoped-javascript\">/*<![CDATA[*/\nreq(\n['observable', 'knockout'],\nfunction (O, ko) {\n  ko.applyBindings({\n      value: O.makeObservable(valueId, initialValue)\n    },\n    this\n  );\n});\n        /*]]>*/</script></p></span>\n      <div>\n      </div>\n    </div></div>\n            </div><div class=\"tab-pane\" id=\"tab1152513664-3\">\n            <div>\n      <script data-this=\"{&quot;dataId&quot;:&quot;anon4127f385fd5bfda1568780182536cf5b&quot;,&quot;dataInit&quot;:[{&quot;_1&quot;:0,&quot;_2&quot;:5},{&quot;_1&quot;:5,&quot;_2&quot;:3},{&quot;_1&quot;:10,&quot;_2&quot;:4},{&quot;_1&quot;:14,&quot;_2&quot;:5},{&quot;_1&quot;:1,&quot;_2&quot;:7},{&quot;_1&quot;:6,&quot;_2&quot;:11},{&quot;_1&quot;:9,&quot;_2&quot;:6},{&quot;_1&quot;:13,&quot;_2&quot;:11},{&quot;_1&quot;:2,&quot;_2&quot;:4},{&quot;_1&quot;:12,&quot;_2&quot;:15},{&quot;_1&quot;:7,&quot;_2&quot;:6},{&quot;_1&quot;:3,&quot;_2&quot;:15},{&quot;_1&quot;:11,&quot;_2&quot;:6},{&quot;_1&quot;:8,&quot;_2&quot;:21},{&quot;_1&quot;:4,&quot;_2&quot;:13}],&quot;genId&quot;:&quot;1925368261&quot;}\" type=\"text/x-scoped-javascript\">/*<![CDATA[*/req(['../javascripts/notebook/playground','../javascripts/notebook/magic/barChart'], \n      function(playground, _magicbarChart) {\n        // data ==> data-this (in observable.js's scopedEval) ==> this in JS => { dataId, dataInit, ... }\n        // this ==> scope (in observable.js's scopedEval) ==> this.parentElement ==> div.container below (toHtml)\n\n        playground.call(data,\n                        this\n                        ,\n                        {\n    \"f\": _magicbarChart,\n    \"o\": {\"x\":\"_1\",\"y\":\"_2\",\"width\":600,\"height\":400}\n  }\n  \n                        \n                        \n                      );\n      }\n    );/*]]>*/</script>\n    <div>\n      <span class=\"chart-total-item-count\"><p data-bind=\"text: value\"><script data-this=\"{&quot;valueId&quot;:&quot;anond1d94beb7ebf883aa495997be305fb4d&quot;,&quot;initialValue&quot;:&quot;15&quot;}\" type=\"text/x-scoped-javascript\">/*<![CDATA[*/\nreq(\n['observable', 'knockout'],\nfunction (O, ko) {\n  ko.applyBindings({\n      value: O.makeObservable(valueId, initialValue)\n    },\n    this\n  );\n});\n        /*]]>*/</script></p> entries total</span>\n      <span class=\"chart-sampling-warning\"><p data-bind=\"text: value\"><script data-this=\"{&quot;valueId&quot;:&quot;anon0311811539da5c283f9b1a5b1acab055&quot;,&quot;initialValue&quot;:&quot;&quot;}\" type=\"text/x-scoped-javascript\">/*<![CDATA[*/\nreq(\n['observable', 'knockout'],\nfunction (O, ko) {\n  ko.applyBindings({\n      value: O.makeObservable(valueId, initialValue)\n    },\n    this\n  );\n});\n        /*]]>*/</script></p></span>\n      <div>\n      </div>\n    </div></div>\n            </div><div class=\"tab-pane\" id=\"tab1152513664-4\">\n            <div>\n      <script data-this=\"{&quot;dataId&quot;:&quot;anon73c3f3cf905debb8e3359aea553b61ea&quot;,&quot;dataInit&quot;:[{&quot;_1&quot;:0,&quot;_2&quot;:5},{&quot;_1&quot;:5,&quot;_2&quot;:3},{&quot;_1&quot;:10,&quot;_2&quot;:4},{&quot;_1&quot;:14,&quot;_2&quot;:5},{&quot;_1&quot;:1,&quot;_2&quot;:7},{&quot;_1&quot;:6,&quot;_2&quot;:11},{&quot;_1&quot;:9,&quot;_2&quot;:6},{&quot;_1&quot;:13,&quot;_2&quot;:11},{&quot;_1&quot;:2,&quot;_2&quot;:4},{&quot;_1&quot;:12,&quot;_2&quot;:15},{&quot;_1&quot;:7,&quot;_2&quot;:6},{&quot;_1&quot;:3,&quot;_2&quot;:15},{&quot;_1&quot;:11,&quot;_2&quot;:6},{&quot;_1&quot;:8,&quot;_2&quot;:21},{&quot;_1&quot;:4,&quot;_2&quot;:13}],&quot;genId&quot;:&quot;958909230&quot;}\" type=\"text/x-scoped-javascript\">/*<![CDATA[*/req(['../javascripts/notebook/playground','../javascripts/notebook/magic/pivotChart'], \n      function(playground, _magicpivotChart) {\n        // data ==> data-this (in observable.js's scopedEval) ==> this in JS => { dataId, dataInit, ... }\n        // this ==> scope (in observable.js's scopedEval) ==> this.parentElement ==> div.container below (toHtml)\n\n        playground.call(data,\n                        this\n                        ,\n                        {\n    \"f\": _magicpivotChart,\n    \"o\": {\"width\":600,\"height\":400,\"derivedAttributes\":{},\"extraOptions\":{}}\n  }\n  \n                        \n                        \n                      );\n      }\n    );/*]]>*/</script>\n    <div>\n      <span class=\"chart-total-item-count\"><p data-bind=\"text: value\"><script data-this=\"{&quot;valueId&quot;:&quot;anon94ae7434981009ec5d931193c2aac53e&quot;,&quot;initialValue&quot;:&quot;15&quot;}\" type=\"text/x-scoped-javascript\">/*<![CDATA[*/\nreq(\n['observable', 'knockout'],\nfunction (O, ko) {\n  ko.applyBindings({\n      value: O.makeObservable(valueId, initialValue)\n    },\n    this\n  );\n});\n        /*]]>*/</script></p> entries total</span>\n      <span class=\"chart-sampling-warning\"><p data-bind=\"text: value\"><script data-this=\"{&quot;valueId&quot;:&quot;anon060f635b4a55bbb9e89db49da7a3d57f&quot;,&quot;initialValue&quot;:&quot;&quot;}\" type=\"text/x-scoped-javascript\">/*<![CDATA[*/\nreq(\n['observable', 'knockout'],\nfunction (O, ko) {\n  ko.applyBindings({\n      value: O.makeObservable(valueId, initialValue)\n    },\n    this\n  );\n});\n        /*]]>*/</script></p></span>\n      <div>\n      </div>\n    </div></div>\n            </div></div>\n      </div>\n    </div></div>"
      },
      "output_type" : "execute_result",
      "execution_count" : 6,
      "time" : "Took: 5.316s, at 2019-02-02 00:30"
    } ]
  }, {
    "metadata" : {
      "trusted" : true,
      "input_collapsed" : false,
      "collapsed" : true,
      "id" : "3A315039E9904A35B05338E1E1BDCC5F"
    },
    "cell_type" : "code",
    "source" : [ "val confu= new ConfusionMatrix(labels_15)" ],
    "outputs" : [ ]
  }, {
    "metadata" : {
      "id" : "399F5EB17EBD4CDF8A7693FCF617B2EF"
    },
    "cell_type" : "markdown",
    "source" : "#pour K=20"
  }, {
    "metadata" : {
      "trusted" : true,
      "input_collapsed" : false,
      "collapsed" : false,
      "id" : "0C4EE8F0A755498DBF099AC0C877286E"
    },
    "cell_type" : "code",
    "source" : [ "val kmeans = new KMeans()\n", ".setK(20)\n", ".setSeed(1L)\n", ".setMaxIter(200)\n", "\n", "val model_k_20 = kmeans.fit(dataPCA)\n", "\n", "val WSSSE = model_k_20.computeCost(dataPCA)\n", "//println(\"Within Set Sum of Squared Errors = $WSSSE\")" ],
    "outputs" : [ {
      "name" : "stdout",
      "output_type" : "stream",
      "text" : "kmeans: org.apache.spark.ml.clustering.KMeans = kmeans_41389939085b\nmodel_k_20: org.apache.spark.ml.clustering.KMeansModel = kmeans_41389939085b\nWSSSE: Double = 5.39355161840909\n"
    }, {
      "metadata" : { },
      "data" : {
        "text/html" : ""
      },
      "output_type" : "execute_result",
      "execution_count" : 19,
      "time" : "Took: 4.597s, at 2019-02-02 00:26"
    } ]
  }, {
    "metadata" : {
      "trusted" : true,
      "input_collapsed" : false,
      "collapsed" : true,
      "id" : "31B76CB6E29A422991ABC3B893054DF0"
    },
    "cell_type" : "code",
    "source" : [ "" ],
    "outputs" : [ ]
  }, {
    "metadata" : {
      "trusted" : true,
      "input_collapsed" : false,
      "collapsed" : false,
      "id" : "6224838661464DE59D38EEC22EDCCE31"
    },
    "cell_type" : "code",
    "source" : [ "val  centers = model_k_20.clusterCenters" ],
    "outputs" : [ {
      "name" : "stdout",
      "output_type" : "stream",
      "text" : "centers: Array[org.apache.spark.ml.linalg.Vector] = Array([1.0205875,0.47036249999999996], [-1.0041833333333332,-0.8291499999999999], [-0.38122727272727275,0.5783909090909091], [0.6290800000000001,-0.0015399999999999997], [0.20623750000000002,-0.9361624999999999], [-0.5683285714285714,-0.44052857142857144], [-0.49360000000000004,1.1530666666666665], [0.7569777777777777,0.8373111111111111], [0.68638,0.33049], [1.12484,0.018359999999999998], [1.2272333333333334,-0.6337333333333334], [-0.90595,0.7488], [0.25849999999999995,1.1322999999999999], [0.71672,-0.3961800000000001], [-1.67965,-0.32645], [0.011980000000000003,-1.0563400000000003], [-0.39225,-0.8485750000000001], [0.02852222222222222,-0.6709999999999999], [-0.9243857142857143,0.24675714285714284], [0.882,-1.0495])\n"
    }, {
      "metadata" : { },
      "data" : {
        "text/html" : ""
      },
      "output_type" : "execute_result",
      "execution_count" : 20,
      "time" : "Took: 3.335s, at 2019-02-02 00:26"
    } ]
  }, {
    "metadata" : {
      "trusted" : true,
      "input_collapsed" : false,
      "collapsed" : false,
      "id" : "305C87146D8C4074AF9261AC8B0F6E7D"
    },
    "cell_type" : "code",
    "source" : [ "val labels_20 = model_k_20.transform(dataPCA).select(\"prediction\").collect.map(_.getInt(0))\n" ],
    "outputs" : [ {
      "name" : "stdout",
      "output_type" : "stream",
      "text" : "labels_20: Array[Int] = Array(8, 2, 13, 2, 18, 4, 17, 0, 0, 4, 12, 8, 18, 5, 3, 18, 16, 11, 16, 3, 2, 0, 17, 4, 12, 7, 5, 9, 6, 0, 18, 15, 4, 18, 17, 18, 13, 2, 11, 7, 0, 5, 11, 3, 2, 1, 7, 19, 8, 15, 1, 6, 13, 10, 14, 11, 16, 10, 18, 7, 18, 11, 5, 4, 15, 4, 18, 17, 7, 1, 9, 8, 8, 12, 13, 18, 0, 6, 8, 4, 9, 12, 18, 0, 6, 17, 12, 2, 5, 2, 17, 1, 7, 5, 3, 0, 15, 7, 2, 10, 17, 5, 2, 8, 15, 9, 8, 14, 8, 9, 11, 4, 6, 2, 17, 18, 17, 18, 18, 16, 7, 12, 1, 13, 11, 11, 1, 2, 3, 7, 8, 6)\n"
    }, {
      "metadata" : { },
      "data" : {
        "text/html" : ""
      },
      "output_type" : "execute_result",
      "execution_count" : 21,
      "time" : "Took: 3.543s, at 2019-02-02 00:26"
    } ]
  }, {
    "metadata" : {
      "trusted" : true,
      "input_collapsed" : false,
      "collapsed" : false,
      "id" : "791A11CF922D4AEBA31753871C268D70"
    },
    "cell_type" : "code",
    "source" : [ " plot(dataToPlot,labels_20,'.', Palette.COLORS)" ],
    "outputs" : [ {
      "name" : "stdout",
      "output_type" : "stream",
      "text" : "res149: smile.plot.Window = Window(javax.swing.JFrame[frame7,300,0,1000x1000,invalid,layout=java.awt.BorderLayout,title=Smile Plot 8,resizable,normal,defaultCloseOperation=DISPOSE_ON_CLOSE,rootPane=javax.swing.JRootPane[,5,25,990x970,invalid,layout=javax.swing.JRootPane$RootLayout,alignmentX=0.0,alignmentY=0.0,border=,flags=16777673,maximumSize=,minimumSize=,preferredSize=],rootPaneCheckingEnabled=true],smile.plot.PlotCanvas[,0,0,0x0,invalid,layout=java.awt.BorderLayout,alignmentX=0.0,alignmentY=0.0,border=,flags=9,maximumSize=,minimumSize=,preferredSize=])\n"
    }, {
      "metadata" : { },
      "data" : {
        "text/html" : "Window(javax.swing.JFrame[frame7,300,25,1000x1000,layout=java.awt.BorderLayout,title=Smile Plot 8,resizable,normal,defaultCloseOperation=DISPOSE_ON_CLOSE,rootPane=javax.swing.JRootPane[,3,29,994x968,layout=javax.swing.JRootPane$RootLayout,alignmentX=0.0,alignmentY=0.0,border=,flags=16777673,maximumSize=,minimumSize=,preferredSize=],rootPaneCheckingEnabled=true],smile.plot.PlotCanvas[,0,0,994x968,layout=java.awt.BorderLayout,alignmentX=0.0,alignmentY=0.0,border=,flags=9,maximumSize=,minimumSize=,preferredSize=])"
      },
      "output_type" : "execute_result",
      "execution_count" : 22,
      "time" : "Took: 4.080s, at 2019-02-02 00:26"
    } ]
  }, {
    "metadata" : {
      "id" : "099D790FBE5F409C8DC03009E4076637"
    },
    "cell_type" : "markdown",
    "source" : "#Cardinalité"
  }, {
    "metadata" : {
      "trusted" : true,
      "input_collapsed" : false,
      "collapsed" : false,
      "presentation" : {
        "tabs_state" : "{\n  \"tab_id\": \"#tab1306067892-0\"\n}",
        "pivot_chart_state" : "{\n  \"hiddenAttributes\": [],\n  \"menuLimit\": 200,\n  \"cols\": [],\n  \"rows\": [],\n  \"vals\": [],\n  \"exclusions\": {},\n  \"inclusions\": {},\n  \"unusedAttrsVertical\": 85,\n  \"autoSortUnusedAttrs\": false,\n  \"inclusionsInfo\": {},\n  \"aggregatorName\": \"Count\",\n  \"rendererName\": \"Table\"\n}"
      },
      "id" : "9ABCE46170154551968383D6167D6392"
    },
    "cell_type" : "code",
    "source" : [ "labels_20.groupBy(identity).mapValues(_.size)" ],
    "outputs" : [ {
      "name" : "stdout",
      "output_type" : "stream",
      "text" : "res164: scala.collection.immutable.Map[Int,Int] = Map(0 -> 8, 5 -> 7, 10 -> 3, 14 -> 2, 1 -> 6, 6 -> 6, 9 -> 5, 13 -> 5, 2 -> 11, 17 -> 9, 12 -> 6, 7 -> 9, 3 -> 5, 18 -> 14, 16 -> 4, 11 -> 8, 8 -> 10, 19 -> 1, 4 -> 8, 15 -> 5)\n"
    }, {
      "metadata" : { },
      "data" : {
        "text/html" : "<div>\n      <script data-this=\"{&quot;dataId&quot;:&quot;anond694f093c0911e9e63f11b485053c3f7&quot;,&quot;dataInit&quot;:[],&quot;genId&quot;:&quot;1306067892&quot;}\" type=\"text/x-scoped-javascript\">/*<![CDATA[*/req(['../javascripts/notebook/playground','../javascripts/notebook/magic/tabs'], \n      function(playground, _magictabs) {\n        // data ==> data-this (in observable.js's scopedEval) ==> this in JS => { dataId, dataInit, ... }\n        // this ==> scope (in observable.js's scopedEval) ==> this.parentElement ==> div.container below (toHtml)\n\n        playground.call(data,\n                        this\n                        ,\n                        {\n    \"f\": _magictabs,\n    \"o\": {}\n  }\n  \n                        \n                        \n                      );\n      }\n    );/*]]>*/</script>\n    <div>\n      <div>\n        <ul class=\"nav nav-tabs\" id=\"ul1306067892\"><li>\n              <a href=\"#tab1306067892-0\"><i class=\"fa fa-table\"/></a>\n            </li><li>\n              <a href=\"#tab1306067892-1\"><i class=\"fa fa-dot-circle-o\"/></a>\n            </li><li>\n              <a href=\"#tab1306067892-2\"><i class=\"fa fa-line-chart\"/></a>\n            </li><li>\n              <a href=\"#tab1306067892-3\"><i class=\"fa fa-bar-chart\"/></a>\n            </li><li>\n              <a href=\"#tab1306067892-4\"><i class=\"fa fa-cubes\"/></a>\n            </li></ul>\n\n        <div class=\"tab-content\" id=\"tab1306067892\"><div class=\"tab-pane\" id=\"tab1306067892-0\">\n            <div>\n      <script data-this=\"{&quot;dataId&quot;:&quot;anona4f784d90561a98eed3b8898aa1ac23b&quot;,&quot;dataInit&quot;:[{&quot;_1&quot;:0,&quot;_2&quot;:8},{&quot;_1&quot;:5,&quot;_2&quot;:7},{&quot;_1&quot;:10,&quot;_2&quot;:3},{&quot;_1&quot;:14,&quot;_2&quot;:2},{&quot;_1&quot;:1,&quot;_2&quot;:6},{&quot;_1&quot;:6,&quot;_2&quot;:6},{&quot;_1&quot;:9,&quot;_2&quot;:5},{&quot;_1&quot;:13,&quot;_2&quot;:5},{&quot;_1&quot;:2,&quot;_2&quot;:11},{&quot;_1&quot;:17,&quot;_2&quot;:9},{&quot;_1&quot;:12,&quot;_2&quot;:6},{&quot;_1&quot;:7,&quot;_2&quot;:9},{&quot;_1&quot;:3,&quot;_2&quot;:5},{&quot;_1&quot;:18,&quot;_2&quot;:14},{&quot;_1&quot;:16,&quot;_2&quot;:4},{&quot;_1&quot;:11,&quot;_2&quot;:8},{&quot;_1&quot;:8,&quot;_2&quot;:10},{&quot;_1&quot;:19,&quot;_2&quot;:1},{&quot;_1&quot;:4,&quot;_2&quot;:8},{&quot;_1&quot;:15,&quot;_2&quot;:5}],&quot;genId&quot;:&quot;540492188&quot;}\" type=\"text/x-scoped-javascript\">/*<![CDATA[*/req(['../javascripts/notebook/playground','../javascripts/notebook/magic/tableChart'], \n      function(playground, _magictableChart) {\n        // data ==> data-this (in observable.js's scopedEval) ==> this in JS => { dataId, dataInit, ... }\n        // this ==> scope (in observable.js's scopedEval) ==> this.parentElement ==> div.container below (toHtml)\n\n        playground.call(data,\n                        this\n                        ,\n                        {\n    \"f\": _magictableChart,\n    \"o\": {\"headers\":[\"_1\",\"_2\"],\"width\":600,\"height\":400}\n  }\n  \n                        \n                        \n                      );\n      }\n    );/*]]>*/</script>\n    <div>\n      <span class=\"chart-total-item-count\"><p data-bind=\"text: value\"><script data-this=\"{&quot;valueId&quot;:&quot;anona9fd0c029c90f1ea8c1ce3be137b8f44&quot;,&quot;initialValue&quot;:&quot;20&quot;}\" type=\"text/x-scoped-javascript\">/*<![CDATA[*/\nreq(\n['observable', 'knockout'],\nfunction (O, ko) {\n  ko.applyBindings({\n      value: O.makeObservable(valueId, initialValue)\n    },\n    this\n  );\n});\n        /*]]>*/</script></p> entries total</span>\n      <span class=\"chart-sampling-warning\"><p data-bind=\"text: value\"><script data-this=\"{&quot;valueId&quot;:&quot;anon982a3946eb654f06c1ed385787675c2a&quot;,&quot;initialValue&quot;:&quot;&quot;}\" type=\"text/x-scoped-javascript\">/*<![CDATA[*/\nreq(\n['observable', 'knockout'],\nfunction (O, ko) {\n  ko.applyBindings({\n      value: O.makeObservable(valueId, initialValue)\n    },\n    this\n  );\n});\n        /*]]>*/</script></p></span>\n      <div>\n      </div>\n    </div></div>\n            </div><div class=\"tab-pane\" id=\"tab1306067892-1\">\n            <div>\n      <script data-this=\"{&quot;dataId&quot;:&quot;anonea716cba396101ab22804bde4f884c0b&quot;,&quot;dataInit&quot;:[{&quot;_1&quot;:0,&quot;_2&quot;:8},{&quot;_1&quot;:5,&quot;_2&quot;:7},{&quot;_1&quot;:10,&quot;_2&quot;:3},{&quot;_1&quot;:14,&quot;_2&quot;:2},{&quot;_1&quot;:1,&quot;_2&quot;:6},{&quot;_1&quot;:6,&quot;_2&quot;:6},{&quot;_1&quot;:9,&quot;_2&quot;:5},{&quot;_1&quot;:13,&quot;_2&quot;:5},{&quot;_1&quot;:2,&quot;_2&quot;:11},{&quot;_1&quot;:17,&quot;_2&quot;:9},{&quot;_1&quot;:12,&quot;_2&quot;:6},{&quot;_1&quot;:7,&quot;_2&quot;:9},{&quot;_1&quot;:3,&quot;_2&quot;:5},{&quot;_1&quot;:18,&quot;_2&quot;:14},{&quot;_1&quot;:16,&quot;_2&quot;:4},{&quot;_1&quot;:11,&quot;_2&quot;:8},{&quot;_1&quot;:8,&quot;_2&quot;:10},{&quot;_1&quot;:19,&quot;_2&quot;:1},{&quot;_1&quot;:4,&quot;_2&quot;:8},{&quot;_1&quot;:15,&quot;_2&quot;:5}],&quot;genId&quot;:&quot;1442681663&quot;}\" type=\"text/x-scoped-javascript\">/*<![CDATA[*/req(['../javascripts/notebook/playground','../javascripts/notebook/magic/scatterChart'], \n      function(playground, _magicscatterChart) {\n        // data ==> data-this (in observable.js's scopedEval) ==> this in JS => { dataId, dataInit, ... }\n        // this ==> scope (in observable.js's scopedEval) ==> this.parentElement ==> div.container below (toHtml)\n\n        playground.call(data,\n                        this\n                        ,\n                        {\n    \"f\": _magicscatterChart,\n    \"o\": {\"x\":\"_1\",\"y\":\"_2\",\"width\":600,\"height\":400}\n  }\n  \n                        \n                        \n                      );\n      }\n    );/*]]>*/</script>\n    <div>\n      <span class=\"chart-total-item-count\"><p data-bind=\"text: value\"><script data-this=\"{&quot;valueId&quot;:&quot;anon9e44afb722172c108bc9162e22da17f5&quot;,&quot;initialValue&quot;:&quot;20&quot;}\" type=\"text/x-scoped-javascript\">/*<![CDATA[*/\nreq(\n['observable', 'knockout'],\nfunction (O, ko) {\n  ko.applyBindings({\n      value: O.makeObservable(valueId, initialValue)\n    },\n    this\n  );\n});\n        /*]]>*/</script></p> entries total</span>\n      <span class=\"chart-sampling-warning\"><p data-bind=\"text: value\"><script data-this=\"{&quot;valueId&quot;:&quot;anon65c569e337f47b56d5269fc9c8a05678&quot;,&quot;initialValue&quot;:&quot;&quot;}\" type=\"text/x-scoped-javascript\">/*<![CDATA[*/\nreq(\n['observable', 'knockout'],\nfunction (O, ko) {\n  ko.applyBindings({\n      value: O.makeObservable(valueId, initialValue)\n    },\n    this\n  );\n});\n        /*]]>*/</script></p></span>\n      <div>\n      </div>\n    </div></div>\n            </div><div class=\"tab-pane\" id=\"tab1306067892-2\">\n            <div>\n      <script data-this=\"{&quot;dataId&quot;:&quot;anond4c6d7ad8c5e3f745e38d1371138fb03&quot;,&quot;dataInit&quot;:[{&quot;_1&quot;:0,&quot;_2&quot;:8},{&quot;_1&quot;:5,&quot;_2&quot;:7},{&quot;_1&quot;:10,&quot;_2&quot;:3},{&quot;_1&quot;:14,&quot;_2&quot;:2},{&quot;_1&quot;:1,&quot;_2&quot;:6},{&quot;_1&quot;:6,&quot;_2&quot;:6},{&quot;_1&quot;:9,&quot;_2&quot;:5},{&quot;_1&quot;:13,&quot;_2&quot;:5},{&quot;_1&quot;:2,&quot;_2&quot;:11},{&quot;_1&quot;:17,&quot;_2&quot;:9},{&quot;_1&quot;:12,&quot;_2&quot;:6},{&quot;_1&quot;:7,&quot;_2&quot;:9},{&quot;_1&quot;:3,&quot;_2&quot;:5},{&quot;_1&quot;:18,&quot;_2&quot;:14},{&quot;_1&quot;:16,&quot;_2&quot;:4},{&quot;_1&quot;:11,&quot;_2&quot;:8},{&quot;_1&quot;:8,&quot;_2&quot;:10},{&quot;_1&quot;:19,&quot;_2&quot;:1},{&quot;_1&quot;:4,&quot;_2&quot;:8},{&quot;_1&quot;:15,&quot;_2&quot;:5}],&quot;genId&quot;:&quot;1013834912&quot;}\" type=\"text/x-scoped-javascript\">/*<![CDATA[*/req(['../javascripts/notebook/playground','../javascripts/notebook/magic/lineChart'], \n      function(playground, _magiclineChart) {\n        // data ==> data-this (in observable.js's scopedEval) ==> this in JS => { dataId, dataInit, ... }\n        // this ==> scope (in observable.js's scopedEval) ==> this.parentElement ==> div.container below (toHtml)\n\n        playground.call(data,\n                        this\n                        ,\n                        {\n    \"f\": _magiclineChart,\n    \"o\": {\"x\":\"_1\",\"y\":\"_2\",\"width\":600,\"height\":400}\n  }\n  \n                        \n                        \n                      );\n      }\n    );/*]]>*/</script>\n    <div>\n      <span class=\"chart-total-item-count\"><p data-bind=\"text: value\"><script data-this=\"{&quot;valueId&quot;:&quot;anon993101981878cde3ef040511fb302fdf&quot;,&quot;initialValue&quot;:&quot;20&quot;}\" type=\"text/x-scoped-javascript\">/*<![CDATA[*/\nreq(\n['observable', 'knockout'],\nfunction (O, ko) {\n  ko.applyBindings({\n      value: O.makeObservable(valueId, initialValue)\n    },\n    this\n  );\n});\n        /*]]>*/</script></p> entries total</span>\n      <span class=\"chart-sampling-warning\"><p data-bind=\"text: value\"><script data-this=\"{&quot;valueId&quot;:&quot;anon45f6c243c5c3acbe72ed3936d646d9d9&quot;,&quot;initialValue&quot;:&quot;&quot;}\" type=\"text/x-scoped-javascript\">/*<![CDATA[*/\nreq(\n['observable', 'knockout'],\nfunction (O, ko) {\n  ko.applyBindings({\n      value: O.makeObservable(valueId, initialValue)\n    },\n    this\n  );\n});\n        /*]]>*/</script></p></span>\n      <div>\n      </div>\n    </div></div>\n            </div><div class=\"tab-pane\" id=\"tab1306067892-3\">\n            <div>\n      <script data-this=\"{&quot;dataId&quot;:&quot;anon24e2ac8e139a23597b572df6034189bd&quot;,&quot;dataInit&quot;:[{&quot;_1&quot;:0,&quot;_2&quot;:8},{&quot;_1&quot;:5,&quot;_2&quot;:7},{&quot;_1&quot;:10,&quot;_2&quot;:3},{&quot;_1&quot;:14,&quot;_2&quot;:2},{&quot;_1&quot;:1,&quot;_2&quot;:6},{&quot;_1&quot;:6,&quot;_2&quot;:6},{&quot;_1&quot;:9,&quot;_2&quot;:5},{&quot;_1&quot;:13,&quot;_2&quot;:5},{&quot;_1&quot;:2,&quot;_2&quot;:11},{&quot;_1&quot;:17,&quot;_2&quot;:9},{&quot;_1&quot;:12,&quot;_2&quot;:6},{&quot;_1&quot;:7,&quot;_2&quot;:9},{&quot;_1&quot;:3,&quot;_2&quot;:5},{&quot;_1&quot;:18,&quot;_2&quot;:14},{&quot;_1&quot;:16,&quot;_2&quot;:4},{&quot;_1&quot;:11,&quot;_2&quot;:8},{&quot;_1&quot;:8,&quot;_2&quot;:10},{&quot;_1&quot;:19,&quot;_2&quot;:1},{&quot;_1&quot;:4,&quot;_2&quot;:8},{&quot;_1&quot;:15,&quot;_2&quot;:5}],&quot;genId&quot;:&quot;1246472795&quot;}\" type=\"text/x-scoped-javascript\">/*<![CDATA[*/req(['../javascripts/notebook/playground','../javascripts/notebook/magic/barChart'], \n      function(playground, _magicbarChart) {\n        // data ==> data-this (in observable.js's scopedEval) ==> this in JS => { dataId, dataInit, ... }\n        // this ==> scope (in observable.js's scopedEval) ==> this.parentElement ==> div.container below (toHtml)\n\n        playground.call(data,\n                        this\n                        ,\n                        {\n    \"f\": _magicbarChart,\n    \"o\": {\"x\":\"_1\",\"y\":\"_2\",\"width\":600,\"height\":400}\n  }\n  \n                        \n                        \n                      );\n      }\n    );/*]]>*/</script>\n    <div>\n      <span class=\"chart-total-item-count\"><p data-bind=\"text: value\"><script data-this=\"{&quot;valueId&quot;:&quot;anon0fe961db508c9a120dbd16cf58e9f468&quot;,&quot;initialValue&quot;:&quot;20&quot;}\" type=\"text/x-scoped-javascript\">/*<![CDATA[*/\nreq(\n['observable', 'knockout'],\nfunction (O, ko) {\n  ko.applyBindings({\n      value: O.makeObservable(valueId, initialValue)\n    },\n    this\n  );\n});\n        /*]]>*/</script></p> entries total</span>\n      <span class=\"chart-sampling-warning\"><p data-bind=\"text: value\"><script data-this=\"{&quot;valueId&quot;:&quot;anon08f7a8ae6ad87e22e3f6400708b227c8&quot;,&quot;initialValue&quot;:&quot;&quot;}\" type=\"text/x-scoped-javascript\">/*<![CDATA[*/\nreq(\n['observable', 'knockout'],\nfunction (O, ko) {\n  ko.applyBindings({\n      value: O.makeObservable(valueId, initialValue)\n    },\n    this\n  );\n});\n        /*]]>*/</script></p></span>\n      <div>\n      </div>\n    </div></div>\n            </div><div class=\"tab-pane\" id=\"tab1306067892-4\">\n            <div>\n      <script data-this=\"{&quot;dataId&quot;:&quot;anon5c6fb86339e2db3ea9ce6e883f4b24cd&quot;,&quot;dataInit&quot;:[{&quot;_1&quot;:0,&quot;_2&quot;:8},{&quot;_1&quot;:5,&quot;_2&quot;:7},{&quot;_1&quot;:10,&quot;_2&quot;:3},{&quot;_1&quot;:14,&quot;_2&quot;:2},{&quot;_1&quot;:1,&quot;_2&quot;:6},{&quot;_1&quot;:6,&quot;_2&quot;:6},{&quot;_1&quot;:9,&quot;_2&quot;:5},{&quot;_1&quot;:13,&quot;_2&quot;:5},{&quot;_1&quot;:2,&quot;_2&quot;:11},{&quot;_1&quot;:17,&quot;_2&quot;:9},{&quot;_1&quot;:12,&quot;_2&quot;:6},{&quot;_1&quot;:7,&quot;_2&quot;:9},{&quot;_1&quot;:3,&quot;_2&quot;:5},{&quot;_1&quot;:18,&quot;_2&quot;:14},{&quot;_1&quot;:16,&quot;_2&quot;:4},{&quot;_1&quot;:11,&quot;_2&quot;:8},{&quot;_1&quot;:8,&quot;_2&quot;:10},{&quot;_1&quot;:19,&quot;_2&quot;:1},{&quot;_1&quot;:4,&quot;_2&quot;:8},{&quot;_1&quot;:15,&quot;_2&quot;:5}],&quot;genId&quot;:&quot;108567964&quot;}\" type=\"text/x-scoped-javascript\">/*<![CDATA[*/req(['../javascripts/notebook/playground','../javascripts/notebook/magic/pivotChart'], \n      function(playground, _magicpivotChart) {\n        // data ==> data-this (in observable.js's scopedEval) ==> this in JS => { dataId, dataInit, ... }\n        // this ==> scope (in observable.js's scopedEval) ==> this.parentElement ==> div.container below (toHtml)\n\n        playground.call(data,\n                        this\n                        ,\n                        {\n    \"f\": _magicpivotChart,\n    \"o\": {\"width\":600,\"height\":400,\"derivedAttributes\":{},\"extraOptions\":{}}\n  }\n  \n                        \n                        \n                      );\n      }\n    );/*]]>*/</script>\n    <div>\n      <span class=\"chart-total-item-count\"><p data-bind=\"text: value\"><script data-this=\"{&quot;valueId&quot;:&quot;anonffec37240576e4280c9b12a1e0965d01&quot;,&quot;initialValue&quot;:&quot;20&quot;}\" type=\"text/x-scoped-javascript\">/*<![CDATA[*/\nreq(\n['observable', 'knockout'],\nfunction (O, ko) {\n  ko.applyBindings({\n      value: O.makeObservable(valueId, initialValue)\n    },\n    this\n  );\n});\n        /*]]>*/</script></p> entries total</span>\n      <span class=\"chart-sampling-warning\"><p data-bind=\"text: value\"><script data-this=\"{&quot;valueId&quot;:&quot;anon4fb03099d210bb30d7b40acd4e8c29a1&quot;,&quot;initialValue&quot;:&quot;&quot;}\" type=\"text/x-scoped-javascript\">/*<![CDATA[*/\nreq(\n['observable', 'knockout'],\nfunction (O, ko) {\n  ko.applyBindings({\n      value: O.makeObservable(valueId, initialValue)\n    },\n    this\n  );\n});\n        /*]]>*/</script></p></span>\n      <div>\n      </div>\n    </div></div>\n            </div></div>\n      </div>\n    </div></div>"
      },
      "output_type" : "execute_result",
      "execution_count" : 7,
      "time" : "Took: 4.613s, at 2019-02-02 00:31"
    } ]
  }, {
    "metadata" : {
      "trusted" : true,
      "input_collapsed" : false,
      "collapsed" : true,
      "id" : "F940BF712438420F81C5E01E4C811980"
    },
    "cell_type" : "code",
    "source" : [ "val confu= new ConfusionMatrix(labels_20)" ],
    "outputs" : [ ]
  }, {
    "metadata" : {
      "trusted" : true,
      "input_collapsed" : false,
      "collapsed" : false,
      "id" : "EF5409CE404043268AF4622F3467F483"
    },
    "cell_type" : "code",
    "source" : [ "//val K = List(2,3,5,10,15,20)\n", "//plot(K,,'.', Palette.COLORS)" ],
    "outputs" : [ {
      "metadata" : { },
      "data" : {
        "text/html" : ""
      },
      "output_type" : "execute_result",
      "execution_count" : 3,
      "time" : "Took: 3.940s, at 2019-02-02 00:04"
    } ]
  }, {
    "metadata" : {
      "trusted" : true,
      "input_collapsed" : false,
      "collapsed" : false,
      "id" : "6AEB1470685D49BF8A1075C329052226"
    },
    "cell_type" : "markdown",
    "source" : "#Frontière de décision :\nOn vous demande de représenter \nles frontières de décision dans le cas qui présente le moins de formes fortes de la question 3° précédente.\nPour cela, vous aurez besoin de définir un ensemble constitué des points d’un maillage 2D; \non vous propose les points de -1.8 à 1.8 par pas de 0.05 par exemple. "
  }, {
    "metadata" : {
      "trusted" : true,
      "input_collapsed" : false,
      "collapsed" : false,
      "presentation" : {
        "tabs_state" : "{\n  \"tab_id\": \"#tab1500096315-2\"\n}",
        "pivot_chart_state" : "{\n  \"hiddenAttributes\": [],\n  \"menuLimit\": 200,\n  \"cols\": [],\n  \"rows\": [],\n  \"vals\": [],\n  \"exclusions\": {},\n  \"inclusions\": {},\n  \"unusedAttrsVertical\": 85,\n  \"autoSortUnusedAttrs\": false,\n  \"inclusionsInfo\": {},\n  \"aggregatorName\": \"Count\",\n  \"rendererName\": \"Table\"\n}"
      },
      "id" : "9C77167937A84B828803FD55598CF902"
    },
    "cell_type" : "code",
    "source" : [ "val rak=Range.Double(-1.8, 1.8, 0.05)\n", "rak\n", "//plot(,rak,'.', Palette.COLORS)" ],
    "outputs" : [ {
      "name" : "stdout",
      "output_type" : "stream",
      "text" : "rak: scala.collection.immutable.NumericRange[Double] = NumericRange(-1.8, -1.75, -1.7, -1.65, -1.6, -1.55, -1.5, -1.45, -1.4, -1.35, -1.3, -1.25, -1.2, -1.15, -1.1, -1.05, -1.0, -0.95, -0.9, -0.85, -0.8, -0.75, -0.7, -0.65, -0.6, -0.55, -0.5, -0.45, -0.4, -0.35, -0.3, -0.25, -0.2, -0.15, -0.1, -0.05, 0.0, 0.05, 0.1, 0.15, 0.2, 0.25, 0.3, 0.35, 0.4, 0.45, 0.5, 0.55, 0.6, 0.65, 0.7, 0.75, 0.8, 0.85, 0.9, 0.95, 1.0, 1.05, 1.1, 1.15, 1.2, 1.25, 1.3, 1.35, 1.4, 1.45, 1.5, 1.55, 1.6, 1.65, 1.7, 1.75)\nres176: scala.collection.immutable.NumericRange[Double] = NumericRange(-1.8, -1.75, -1.7, -1.65, -1.6, -1.55, -1.5, -1.45, -1.4, -1.35, -1.3, -1.25, -1.2, -1.15, -1.1, -1.05, -1.0, -0.95, -0.9, -0.85, -0.8, -0.75, -0.7, -0.65, -0.6, -0.55, -0.5, -0.45, -0.4, -0.35, -0.3, -0.25, -0.2, -0.15, -0.1,..."
    }, {
      "metadata" : { },
      "data" : {
        "text/html" : "<div>\n      <script data-this=\"{&quot;dataId&quot;:&quot;anon80df44fec9a1fe9c46a7623a44fe1227&quot;,&quot;dataInit&quot;:[],&quot;genId&quot;:&quot;1500096315&quot;}\" type=\"text/x-scoped-javascript\">/*<![CDATA[*/req(['../javascripts/notebook/playground','../javascripts/notebook/magic/tabs'], \n      function(playground, _magictabs) {\n        // data ==> data-this (in observable.js's scopedEval) ==> this in JS => { dataId, dataInit, ... }\n        // this ==> scope (in observable.js's scopedEval) ==> this.parentElement ==> div.container below (toHtml)\n\n        playground.call(data,\n                        this\n                        ,\n                        {\n    \"f\": _magictabs,\n    \"o\": {}\n  }\n  \n                        \n                        \n                      );\n      }\n    );/*]]>*/</script>\n    <div>\n      <div>\n        <ul class=\"nav nav-tabs\" id=\"ul1500096315\"><li>\n              <a href=\"#tab1500096315-0\"><i class=\"fa fa-table\"/></a>\n            </li><li>\n              <a href=\"#tab1500096315-1\"><i class=\"fa fa-dot-circle-o\"/></a>\n            </li><li>\n              <a href=\"#tab1500096315-2\"><i class=\"fa fa-line-chart\"/></a>\n            </li><li>\n              <a href=\"#tab1500096315-3\"><i class=\"fa fa-bar-chart\"/></a>\n            </li><li>\n              <a href=\"#tab1500096315-4\"><i class=\"fa fa-cubes\"/></a>\n            </li></ul>\n\n        <div class=\"tab-content\" id=\"tab1500096315\"><div class=\"tab-pane\" id=\"tab1500096315-0\">\n            <div>\n      <script data-this=\"{&quot;dataId&quot;:&quot;anoncec1d55a30d68df176a9476ee5c961df&quot;,&quot;dataInit&quot;:[{&quot;_1&quot;:0,&quot;_2&quot;:-1.8},{&quot;_1&quot;:1,&quot;_2&quot;:-1.75},{&quot;_1&quot;:2,&quot;_2&quot;:-1.7},{&quot;_1&quot;:3,&quot;_2&quot;:-1.65},{&quot;_1&quot;:4,&quot;_2&quot;:-1.6},{&quot;_1&quot;:5,&quot;_2&quot;:-1.55},{&quot;_1&quot;:6,&quot;_2&quot;:-1.5},{&quot;_1&quot;:7,&quot;_2&quot;:-1.45},{&quot;_1&quot;:8,&quot;_2&quot;:-1.4},{&quot;_1&quot;:9,&quot;_2&quot;:-1.35},{&quot;_1&quot;:10,&quot;_2&quot;:-1.3},{&quot;_1&quot;:11,&quot;_2&quot;:-1.25},{&quot;_1&quot;:12,&quot;_2&quot;:-1.2},{&quot;_1&quot;:13,&quot;_2&quot;:-1.15},{&quot;_1&quot;:14,&quot;_2&quot;:-1.1},{&quot;_1&quot;:15,&quot;_2&quot;:-1.05},{&quot;_1&quot;:16,&quot;_2&quot;:-1},{&quot;_1&quot;:17,&quot;_2&quot;:-0.95},{&quot;_1&quot;:18,&quot;_2&quot;:-0.9},{&quot;_1&quot;:19,&quot;_2&quot;:-0.85},{&quot;_1&quot;:20,&quot;_2&quot;:-0.8},{&quot;_1&quot;:21,&quot;_2&quot;:-0.75},{&quot;_1&quot;:22,&quot;_2&quot;:-0.7},{&quot;_1&quot;:23,&quot;_2&quot;:-0.65},{&quot;_1&quot;:24,&quot;_2&quot;:-0.6},{&quot;_1&quot;:25,&quot;_2&quot;:-0.55},{&quot;_1&quot;:26,&quot;_2&quot;:-0.5},{&quot;_1&quot;:27,&quot;_2&quot;:-0.45},{&quot;_1&quot;:28,&quot;_2&quot;:-0.4},{&quot;_1&quot;:29,&quot;_2&quot;:-0.35},{&quot;_1&quot;:30,&quot;_2&quot;:-0.3},{&quot;_1&quot;:31,&quot;_2&quot;:-0.25},{&quot;_1&quot;:32,&quot;_2&quot;:-0.2},{&quot;_1&quot;:33,&quot;_2&quot;:-0.15},{&quot;_1&quot;:34,&quot;_2&quot;:-0.1},{&quot;_1&quot;:35,&quot;_2&quot;:-0.05},{&quot;_1&quot;:36,&quot;_2&quot;:0},{&quot;_1&quot;:37,&quot;_2&quot;:0.05},{&quot;_1&quot;:38,&quot;_2&quot;:0.1},{&quot;_1&quot;:39,&quot;_2&quot;:0.15},{&quot;_1&quot;:40,&quot;_2&quot;:0.2},{&quot;_1&quot;:41,&quot;_2&quot;:0.25},{&quot;_1&quot;:42,&quot;_2&quot;:0.3},{&quot;_1&quot;:43,&quot;_2&quot;:0.35},{&quot;_1&quot;:44,&quot;_2&quot;:0.4},{&quot;_1&quot;:45,&quot;_2&quot;:0.45},{&quot;_1&quot;:46,&quot;_2&quot;:0.5},{&quot;_1&quot;:47,&quot;_2&quot;:0.55},{&quot;_1&quot;:48,&quot;_2&quot;:0.6},{&quot;_1&quot;:49,&quot;_2&quot;:0.65},{&quot;_1&quot;:50,&quot;_2&quot;:0.7},{&quot;_1&quot;:51,&quot;_2&quot;:0.75},{&quot;_1&quot;:52,&quot;_2&quot;:0.8},{&quot;_1&quot;:53,&quot;_2&quot;:0.85},{&quot;_1&quot;:54,&quot;_2&quot;:0.9},{&quot;_1&quot;:55,&quot;_2&quot;:0.95},{&quot;_1&quot;:56,&quot;_2&quot;:1},{&quot;_1&quot;:57,&quot;_2&quot;:1.05},{&quot;_1&quot;:58,&quot;_2&quot;:1.1},{&quot;_1&quot;:59,&quot;_2&quot;:1.15},{&quot;_1&quot;:60,&quot;_2&quot;:1.2},{&quot;_1&quot;:61,&quot;_2&quot;:1.25},{&quot;_1&quot;:62,&quot;_2&quot;:1.3},{&quot;_1&quot;:63,&quot;_2&quot;:1.35},{&quot;_1&quot;:64,&quot;_2&quot;:1.4},{&quot;_1&quot;:65,&quot;_2&quot;:1.45},{&quot;_1&quot;:66,&quot;_2&quot;:1.5},{&quot;_1&quot;:67,&quot;_2&quot;:1.55},{&quot;_1&quot;:68,&quot;_2&quot;:1.6},{&quot;_1&quot;:69,&quot;_2&quot;:1.65},{&quot;_1&quot;:70,&quot;_2&quot;:1.7},{&quot;_1&quot;:71,&quot;_2&quot;:1.75}],&quot;genId&quot;:&quot;725874265&quot;}\" type=\"text/x-scoped-javascript\">/*<![CDATA[*/req(['../javascripts/notebook/playground','../javascripts/notebook/magic/tableChart'], \n      function(playground, _magictableChart) {\n        // data ==> data-this (in observable.js's scopedEval) ==> this in JS => { dataId, dataInit, ... }\n        // this ==> scope (in observable.js's scopedEval) ==> this.parentElement ==> div.container below (toHtml)\n\n        playground.call(data,\n                        this\n                        ,\n                        {\n    \"f\": _magictableChart,\n    \"o\": {\"headers\":[\"_1\",\"_2\"],\"width\":600,\"height\":400}\n  }\n  \n                        \n                        \n                      );\n      }\n    );/*]]>*/</script>\n    <div>\n      <span class=\"chart-total-item-count\"><p data-bind=\"text: value\"><script data-this=\"{&quot;valueId&quot;:&quot;anon381cf7d7d6c1e438ce82e3f512ea6e9a&quot;,&quot;initialValue&quot;:&quot;72&quot;}\" type=\"text/x-scoped-javascript\">/*<![CDATA[*/\nreq(\n['observable', 'knockout'],\nfunction (O, ko) {\n  ko.applyBindings({\n      value: O.makeObservable(valueId, initialValue)\n    },\n    this\n  );\n});\n        /*]]>*/</script></p> entries total</span>\n      <span class=\"chart-sampling-warning\"><p data-bind=\"text: value\"><script data-this=\"{&quot;valueId&quot;:&quot;anona6f14e9af204a3f2ddd41c6235907f56&quot;,&quot;initialValue&quot;:&quot;&quot;}\" type=\"text/x-scoped-javascript\">/*<![CDATA[*/\nreq(\n['observable', 'knockout'],\nfunction (O, ko) {\n  ko.applyBindings({\n      value: O.makeObservable(valueId, initialValue)\n    },\n    this\n  );\n});\n        /*]]>*/</script></p></span>\n      <div>\n      </div>\n    </div></div>\n            </div><div class=\"tab-pane\" id=\"tab1500096315-1\">\n            <div>\n      <script data-this=\"{&quot;dataId&quot;:&quot;anon621589529cf2a61548340804756a6b7b&quot;,&quot;dataInit&quot;:[{&quot;_1&quot;:0,&quot;_2&quot;:-1.8},{&quot;_1&quot;:1,&quot;_2&quot;:-1.75},{&quot;_1&quot;:2,&quot;_2&quot;:-1.7},{&quot;_1&quot;:3,&quot;_2&quot;:-1.65},{&quot;_1&quot;:4,&quot;_2&quot;:-1.6},{&quot;_1&quot;:5,&quot;_2&quot;:-1.55},{&quot;_1&quot;:6,&quot;_2&quot;:-1.5},{&quot;_1&quot;:7,&quot;_2&quot;:-1.45},{&quot;_1&quot;:8,&quot;_2&quot;:-1.4},{&quot;_1&quot;:9,&quot;_2&quot;:-1.35},{&quot;_1&quot;:10,&quot;_2&quot;:-1.3},{&quot;_1&quot;:11,&quot;_2&quot;:-1.25},{&quot;_1&quot;:12,&quot;_2&quot;:-1.2},{&quot;_1&quot;:13,&quot;_2&quot;:-1.15},{&quot;_1&quot;:14,&quot;_2&quot;:-1.1},{&quot;_1&quot;:15,&quot;_2&quot;:-1.05},{&quot;_1&quot;:16,&quot;_2&quot;:-1},{&quot;_1&quot;:17,&quot;_2&quot;:-0.95},{&quot;_1&quot;:18,&quot;_2&quot;:-0.9},{&quot;_1&quot;:19,&quot;_2&quot;:-0.85},{&quot;_1&quot;:20,&quot;_2&quot;:-0.8},{&quot;_1&quot;:21,&quot;_2&quot;:-0.75},{&quot;_1&quot;:22,&quot;_2&quot;:-0.7},{&quot;_1&quot;:23,&quot;_2&quot;:-0.65},{&quot;_1&quot;:24,&quot;_2&quot;:-0.6},{&quot;_1&quot;:25,&quot;_2&quot;:-0.55},{&quot;_1&quot;:26,&quot;_2&quot;:-0.5},{&quot;_1&quot;:27,&quot;_2&quot;:-0.45},{&quot;_1&quot;:28,&quot;_2&quot;:-0.4},{&quot;_1&quot;:29,&quot;_2&quot;:-0.35},{&quot;_1&quot;:30,&quot;_2&quot;:-0.3},{&quot;_1&quot;:31,&quot;_2&quot;:-0.25},{&quot;_1&quot;:32,&quot;_2&quot;:-0.2},{&quot;_1&quot;:33,&quot;_2&quot;:-0.15},{&quot;_1&quot;:34,&quot;_2&quot;:-0.1},{&quot;_1&quot;:35,&quot;_2&quot;:-0.05},{&quot;_1&quot;:36,&quot;_2&quot;:0},{&quot;_1&quot;:37,&quot;_2&quot;:0.05},{&quot;_1&quot;:38,&quot;_2&quot;:0.1},{&quot;_1&quot;:39,&quot;_2&quot;:0.15},{&quot;_1&quot;:40,&quot;_2&quot;:0.2},{&quot;_1&quot;:41,&quot;_2&quot;:0.25},{&quot;_1&quot;:42,&quot;_2&quot;:0.3},{&quot;_1&quot;:43,&quot;_2&quot;:0.35},{&quot;_1&quot;:44,&quot;_2&quot;:0.4},{&quot;_1&quot;:45,&quot;_2&quot;:0.45},{&quot;_1&quot;:46,&quot;_2&quot;:0.5},{&quot;_1&quot;:47,&quot;_2&quot;:0.55},{&quot;_1&quot;:48,&quot;_2&quot;:0.6},{&quot;_1&quot;:49,&quot;_2&quot;:0.65},{&quot;_1&quot;:50,&quot;_2&quot;:0.7},{&quot;_1&quot;:51,&quot;_2&quot;:0.75},{&quot;_1&quot;:52,&quot;_2&quot;:0.8},{&quot;_1&quot;:53,&quot;_2&quot;:0.85},{&quot;_1&quot;:54,&quot;_2&quot;:0.9},{&quot;_1&quot;:55,&quot;_2&quot;:0.95},{&quot;_1&quot;:56,&quot;_2&quot;:1},{&quot;_1&quot;:57,&quot;_2&quot;:1.05},{&quot;_1&quot;:58,&quot;_2&quot;:1.1},{&quot;_1&quot;:59,&quot;_2&quot;:1.15},{&quot;_1&quot;:60,&quot;_2&quot;:1.2},{&quot;_1&quot;:61,&quot;_2&quot;:1.25},{&quot;_1&quot;:62,&quot;_2&quot;:1.3},{&quot;_1&quot;:63,&quot;_2&quot;:1.35},{&quot;_1&quot;:64,&quot;_2&quot;:1.4},{&quot;_1&quot;:65,&quot;_2&quot;:1.45},{&quot;_1&quot;:66,&quot;_2&quot;:1.5},{&quot;_1&quot;:67,&quot;_2&quot;:1.55},{&quot;_1&quot;:68,&quot;_2&quot;:1.6},{&quot;_1&quot;:69,&quot;_2&quot;:1.65},{&quot;_1&quot;:70,&quot;_2&quot;:1.7},{&quot;_1&quot;:71,&quot;_2&quot;:1.75}],&quot;genId&quot;:&quot;1718495902&quot;}\" type=\"text/x-scoped-javascript\">/*<![CDATA[*/req(['../javascripts/notebook/playground','../javascripts/notebook/magic/scatterChart'], \n      function(playground, _magicscatterChart) {\n        // data ==> data-this (in observable.js's scopedEval) ==> this in JS => { dataId, dataInit, ... }\n        // this ==> scope (in observable.js's scopedEval) ==> this.parentElement ==> div.container below (toHtml)\n\n        playground.call(data,\n                        this\n                        ,\n                        {\n    \"f\": _magicscatterChart,\n    \"o\": {\"x\":\"_1\",\"y\":\"_2\",\"width\":600,\"height\":400}\n  }\n  \n                        \n                        \n                      );\n      }\n    );/*]]>*/</script>\n    <div>\n      <span class=\"chart-total-item-count\"><p data-bind=\"text: value\"><script data-this=\"{&quot;valueId&quot;:&quot;anon9723fb983e3a90da824e75b7cb5ac0c7&quot;,&quot;initialValue&quot;:&quot;72&quot;}\" type=\"text/x-scoped-javascript\">/*<![CDATA[*/\nreq(\n['observable', 'knockout'],\nfunction (O, ko) {\n  ko.applyBindings({\n      value: O.makeObservable(valueId, initialValue)\n    },\n    this\n  );\n});\n        /*]]>*/</script></p> entries total</span>\n      <span class=\"chart-sampling-warning\"><p data-bind=\"text: value\"><script data-this=\"{&quot;valueId&quot;:&quot;anon48836e5dec43f2d4047951c5b215588f&quot;,&quot;initialValue&quot;:&quot;&quot;}\" type=\"text/x-scoped-javascript\">/*<![CDATA[*/\nreq(\n['observable', 'knockout'],\nfunction (O, ko) {\n  ko.applyBindings({\n      value: O.makeObservable(valueId, initialValue)\n    },\n    this\n  );\n});\n        /*]]>*/</script></p></span>\n      <div>\n      </div>\n    </div></div>\n            </div><div class=\"tab-pane\" id=\"tab1500096315-2\">\n            <div>\n      <script data-this=\"{&quot;dataId&quot;:&quot;anon68f14ebcd72ed5f443d7c74dcdb539be&quot;,&quot;dataInit&quot;:[{&quot;_1&quot;:0,&quot;_2&quot;:-1.8},{&quot;_1&quot;:1,&quot;_2&quot;:-1.75},{&quot;_1&quot;:2,&quot;_2&quot;:-1.7},{&quot;_1&quot;:3,&quot;_2&quot;:-1.65},{&quot;_1&quot;:4,&quot;_2&quot;:-1.6},{&quot;_1&quot;:5,&quot;_2&quot;:-1.55},{&quot;_1&quot;:6,&quot;_2&quot;:-1.5},{&quot;_1&quot;:7,&quot;_2&quot;:-1.45},{&quot;_1&quot;:8,&quot;_2&quot;:-1.4},{&quot;_1&quot;:9,&quot;_2&quot;:-1.35},{&quot;_1&quot;:10,&quot;_2&quot;:-1.3},{&quot;_1&quot;:11,&quot;_2&quot;:-1.25},{&quot;_1&quot;:12,&quot;_2&quot;:-1.2},{&quot;_1&quot;:13,&quot;_2&quot;:-1.15},{&quot;_1&quot;:14,&quot;_2&quot;:-1.1},{&quot;_1&quot;:15,&quot;_2&quot;:-1.05},{&quot;_1&quot;:16,&quot;_2&quot;:-1},{&quot;_1&quot;:17,&quot;_2&quot;:-0.95},{&quot;_1&quot;:18,&quot;_2&quot;:-0.9},{&quot;_1&quot;:19,&quot;_2&quot;:-0.85},{&quot;_1&quot;:20,&quot;_2&quot;:-0.8},{&quot;_1&quot;:21,&quot;_2&quot;:-0.75},{&quot;_1&quot;:22,&quot;_2&quot;:-0.7},{&quot;_1&quot;:23,&quot;_2&quot;:-0.65},{&quot;_1&quot;:24,&quot;_2&quot;:-0.6},{&quot;_1&quot;:25,&quot;_2&quot;:-0.55},{&quot;_1&quot;:26,&quot;_2&quot;:-0.5},{&quot;_1&quot;:27,&quot;_2&quot;:-0.45},{&quot;_1&quot;:28,&quot;_2&quot;:-0.4},{&quot;_1&quot;:29,&quot;_2&quot;:-0.35},{&quot;_1&quot;:30,&quot;_2&quot;:-0.3},{&quot;_1&quot;:31,&quot;_2&quot;:-0.25},{&quot;_1&quot;:32,&quot;_2&quot;:-0.2},{&quot;_1&quot;:33,&quot;_2&quot;:-0.15},{&quot;_1&quot;:34,&quot;_2&quot;:-0.1},{&quot;_1&quot;:35,&quot;_2&quot;:-0.05},{&quot;_1&quot;:36,&quot;_2&quot;:0},{&quot;_1&quot;:37,&quot;_2&quot;:0.05},{&quot;_1&quot;:38,&quot;_2&quot;:0.1},{&quot;_1&quot;:39,&quot;_2&quot;:0.15},{&quot;_1&quot;:40,&quot;_2&quot;:0.2},{&quot;_1&quot;:41,&quot;_2&quot;:0.25},{&quot;_1&quot;:42,&quot;_2&quot;:0.3},{&quot;_1&quot;:43,&quot;_2&quot;:0.35},{&quot;_1&quot;:44,&quot;_2&quot;:0.4},{&quot;_1&quot;:45,&quot;_2&quot;:0.45},{&quot;_1&quot;:46,&quot;_2&quot;:0.5},{&quot;_1&quot;:47,&quot;_2&quot;:0.55},{&quot;_1&quot;:48,&quot;_2&quot;:0.6},{&quot;_1&quot;:49,&quot;_2&quot;:0.65},{&quot;_1&quot;:50,&quot;_2&quot;:0.7},{&quot;_1&quot;:51,&quot;_2&quot;:0.75},{&quot;_1&quot;:52,&quot;_2&quot;:0.8},{&quot;_1&quot;:53,&quot;_2&quot;:0.85},{&quot;_1&quot;:54,&quot;_2&quot;:0.9},{&quot;_1&quot;:55,&quot;_2&quot;:0.95},{&quot;_1&quot;:56,&quot;_2&quot;:1},{&quot;_1&quot;:57,&quot;_2&quot;:1.05},{&quot;_1&quot;:58,&quot;_2&quot;:1.1},{&quot;_1&quot;:59,&quot;_2&quot;:1.15},{&quot;_1&quot;:60,&quot;_2&quot;:1.2},{&quot;_1&quot;:61,&quot;_2&quot;:1.25},{&quot;_1&quot;:62,&quot;_2&quot;:1.3},{&quot;_1&quot;:63,&quot;_2&quot;:1.35},{&quot;_1&quot;:64,&quot;_2&quot;:1.4},{&quot;_1&quot;:65,&quot;_2&quot;:1.45},{&quot;_1&quot;:66,&quot;_2&quot;:1.5},{&quot;_1&quot;:67,&quot;_2&quot;:1.55},{&quot;_1&quot;:68,&quot;_2&quot;:1.6},{&quot;_1&quot;:69,&quot;_2&quot;:1.65},{&quot;_1&quot;:70,&quot;_2&quot;:1.7},{&quot;_1&quot;:71,&quot;_2&quot;:1.75}],&quot;genId&quot;:&quot;488628449&quot;}\" type=\"text/x-scoped-javascript\">/*<![CDATA[*/req(['../javascripts/notebook/playground','../javascripts/notebook/magic/lineChart'], \n      function(playground, _magiclineChart) {\n        // data ==> data-this (in observable.js's scopedEval) ==> this in JS => { dataId, dataInit, ... }\n        // this ==> scope (in observable.js's scopedEval) ==> this.parentElement ==> div.container below (toHtml)\n\n        playground.call(data,\n                        this\n                        ,\n                        {\n    \"f\": _magiclineChart,\n    \"o\": {\"x\":\"_1\",\"y\":\"_2\",\"width\":600,\"height\":400}\n  }\n  \n                        \n                        \n                      );\n      }\n    );/*]]>*/</script>\n    <div>\n      <span class=\"chart-total-item-count\"><p data-bind=\"text: value\"><script data-this=\"{&quot;valueId&quot;:&quot;anond9fbce0ee1a444a89302ab6ed916e2a8&quot;,&quot;initialValue&quot;:&quot;72&quot;}\" type=\"text/x-scoped-javascript\">/*<![CDATA[*/\nreq(\n['observable', 'knockout'],\nfunction (O, ko) {\n  ko.applyBindings({\n      value: O.makeObservable(valueId, initialValue)\n    },\n    this\n  );\n});\n        /*]]>*/</script></p> entries total</span>\n      <span class=\"chart-sampling-warning\"><p data-bind=\"text: value\"><script data-this=\"{&quot;valueId&quot;:&quot;anone5b2b0def01c0dfa35b341fbcf0ea4e5&quot;,&quot;initialValue&quot;:&quot;&quot;}\" type=\"text/x-scoped-javascript\">/*<![CDATA[*/\nreq(\n['observable', 'knockout'],\nfunction (O, ko) {\n  ko.applyBindings({\n      value: O.makeObservable(valueId, initialValue)\n    },\n    this\n  );\n});\n        /*]]>*/</script></p></span>\n      <div>\n      </div>\n    </div></div>\n            </div><div class=\"tab-pane\" id=\"tab1500096315-3\">\n            <div>\n      <script data-this=\"{&quot;dataId&quot;:&quot;anondd5d5e6d00c88934ae3df0315c91e0de&quot;,&quot;dataInit&quot;:[{&quot;_1&quot;:0,&quot;_2&quot;:-1.8},{&quot;_1&quot;:1,&quot;_2&quot;:-1.75},{&quot;_1&quot;:2,&quot;_2&quot;:-1.7},{&quot;_1&quot;:3,&quot;_2&quot;:-1.65},{&quot;_1&quot;:4,&quot;_2&quot;:-1.6},{&quot;_1&quot;:5,&quot;_2&quot;:-1.55},{&quot;_1&quot;:6,&quot;_2&quot;:-1.5},{&quot;_1&quot;:7,&quot;_2&quot;:-1.45},{&quot;_1&quot;:8,&quot;_2&quot;:-1.4},{&quot;_1&quot;:9,&quot;_2&quot;:-1.35},{&quot;_1&quot;:10,&quot;_2&quot;:-1.3},{&quot;_1&quot;:11,&quot;_2&quot;:-1.25},{&quot;_1&quot;:12,&quot;_2&quot;:-1.2},{&quot;_1&quot;:13,&quot;_2&quot;:-1.15},{&quot;_1&quot;:14,&quot;_2&quot;:-1.1},{&quot;_1&quot;:15,&quot;_2&quot;:-1.05},{&quot;_1&quot;:16,&quot;_2&quot;:-1},{&quot;_1&quot;:17,&quot;_2&quot;:-0.95},{&quot;_1&quot;:18,&quot;_2&quot;:-0.9},{&quot;_1&quot;:19,&quot;_2&quot;:-0.85},{&quot;_1&quot;:20,&quot;_2&quot;:-0.8},{&quot;_1&quot;:21,&quot;_2&quot;:-0.75},{&quot;_1&quot;:22,&quot;_2&quot;:-0.7},{&quot;_1&quot;:23,&quot;_2&quot;:-0.65},{&quot;_1&quot;:24,&quot;_2&quot;:-0.6},{&quot;_1&quot;:25,&quot;_2&quot;:-0.55},{&quot;_1&quot;:26,&quot;_2&quot;:-0.5},{&quot;_1&quot;:27,&quot;_2&quot;:-0.45},{&quot;_1&quot;:28,&quot;_2&quot;:-0.4},{&quot;_1&quot;:29,&quot;_2&quot;:-0.35},{&quot;_1&quot;:30,&quot;_2&quot;:-0.3},{&quot;_1&quot;:31,&quot;_2&quot;:-0.25},{&quot;_1&quot;:32,&quot;_2&quot;:-0.2},{&quot;_1&quot;:33,&quot;_2&quot;:-0.15},{&quot;_1&quot;:34,&quot;_2&quot;:-0.1},{&quot;_1&quot;:35,&quot;_2&quot;:-0.05},{&quot;_1&quot;:36,&quot;_2&quot;:0},{&quot;_1&quot;:37,&quot;_2&quot;:0.05},{&quot;_1&quot;:38,&quot;_2&quot;:0.1},{&quot;_1&quot;:39,&quot;_2&quot;:0.15},{&quot;_1&quot;:40,&quot;_2&quot;:0.2},{&quot;_1&quot;:41,&quot;_2&quot;:0.25},{&quot;_1&quot;:42,&quot;_2&quot;:0.3},{&quot;_1&quot;:43,&quot;_2&quot;:0.35},{&quot;_1&quot;:44,&quot;_2&quot;:0.4},{&quot;_1&quot;:45,&quot;_2&quot;:0.45},{&quot;_1&quot;:46,&quot;_2&quot;:0.5},{&quot;_1&quot;:47,&quot;_2&quot;:0.55},{&quot;_1&quot;:48,&quot;_2&quot;:0.6},{&quot;_1&quot;:49,&quot;_2&quot;:0.65},{&quot;_1&quot;:50,&quot;_2&quot;:0.7},{&quot;_1&quot;:51,&quot;_2&quot;:0.75},{&quot;_1&quot;:52,&quot;_2&quot;:0.8},{&quot;_1&quot;:53,&quot;_2&quot;:0.85},{&quot;_1&quot;:54,&quot;_2&quot;:0.9},{&quot;_1&quot;:55,&quot;_2&quot;:0.95},{&quot;_1&quot;:56,&quot;_2&quot;:1},{&quot;_1&quot;:57,&quot;_2&quot;:1.05},{&quot;_1&quot;:58,&quot;_2&quot;:1.1},{&quot;_1&quot;:59,&quot;_2&quot;:1.15},{&quot;_1&quot;:60,&quot;_2&quot;:1.2},{&quot;_1&quot;:61,&quot;_2&quot;:1.25},{&quot;_1&quot;:62,&quot;_2&quot;:1.3},{&quot;_1&quot;:63,&quot;_2&quot;:1.35},{&quot;_1&quot;:64,&quot;_2&quot;:1.4},{&quot;_1&quot;:65,&quot;_2&quot;:1.45},{&quot;_1&quot;:66,&quot;_2&quot;:1.5},{&quot;_1&quot;:67,&quot;_2&quot;:1.55},{&quot;_1&quot;:68,&quot;_2&quot;:1.6},{&quot;_1&quot;:69,&quot;_2&quot;:1.65},{&quot;_1&quot;:70,&quot;_2&quot;:1.7},{&quot;_1&quot;:71,&quot;_2&quot;:1.75}],&quot;genId&quot;:&quot;660210461&quot;}\" type=\"text/x-scoped-javascript\">/*<![CDATA[*/req(['../javascripts/notebook/playground','../javascripts/notebook/magic/barChart'], \n      function(playground, _magicbarChart) {\n        // data ==> data-this (in observable.js's scopedEval) ==> this in JS => { dataId, dataInit, ... }\n        // this ==> scope (in observable.js's scopedEval) ==> this.parentElement ==> div.container below (toHtml)\n\n        playground.call(data,\n                        this\n                        ,\n                        {\n    \"f\": _magicbarChart,\n    \"o\": {\"x\":\"_1\",\"y\":\"_2\",\"width\":600,\"height\":400}\n  }\n  \n                        \n                        \n                      );\n      }\n    );/*]]>*/</script>\n    <div>\n      <span class=\"chart-total-item-count\"><p data-bind=\"text: value\"><script data-this=\"{&quot;valueId&quot;:&quot;anon4fea5862802d10a738cc268733d0369e&quot;,&quot;initialValue&quot;:&quot;72&quot;}\" type=\"text/x-scoped-javascript\">/*<![CDATA[*/\nreq(\n['observable', 'knockout'],\nfunction (O, ko) {\n  ko.applyBindings({\n      value: O.makeObservable(valueId, initialValue)\n    },\n    this\n  );\n});\n        /*]]>*/</script></p> entries total</span>\n      <span class=\"chart-sampling-warning\"><p data-bind=\"text: value\"><script data-this=\"{&quot;valueId&quot;:&quot;anon1b1bedaa216dd465dbbea155127d3441&quot;,&quot;initialValue&quot;:&quot;&quot;}\" type=\"text/x-scoped-javascript\">/*<![CDATA[*/\nreq(\n['observable', 'knockout'],\nfunction (O, ko) {\n  ko.applyBindings({\n      value: O.makeObservable(valueId, initialValue)\n    },\n    this\n  );\n});\n        /*]]>*/</script></p></span>\n      <div>\n      </div>\n    </div></div>\n            </div><div class=\"tab-pane\" id=\"tab1500096315-4\">\n            <div>\n      <script data-this=\"{&quot;dataId&quot;:&quot;anon9e0f8b42d42c85ad7f69c8da2003d61a&quot;,&quot;dataInit&quot;:[{&quot;_1&quot;:0,&quot;_2&quot;:-1.8},{&quot;_1&quot;:1,&quot;_2&quot;:-1.75},{&quot;_1&quot;:2,&quot;_2&quot;:-1.7},{&quot;_1&quot;:3,&quot;_2&quot;:-1.65},{&quot;_1&quot;:4,&quot;_2&quot;:-1.6},{&quot;_1&quot;:5,&quot;_2&quot;:-1.55},{&quot;_1&quot;:6,&quot;_2&quot;:-1.5},{&quot;_1&quot;:7,&quot;_2&quot;:-1.45},{&quot;_1&quot;:8,&quot;_2&quot;:-1.4},{&quot;_1&quot;:9,&quot;_2&quot;:-1.35},{&quot;_1&quot;:10,&quot;_2&quot;:-1.3},{&quot;_1&quot;:11,&quot;_2&quot;:-1.25},{&quot;_1&quot;:12,&quot;_2&quot;:-1.2},{&quot;_1&quot;:13,&quot;_2&quot;:-1.15},{&quot;_1&quot;:14,&quot;_2&quot;:-1.1},{&quot;_1&quot;:15,&quot;_2&quot;:-1.05},{&quot;_1&quot;:16,&quot;_2&quot;:-1},{&quot;_1&quot;:17,&quot;_2&quot;:-0.95},{&quot;_1&quot;:18,&quot;_2&quot;:-0.9},{&quot;_1&quot;:19,&quot;_2&quot;:-0.85},{&quot;_1&quot;:20,&quot;_2&quot;:-0.8},{&quot;_1&quot;:21,&quot;_2&quot;:-0.75},{&quot;_1&quot;:22,&quot;_2&quot;:-0.7},{&quot;_1&quot;:23,&quot;_2&quot;:-0.65},{&quot;_1&quot;:24,&quot;_2&quot;:-0.6},{&quot;_1&quot;:25,&quot;_2&quot;:-0.55},{&quot;_1&quot;:26,&quot;_2&quot;:-0.5},{&quot;_1&quot;:27,&quot;_2&quot;:-0.45},{&quot;_1&quot;:28,&quot;_2&quot;:-0.4},{&quot;_1&quot;:29,&quot;_2&quot;:-0.35},{&quot;_1&quot;:30,&quot;_2&quot;:-0.3},{&quot;_1&quot;:31,&quot;_2&quot;:-0.25},{&quot;_1&quot;:32,&quot;_2&quot;:-0.2},{&quot;_1&quot;:33,&quot;_2&quot;:-0.15},{&quot;_1&quot;:34,&quot;_2&quot;:-0.1},{&quot;_1&quot;:35,&quot;_2&quot;:-0.05},{&quot;_1&quot;:36,&quot;_2&quot;:0},{&quot;_1&quot;:37,&quot;_2&quot;:0.05},{&quot;_1&quot;:38,&quot;_2&quot;:0.1},{&quot;_1&quot;:39,&quot;_2&quot;:0.15},{&quot;_1&quot;:40,&quot;_2&quot;:0.2},{&quot;_1&quot;:41,&quot;_2&quot;:0.25},{&quot;_1&quot;:42,&quot;_2&quot;:0.3},{&quot;_1&quot;:43,&quot;_2&quot;:0.35},{&quot;_1&quot;:44,&quot;_2&quot;:0.4},{&quot;_1&quot;:45,&quot;_2&quot;:0.45},{&quot;_1&quot;:46,&quot;_2&quot;:0.5},{&quot;_1&quot;:47,&quot;_2&quot;:0.55},{&quot;_1&quot;:48,&quot;_2&quot;:0.6},{&quot;_1&quot;:49,&quot;_2&quot;:0.65},{&quot;_1&quot;:50,&quot;_2&quot;:0.7},{&quot;_1&quot;:51,&quot;_2&quot;:0.75},{&quot;_1&quot;:52,&quot;_2&quot;:0.8},{&quot;_1&quot;:53,&quot;_2&quot;:0.85},{&quot;_1&quot;:54,&quot;_2&quot;:0.9},{&quot;_1&quot;:55,&quot;_2&quot;:0.95},{&quot;_1&quot;:56,&quot;_2&quot;:1},{&quot;_1&quot;:57,&quot;_2&quot;:1.05},{&quot;_1&quot;:58,&quot;_2&quot;:1.1},{&quot;_1&quot;:59,&quot;_2&quot;:1.15},{&quot;_1&quot;:60,&quot;_2&quot;:1.2},{&quot;_1&quot;:61,&quot;_2&quot;:1.25},{&quot;_1&quot;:62,&quot;_2&quot;:1.3},{&quot;_1&quot;:63,&quot;_2&quot;:1.35},{&quot;_1&quot;:64,&quot;_2&quot;:1.4},{&quot;_1&quot;:65,&quot;_2&quot;:1.45},{&quot;_1&quot;:66,&quot;_2&quot;:1.5},{&quot;_1&quot;:67,&quot;_2&quot;:1.55},{&quot;_1&quot;:68,&quot;_2&quot;:1.6},{&quot;_1&quot;:69,&quot;_2&quot;:1.65},{&quot;_1&quot;:70,&quot;_2&quot;:1.7},{&quot;_1&quot;:71,&quot;_2&quot;:1.75}],&quot;genId&quot;:&quot;257562101&quot;}\" type=\"text/x-scoped-javascript\">/*<![CDATA[*/req(['../javascripts/notebook/playground','../javascripts/notebook/magic/pivotChart'], \n      function(playground, _magicpivotChart) {\n        // data ==> data-this (in observable.js's scopedEval) ==> this in JS => { dataId, dataInit, ... }\n        // this ==> scope (in observable.js's scopedEval) ==> this.parentElement ==> div.container below (toHtml)\n\n        playground.call(data,\n                        this\n                        ,\n                        {\n    \"f\": _magicpivotChart,\n    \"o\": {\"width\":600,\"height\":400,\"derivedAttributes\":{},\"extraOptions\":{}}\n  }\n  \n                        \n                        \n                      );\n      }\n    );/*]]>*/</script>\n    <div>\n      <span class=\"chart-total-item-count\"><p data-bind=\"text: value\"><script data-this=\"{&quot;valueId&quot;:&quot;anon952bfe3cb70bc0997e59cbb24227ea08&quot;,&quot;initialValue&quot;:&quot;72&quot;}\" type=\"text/x-scoped-javascript\">/*<![CDATA[*/\nreq(\n['observable', 'knockout'],\nfunction (O, ko) {\n  ko.applyBindings({\n      value: O.makeObservable(valueId, initialValue)\n    },\n    this\n  );\n});\n        /*]]>*/</script></p> entries total</span>\n      <span class=\"chart-sampling-warning\"><p data-bind=\"text: value\"><script data-this=\"{&quot;valueId&quot;:&quot;anonbd83cc2bc7b102dbd99984436677c217&quot;,&quot;initialValue&quot;:&quot;&quot;}\" type=\"text/x-scoped-javascript\">/*<![CDATA[*/\nreq(\n['observable', 'knockout'],\nfunction (O, ko) {\n  ko.applyBindings({\n      value: O.makeObservable(valueId, initialValue)\n    },\n    this\n  );\n});\n        /*]]>*/</script></p></span>\n      <div>\n      </div>\n    </div></div>\n            </div></div>\n      </div>\n    </div></div>"
      },
      "output_type" : "execute_result",
      "execution_count" : 6,
      "time" : "Took: 4.598s, at 2019-02-02 13:50"
    } ]
  }, {
    "metadata" : {
      "trusted" : true,
      "input_collapsed" : false,
      "collapsed" : false,
      "id" : "5BF6E1DAD39C4EDFB7B955E5F34746CA"
    },
    "cell_type" : "code",
    "source" : [ "" ],
    "outputs" : [ {
      "metadata" : { },
      "data" : {
        "text/html" : ""
      },
      "output_type" : "execute_result",
      "execution_count" : 2,
      "time" : "Took: 3.921s, at 2019-02-02 13:53"
    } ]
  }, {
    "metadata" : {
      "trusted" : true,
      "input_collapsed" : false,
      "collapsed" : false,
      "id" : "D917846C965D46EA88003A9E25EE61A0"
    },
    "cell_type" : "code",
    "source" : [ "" ],
    "outputs" : [ {
      "name" : "stdout",
      "output_type" : "stream",
      "text" : "centersRdd: org.apache.spark.sql.DataFrame = [features: vector]\n"
    }, {
      "metadata" : { },
      "data" : {
        "text/html" : ""
      },
      "output_type" : "execute_result",
      "execution_count" : 1,
      "time" : "Took: 6.941s, at 2019-01-30 18:45"
    } ]
  }, {
    "metadata" : {
      "trusted" : true,
      "input_collapsed" : false,
      "collapsed" : true,
      "id" : "FC00C78331E04E9FACBF18D8E96F72DF"
    },
    "cell_type" : "markdown",
    "source" : "On appelle forme forte les éléments de l’ensemble d’apprentissage qui ont \ntoujours été classés ensemble au cours de plusieurs classifications (initialisations différentes).\nEcrire un script qui permet de trouver le nombre de formes fortes et la cardinalité de ces formes.\nDéterminer les formes fortes pour quelques valeurs de k (k=2, 3, 4, 5 par exemple), \net faire 25 essais à chaque fois."
  }, {
    "metadata" : {
      "trusted" : true,
      "input_collapsed" : false,
      "collapsed" : true,
      "id" : "979DEB5C9450474783192C64BDA4D69C"
    },
    "cell_type" : "markdown",
    "source" : "#Pour K=2"
  }, {
    "metadata" : {
      "trusted" : true,
      "input_collapsed" : false,
      "collapsed" : true,
      "id" : "9947F03C2F2A4A1C97C7FDFCAAD44106"
    },
    "cell_type" : "code",
    "source" : [ "val kmeans = new KMeans()\n", ".setK(20)\n", ".setSeed(1L)\n", ".setMaxIter(200)\n", "\n", "val model2 = kmeans.fit(dataPCA)\n", "\n", "val WSSSE = model.computeCost(dataPCA)\n", "val  centers2 = model2.clusterCenters\n", "println(\"Within Set Sum of Squared Errors = $WSSSE\")\n", "\n", "\n", "\n", "// Trains a k-means model.\n", "import scala.collection.mutable.ArrayBuffer\n", "import org.apache.spark.ml.clustering.KMeans\n", "val WSSSEI = ArrayBuffer[Double]()\n", "val kmeans = new KMeans()\n", "val number = List(2,3,5,10,15,20)\n", "for (n<-number){\n", " \n", "  kmeans.setK(n)\n", "  kmeans.setSeed(1L)\n", "  kmeans.setMaxIter(200)\n", "\n", "    val model_k = kmeans.fit(dataPCA)\n", "    \n", "    val WSSSE = model_k.computeCost(dataPCA)\n", "    WSSSEI += WSSSE\n", "    \n", "    println(\"For each value k =\",n,\"the Error is : \" ,WSSSE)\n", "}" ],
    "outputs" : [ ]
  }, {
    "metadata" : {
      "trusted" : true,
      "input_collapsed" : false,
      "collapsed" : true,
      "id" : "DEFB951E26CE4BFE9E3B2A71144FF418"
    },
    "cell_type" : "code",
    "source" : [ "val fromk2 = model2.transform(dataPCA).select(\"prediction\").collect.map(_.getInt(0))" ],
    "outputs" : [ ]
  }, {
    "metadata" : {
      "trusted" : true,
      "input_collapsed" : false,
      "collapsed" : false,
      "id" : "44C0A30D0294435882E294EA94D24142"
    },
    "cell_type" : "code",
    "source" : [ "import org.apache.spark.ml.clustering.KMeans\n", "\n", "// Loads data.\n", "// Trains a k-means model.\n", "val kmeans = new KMeans().setK(2).setSeed(1L)\n", "val model = kmeans.fit(dataPCA)\n", "\n", "// Evaluate clustering by computing Within Set Sum of Squared Errors.\n", "val WSSS = model.computeCost(dataPCA)\n", "println(s\"Within Set Sum of Squared Errors = $WSSS\")\n", "\n", "// Shows the result.\n", "println(\"Cluster Centers: \")\n", "val B=model.clusterCenters.foreach(println)" ],
    "outputs" : [ {
      "name" : "stdout",
      "output_type" : "stream",
      "text" : "Within Set Sum of Squared Errors = 80.93927436847744\nCluster Centers: \n[-0.5281565789473683,-0.1399657894736842]\n[0.7167821428571428,0.33923571428571425]\nimport org.apache.spark.ml.clustering.KMeans\nkmeans: org.apache.spark.ml.clustering.KMeans = kmeans_2364300239af\nmodel: org.apache.spark.ml.clustering.KMeansModel = kmeans_2364300239af\nWSSS: Double = 80.93927436847744\nB: Unit = ()\n"
    }, {
      "metadata" : { },
      "data" : {
        "text/html" : ""
      },
      "output_type" : "execute_result",
      "execution_count" : 4,
      "time" : "Took: 4.024s, at 2019-02-02 20:20"
    } ]
  }, {
    "metadata" : {
      "trusted" : true,
      "input_collapsed" : false,
      "collapsed" : false,
      "id" : "2E012F599CC14256ACFA09220C141A14"
    },
    "cell_type" : "code",
    "source" : [ "B" ],
    "outputs" : [ {
      "metadata" : { },
      "data" : {
        "text/html" : ""
      },
      "output_type" : "execute_result",
      "execution_count" : 6,
      "time" : "Took: 3.299s, at 2019-02-02 20:21"
    } ]
  }, {
    "metadata" : {
      "trusted" : true,
      "input_collapsed" : false,
      "collapsed" : true,
      "id" : "C8970DB5DC2F45468C91F055A8496514"
    },
    "cell_type" : "code",
    "source" : [ "" ],
    "outputs" : [ ]
  } ],
  "nbformat" : 4
}